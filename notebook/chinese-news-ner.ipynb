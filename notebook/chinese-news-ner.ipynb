{
  "nbformat": 4,
  "nbformat_minor": 0,
  "metadata": {
    "colab": {
      "provenance": []
    },
    "kernelspec": {
      "name": "python3",
      "display_name": "Python 3"
    },
    "language_info": {
      "name": "python"
    },
    "gpuClass": "standard"
  },
  "cells": [
    {
      "cell_type": "markdown",
      "source": [
        "In this notebook, our objective is to build a model that can extract entities (person, location, organization) from Online Chinese news paragraphs.\n",
        "\n",
        "After doing a literature review, the following decisions were made:\n",
        "\n",
        "- **Dataset**: We will use a [dataset](https://github.com/GuocaiL/nlp_corpus/tree/main/open_ner_data/people_daily) extracted from China's People Daily newspaper for training and evaluating our models. This is because the dataset is relevant to our use case and also contains the entities we want to extract.\n",
        "\n",
        "- **Pretrained Models**: We will use pretrained models in SpaCy due to SpaCy's simplicity and design for production use.\n",
        "\n",
        "- **Annotation scheme**: We will largely follow the annotation scheme of OntoNotes 5.0, but we'll combine GPE and Location together.\n",
        "\n",
        "   > \"PERSON\": People, including fictional\n",
        "\n",
        "   > \"ORG\": Companies, agencies, institutions, etc.\n",
        "\n",
        "   > \"GPE\": Countries, cities, states and all other locations including mountain ranges and bodies of water"
      ],
      "metadata": {
        "id": "Gg8gBBywyxYB"
      }
    },
    {
      "cell_type": "code",
      "execution_count": 1,
      "metadata": {
        "colab": {
          "base_uri": "https://localhost:8080/"
        },
        "id": "K4K1S3LLQKi6",
        "outputId": "00d31fd0-d6b1-4130-8a81-a8ed89f984b0"
      },
      "outputs": [
        {
          "output_type": "stream",
          "name": "stdout",
          "text": [
            "Reading package lists... Done\n",
            "Building dependency tree       \n",
            "Reading state information... Done\n",
            "The following package was automatically installed and is no longer required:\n",
            "  libnvidia-common-510\n",
            "Use 'sudo apt autoremove' to remove it.\n",
            "The following additional packages will be installed:\n",
            "  python-pip-whl\n",
            "The following NEW packages will be installed:\n",
            "  python-pip-whl python3.8-venv\n",
            "0 upgraded, 2 newly installed, 0 to remove and 21 not upgraded.\n",
            "Need to get 1,811 kB of archives.\n",
            "After this operation, 2,339 kB of additional disk space will be used.\n",
            "Get:1 http://archive.ubuntu.com/ubuntu focal-updates/universe amd64 python-pip-whl all 20.0.2-5ubuntu1.7 [1,805 kB]\n",
            "Get:2 http://archive.ubuntu.com/ubuntu focal-updates/universe amd64 python3.8-venv amd64 3.8.10-0ubuntu1~20.04.6 [5,448 B]\n",
            "Fetched 1,811 kB in 1s (2,361 kB/s)\n",
            "debconf: unable to initialize frontend: Dialog\n",
            "debconf: (No usable dialog-like program is installed, so the dialog based frontend cannot be used. at /usr/share/perl5/Debconf/FrontEnd/Dialog.pm line 76, <> line 2.)\n",
            "debconf: falling back to frontend: Readline\n",
            "debconf: unable to initialize frontend: Readline\n",
            "debconf: (This frontend requires a controlling tty.)\n",
            "debconf: falling back to frontend: Teletype\n",
            "dpkg-preconfigure: unable to re-open stdin: \n",
            "Selecting previously unselected package python-pip-whl.\n",
            "(Reading database ... 128126 files and directories currently installed.)\n",
            "Preparing to unpack .../python-pip-whl_20.0.2-5ubuntu1.7_all.deb ...\n",
            "Unpacking python-pip-whl (20.0.2-5ubuntu1.7) ...\n",
            "Selecting previously unselected package python3.8-venv.\n",
            "Preparing to unpack .../python3.8-venv_3.8.10-0ubuntu1~20.04.6_amd64.deb ...\n",
            "Unpacking python3.8-venv (3.8.10-0ubuntu1~20.04.6) ...\n",
            "Setting up python-pip-whl (20.0.2-5ubuntu1.7) ...\n",
            "Setting up python3.8-venv (3.8.10-0ubuntu1~20.04.6) ...\n",
            "/bin/bash: .env/bin/activate: No such file or directory\n",
            "Looking in indexes: https://pypi.org/simple, https://us-python.pkg.dev/colab-wheels/public/simple/\n",
            "Requirement already satisfied: pip in /usr/local/lib/python3.8/dist-packages (22.0.4)\n",
            "Collecting pip\n",
            "  Downloading pip-23.0.1-py3-none-any.whl (2.1 MB)\n",
            "\u001b[2K     \u001b[90m━━━━━━━━━━━━━━━━━━━━━━━━━━━━━━━━━━━━━━━━\u001b[0m \u001b[32m2.1/2.1 MB\u001b[0m \u001b[31m14.6 MB/s\u001b[0m eta \u001b[36m0:00:00\u001b[0m\n",
            "\u001b[?25hRequirement already satisfied: setuptools in /usr/local/lib/python3.8/dist-packages (57.4.0)\n",
            "Collecting setuptools\n",
            "  Downloading setuptools-67.4.0-py3-none-any.whl (1.1 MB)\n",
            "\u001b[2K     \u001b[90m━━━━━━━━━━━━━━━━━━━━━━━━━━━━━━━━━━━━━━━━\u001b[0m \u001b[32m1.1/1.1 MB\u001b[0m \u001b[31m14.8 MB/s\u001b[0m eta \u001b[36m0:00:00\u001b[0m\n",
            "\u001b[?25hRequirement already satisfied: wheel in /usr/local/lib/python3.8/dist-packages (0.38.4)\n",
            "Installing collected packages: setuptools, pip\n",
            "  Attempting uninstall: setuptools\n",
            "    Found existing installation: setuptools 57.4.0\n",
            "    Uninstalling setuptools-57.4.0:\n",
            "      Successfully uninstalled setuptools-57.4.0\n",
            "  Attempting uninstall: pip\n",
            "    Found existing installation: pip 22.0.4\n",
            "    Uninstalling pip-22.0.4:\n",
            "      Successfully uninstalled pip-22.0.4\n",
            "\u001b[31mERROR: pip's dependency resolver does not currently take into account all the packages that are installed. This behaviour is the source of the following dependency conflicts.\n",
            "ipython 7.9.0 requires jedi>=0.10, which is not installed.\n",
            "cvxpy 1.2.3 requires setuptools<=64.0.2, but you have setuptools 67.4.0 which is incompatible.\u001b[0m\u001b[31m\n",
            "\u001b[0mSuccessfully installed pip-23.0.1 setuptools-67.4.0\n",
            "Looking in indexes: https://pypi.org/simple, https://us-python.pkg.dev/colab-wheels/public/simple/\n",
            "Requirement already satisfied: spacy in /usr/local/lib/python3.8/dist-packages (3.4.4)\n",
            "Collecting spacy\n",
            "  Downloading spacy-3.5.0-cp38-cp38-manylinux_2_17_x86_64.manylinux2014_x86_64.whl (6.7 MB)\n",
            "\u001b[2K     \u001b[90m━━━━━━━━━━━━━━━━━━━━━━━━━━━━━━━━━━━━━━━━\u001b[0m \u001b[32m6.7/6.7 MB\u001b[0m \u001b[31m57.6 MB/s\u001b[0m eta \u001b[36m0:00:00\u001b[0m\n",
            "\u001b[?25hRequirement already satisfied: catalogue<2.1.0,>=2.0.6 in /usr/local/lib/python3.8/dist-packages (from spacy) (2.0.8)\n",
            "Requirement already satisfied: pydantic!=1.8,!=1.8.1,<1.11.0,>=1.7.4 in /usr/local/lib/python3.8/dist-packages (from spacy) (1.10.5)\n",
            "Requirement already satisfied: packaging>=20.0 in /usr/local/lib/python3.8/dist-packages (from spacy) (23.0)\n",
            "Requirement already satisfied: tqdm<5.0.0,>=4.38.0 in /usr/local/lib/python3.8/dist-packages (from spacy) (4.64.1)\n",
            "Requirement already satisfied: preshed<3.1.0,>=3.0.2 in /usr/local/lib/python3.8/dist-packages (from spacy) (3.0.8)\n",
            "Requirement already satisfied: spacy-loggers<2.0.0,>=1.0.0 in /usr/local/lib/python3.8/dist-packages (from spacy) (1.0.4)\n",
            "Requirement already satisfied: spacy-legacy<3.1.0,>=3.0.11 in /usr/local/lib/python3.8/dist-packages (from spacy) (3.0.12)\n",
            "Requirement already satisfied: thinc<8.2.0,>=8.1.0 in /usr/local/lib/python3.8/dist-packages (from spacy) (8.1.7)\n",
            "Requirement already satisfied: setuptools in /usr/local/lib/python3.8/dist-packages (from spacy) (67.4.0)\n",
            "Requirement already satisfied: numpy>=1.15.0 in /usr/local/lib/python3.8/dist-packages (from spacy) (1.22.4)\n",
            "Requirement already satisfied: requests<3.0.0,>=2.13.0 in /usr/local/lib/python3.8/dist-packages (from spacy) (2.25.1)\n",
            "Requirement already satisfied: langcodes<4.0.0,>=3.2.0 in /usr/local/lib/python3.8/dist-packages (from spacy) (3.3.0)\n",
            "Requirement already satisfied: murmurhash<1.1.0,>=0.28.0 in /usr/local/lib/python3.8/dist-packages (from spacy) (1.0.9)\n",
            "Requirement already satisfied: wasabi<1.2.0,>=0.9.1 in /usr/local/lib/python3.8/dist-packages (from spacy) (0.10.1)\n",
            "Requirement already satisfied: cymem<2.1.0,>=2.0.2 in /usr/local/lib/python3.8/dist-packages (from spacy) (2.0.7)\n",
            "Requirement already satisfied: jinja2 in /usr/local/lib/python3.8/dist-packages (from spacy) (2.11.3)\n",
            "Requirement already satisfied: typer<0.8.0,>=0.3.0 in /usr/local/lib/python3.8/dist-packages (from spacy) (0.7.0)\n",
            "Requirement already satisfied: srsly<3.0.0,>=2.4.3 in /usr/local/lib/python3.8/dist-packages (from spacy) (2.4.5)\n",
            "Requirement already satisfied: smart-open<7.0.0,>=5.2.1 in /usr/local/lib/python3.8/dist-packages (from spacy) (6.3.0)\n",
            "Requirement already satisfied: pathy>=0.10.0 in /usr/local/lib/python3.8/dist-packages (from spacy) (0.10.1)\n",
            "Requirement already satisfied: typing-extensions>=4.2.0 in /usr/local/lib/python3.8/dist-packages (from pydantic!=1.8,!=1.8.1,<1.11.0,>=1.7.4->spacy) (4.5.0)\n",
            "Requirement already satisfied: idna<3,>=2.5 in /usr/local/lib/python3.8/dist-packages (from requests<3.0.0,>=2.13.0->spacy) (2.10)\n",
            "Requirement already satisfied: certifi>=2017.4.17 in /usr/local/lib/python3.8/dist-packages (from requests<3.0.0,>=2.13.0->spacy) (2022.12.7)\n",
            "Requirement already satisfied: chardet<5,>=3.0.2 in /usr/local/lib/python3.8/dist-packages (from requests<3.0.0,>=2.13.0->spacy) (4.0.0)\n",
            "Requirement already satisfied: urllib3<1.27,>=1.21.1 in /usr/local/lib/python3.8/dist-packages (from requests<3.0.0,>=2.13.0->spacy) (1.24.3)\n",
            "Requirement already satisfied: confection<1.0.0,>=0.0.1 in /usr/local/lib/python3.8/dist-packages (from thinc<8.2.0,>=8.1.0->spacy) (0.0.4)\n",
            "Requirement already satisfied: blis<0.8.0,>=0.7.8 in /usr/local/lib/python3.8/dist-packages (from thinc<8.2.0,>=8.1.0->spacy) (0.7.9)\n",
            "Requirement already satisfied: click<9.0.0,>=7.1.1 in /usr/local/lib/python3.8/dist-packages (from typer<0.8.0,>=0.3.0->spacy) (7.1.2)\n",
            "Requirement already satisfied: MarkupSafe>=0.23 in /usr/local/lib/python3.8/dist-packages (from jinja2->spacy) (2.0.1)\n",
            "Installing collected packages: spacy\n",
            "  Attempting uninstall: spacy\n",
            "    Found existing installation: spacy 3.4.4\n",
            "    Uninstalling spacy-3.4.4:\n",
            "      Successfully uninstalled spacy-3.4.4\n",
            "\u001b[31mERROR: pip's dependency resolver does not currently take into account all the packages that are installed. This behaviour is the source of the following dependency conflicts.\n",
            "en-core-web-sm 3.4.1 requires spacy<3.5.0,>=3.4.0, but you have spacy 3.5.0 which is incompatible.\u001b[0m\u001b[31m\n",
            "\u001b[0mSuccessfully installed spacy-3.5.0\n",
            "\u001b[33mWARNING: Running pip as the 'root' user can result in broken permissions and conflicting behaviour with the system package manager. It is recommended to use a virtual environment instead: https://pip.pypa.io/warnings/venv\u001b[0m\u001b[33m\n",
            "\u001b[0m/usr/local/lib/python3.8/dist-packages/torch/cuda/__init__.py:497: UserWarning: Can't initialize NVML\n",
            "  warnings.warn(\"Can't initialize NVML\")\n",
            "2023-02-23 16:01:07.833807: I tensorflow/core/platform/cpu_feature_guard.cc:193] This TensorFlow binary is optimized with oneAPI Deep Neural Network Library (oneDNN) to use the following CPU instructions in performance-critical operations:  AVX2 FMA\n",
            "To enable them in other operations, rebuild TensorFlow with the appropriate compiler flags.\n",
            "2023-02-23 16:01:09.013447: W tensorflow/compiler/xla/stream_executor/platform/default/dso_loader.cc:64] Could not load dynamic library 'libnvinfer.so.7'; dlerror: libnvinfer.so.7: cannot open shared object file: No such file or directory; LD_LIBRARY_PATH: /usr/local/nvidia/lib:/usr/local/nvidia/lib64\n",
            "2023-02-23 16:01:09.013582: W tensorflow/compiler/xla/stream_executor/platform/default/dso_loader.cc:64] Could not load dynamic library 'libnvinfer_plugin.so.7'; dlerror: libnvinfer_plugin.so.7: cannot open shared object file: No such file or directory; LD_LIBRARY_PATH: /usr/local/nvidia/lib:/usr/local/nvidia/lib64\n",
            "2023-02-23 16:01:09.013606: W tensorflow/compiler/tf2tensorrt/utils/py_utils.cc:38] TF-TRT Warning: Cannot dlopen some TensorRT libraries. If you would like to use Nvidia GPU with TensorRT, please make sure the missing libraries mentioned above are installed properly.\n",
            "2023-02-23 16:01:10.679013: E tensorflow/compiler/xla/stream_executor/cuda/cuda_driver.cc:267] failed call to cuInit: CUDA_ERROR_NO_DEVICE: no CUDA-capable device is detected\n",
            "Looking in indexes: https://pypi.org/simple, https://us-python.pkg.dev/colab-wheels/public/simple/\n",
            "Collecting zh-core-web-sm==3.5.0\n",
            "  Downloading https://github.com/explosion/spacy-models/releases/download/zh_core_web_sm-3.5.0/zh_core_web_sm-3.5.0-py3-none-any.whl (48.5 MB)\n",
            "\u001b[2K     \u001b[90m━━━━━━━━━━━━━━━━━━━━━━━━━━━━━━━━━━━━━━━━\u001b[0m \u001b[32m48.5/48.5 MB\u001b[0m \u001b[31m7.6 MB/s\u001b[0m eta \u001b[36m0:00:00\u001b[0m\n",
            "\u001b[?25hCollecting spacy-pkuseg<0.1.0,>=0.0.27\n",
            "  Downloading spacy_pkuseg-0.0.32-cp38-cp38-manylinux_2_17_x86_64.manylinux2014_x86_64.whl (2.4 MB)\n",
            "\u001b[2K     \u001b[90m━━━━━━━━━━━━━━━━━━━━━━━━━━━━━━━━━━━━━━━━\u001b[0m \u001b[32m2.4/2.4 MB\u001b[0m \u001b[31m40.3 MB/s\u001b[0m eta \u001b[36m0:00:00\u001b[0m\n",
            "\u001b[?25hRequirement already satisfied: spacy<3.6.0,>=3.5.0 in /usr/local/lib/python3.8/dist-packages (from zh-core-web-sm==3.5.0) (3.5.0)\n",
            "Requirement already satisfied: catalogue<2.1.0,>=2.0.6 in /usr/local/lib/python3.8/dist-packages (from spacy<3.6.0,>=3.5.0->zh-core-web-sm==3.5.0) (2.0.8)\n",
            "Requirement already satisfied: requests<3.0.0,>=2.13.0 in /usr/local/lib/python3.8/dist-packages (from spacy<3.6.0,>=3.5.0->zh-core-web-sm==3.5.0) (2.25.1)\n",
            "Requirement already satisfied: typer<0.8.0,>=0.3.0 in /usr/local/lib/python3.8/dist-packages (from spacy<3.6.0,>=3.5.0->zh-core-web-sm==3.5.0) (0.7.0)\n",
            "Requirement already satisfied: pathy>=0.10.0 in /usr/local/lib/python3.8/dist-packages (from spacy<3.6.0,>=3.5.0->zh-core-web-sm==3.5.0) (0.10.1)\n",
            "Requirement already satisfied: tqdm<5.0.0,>=4.38.0 in /usr/local/lib/python3.8/dist-packages (from spacy<3.6.0,>=3.5.0->zh-core-web-sm==3.5.0) (4.64.1)\n",
            "Requirement already satisfied: numpy>=1.15.0 in /usr/local/lib/python3.8/dist-packages (from spacy<3.6.0,>=3.5.0->zh-core-web-sm==3.5.0) (1.22.4)\n",
            "Requirement already satisfied: jinja2 in /usr/local/lib/python3.8/dist-packages (from spacy<3.6.0,>=3.5.0->zh-core-web-sm==3.5.0) (2.11.3)\n",
            "Requirement already satisfied: smart-open<7.0.0,>=5.2.1 in /usr/local/lib/python3.8/dist-packages (from spacy<3.6.0,>=3.5.0->zh-core-web-sm==3.5.0) (6.3.0)\n",
            "Requirement already satisfied: packaging>=20.0 in /usr/local/lib/python3.8/dist-packages (from spacy<3.6.0,>=3.5.0->zh-core-web-sm==3.5.0) (23.0)\n",
            "Requirement already satisfied: spacy-loggers<2.0.0,>=1.0.0 in /usr/local/lib/python3.8/dist-packages (from spacy<3.6.0,>=3.5.0->zh-core-web-sm==3.5.0) (1.0.4)\n",
            "Requirement already satisfied: setuptools in /usr/local/lib/python3.8/dist-packages (from spacy<3.6.0,>=3.5.0->zh-core-web-sm==3.5.0) (67.4.0)\n",
            "Requirement already satisfied: spacy-legacy<3.1.0,>=3.0.11 in /usr/local/lib/python3.8/dist-packages (from spacy<3.6.0,>=3.5.0->zh-core-web-sm==3.5.0) (3.0.12)\n",
            "Requirement already satisfied: langcodes<4.0.0,>=3.2.0 in /usr/local/lib/python3.8/dist-packages (from spacy<3.6.0,>=3.5.0->zh-core-web-sm==3.5.0) (3.3.0)\n",
            "Requirement already satisfied: preshed<3.1.0,>=3.0.2 in /usr/local/lib/python3.8/dist-packages (from spacy<3.6.0,>=3.5.0->zh-core-web-sm==3.5.0) (3.0.8)\n",
            "Requirement already satisfied: pydantic!=1.8,!=1.8.1,<1.11.0,>=1.7.4 in /usr/local/lib/python3.8/dist-packages (from spacy<3.6.0,>=3.5.0->zh-core-web-sm==3.5.0) (1.10.5)\n",
            "Requirement already satisfied: cymem<2.1.0,>=2.0.2 in /usr/local/lib/python3.8/dist-packages (from spacy<3.6.0,>=3.5.0->zh-core-web-sm==3.5.0) (2.0.7)\n",
            "Requirement already satisfied: wasabi<1.2.0,>=0.9.1 in /usr/local/lib/python3.8/dist-packages (from spacy<3.6.0,>=3.5.0->zh-core-web-sm==3.5.0) (0.10.1)\n",
            "Requirement already satisfied: thinc<8.2.0,>=8.1.0 in /usr/local/lib/python3.8/dist-packages (from spacy<3.6.0,>=3.5.0->zh-core-web-sm==3.5.0) (8.1.7)\n",
            "Requirement already satisfied: murmurhash<1.1.0,>=0.28.0 in /usr/local/lib/python3.8/dist-packages (from spacy<3.6.0,>=3.5.0->zh-core-web-sm==3.5.0) (1.0.9)\n",
            "Requirement already satisfied: srsly<3.0.0,>=2.4.3 in /usr/local/lib/python3.8/dist-packages (from spacy<3.6.0,>=3.5.0->zh-core-web-sm==3.5.0) (2.4.5)\n",
            "Requirement already satisfied: typing-extensions>=4.2.0 in /usr/local/lib/python3.8/dist-packages (from pydantic!=1.8,!=1.8.1,<1.11.0,>=1.7.4->spacy<3.6.0,>=3.5.0->zh-core-web-sm==3.5.0) (4.5.0)\n",
            "Requirement already satisfied: urllib3<1.27,>=1.21.1 in /usr/local/lib/python3.8/dist-packages (from requests<3.0.0,>=2.13.0->spacy<3.6.0,>=3.5.0->zh-core-web-sm==3.5.0) (1.24.3)\n",
            "Requirement already satisfied: idna<3,>=2.5 in /usr/local/lib/python3.8/dist-packages (from requests<3.0.0,>=2.13.0->spacy<3.6.0,>=3.5.0->zh-core-web-sm==3.5.0) (2.10)\n",
            "Requirement already satisfied: certifi>=2017.4.17 in /usr/local/lib/python3.8/dist-packages (from requests<3.0.0,>=2.13.0->spacy<3.6.0,>=3.5.0->zh-core-web-sm==3.5.0) (2022.12.7)\n",
            "Requirement already satisfied: chardet<5,>=3.0.2 in /usr/local/lib/python3.8/dist-packages (from requests<3.0.0,>=2.13.0->spacy<3.6.0,>=3.5.0->zh-core-web-sm==3.5.0) (4.0.0)\n",
            "Requirement already satisfied: blis<0.8.0,>=0.7.8 in /usr/local/lib/python3.8/dist-packages (from thinc<8.2.0,>=8.1.0->spacy<3.6.0,>=3.5.0->zh-core-web-sm==3.5.0) (0.7.9)\n",
            "Requirement already satisfied: confection<1.0.0,>=0.0.1 in /usr/local/lib/python3.8/dist-packages (from thinc<8.2.0,>=8.1.0->spacy<3.6.0,>=3.5.0->zh-core-web-sm==3.5.0) (0.0.4)\n",
            "Requirement already satisfied: click<9.0.0,>=7.1.1 in /usr/local/lib/python3.8/dist-packages (from typer<0.8.0,>=0.3.0->spacy<3.6.0,>=3.5.0->zh-core-web-sm==3.5.0) (7.1.2)\n",
            "Requirement already satisfied: MarkupSafe>=0.23 in /usr/local/lib/python3.8/dist-packages (from jinja2->spacy<3.6.0,>=3.5.0->zh-core-web-sm==3.5.0) (2.0.1)\n",
            "Installing collected packages: spacy-pkuseg, zh-core-web-sm\n",
            "Successfully installed spacy-pkuseg-0.0.32 zh-core-web-sm-3.5.0\n",
            "\u001b[33mWARNING: Running pip as the 'root' user can result in broken permissions and conflicting behaviour with the system package manager. It is recommended to use a virtual environment instead: https://pip.pypa.io/warnings/venv\u001b[0m\u001b[33m\n",
            "\u001b[0m\u001b[38;5;2m✔ Download and installation successful\u001b[0m\n",
            "You can now load the package via spacy.load('zh_core_web_sm')\n",
            "Looking in indexes: https://pypi.org/simple, https://us-python.pkg.dev/colab-wheels/public/simple/\n",
            "Collecting scikit-multilearn\n",
            "  Downloading scikit_multilearn-0.2.0-py3-none-any.whl (89 kB)\n",
            "\u001b[2K     \u001b[90m━━━━━━━━━━━━━━━━━━━━━━━━━━━━━━━━━━━━━━━━\u001b[0m \u001b[32m89.4/89.4 kB\u001b[0m \u001b[31m4.9 MB/s\u001b[0m eta \u001b[36m0:00:00\u001b[0m\n",
            "\u001b[?25hInstalling collected packages: scikit-multilearn\n",
            "Successfully installed scikit-multilearn-0.2.0\n",
            "\u001b[33mWARNING: Running pip as the 'root' user can result in broken permissions and conflicting behaviour with the system package manager. It is recommended to use a virtual environment instead: https://pip.pypa.io/warnings/venv\u001b[0m\u001b[33m\n",
            "\u001b[0m"
          ]
        }
      ],
      "source": [
        "# Create virtual environment, install packages\n",
        "!sudo apt-get install python3.8-venv\n",
        "!source .env/bin/activate\n",
        "!pip install -U pip setuptools wheel\n",
        "!pip install -U spacy\n",
        "!python -m spacy download zh_core_web_sm\n",
        "!pip install scikit-multilearn"
      ]
    },
    {
      "cell_type": "code",
      "source": [
        "import spacy\n",
        "from spacy import displacy\n",
        "from spacy.tokens import Span, SpanGroup, DocBin\n",
        "from spacy.training import *\n",
        "from spacy.scorer import Scorer\n",
        "from spacy.util import filter_spans, minibatch, compounding\n",
        "from tqdm import tqdm\n",
        "\n",
        "import numpy as np\n",
        "import pandas as pd\n",
        "import matplotlib.pyplot as plt  \n",
        "import seaborn as sns\n",
        "import json\n",
        "import string\n",
        "import os\n",
        "import re\n",
        "from collections import defaultdict, Counter\n",
        "from skmultilearn.model_selection import iterative_train_test_split\n",
        "\n",
        "from google.colab import drive\n",
        "drive.mount('/content/drive')"
      ],
      "metadata": {
        "colab": {
          "base_uri": "https://localhost:8080/"
        },
        "id": "EkHdhUDJShY-",
        "outputId": "daab02c2-d3dc-4153-9701-6d8c1c75fb16"
      },
      "execution_count": 2,
      "outputs": [
        {
          "output_type": "stream",
          "name": "stderr",
          "text": [
            "/usr/local/lib/python3.8/dist-packages/torch/cuda/__init__.py:497: UserWarning: Can't initialize NVML\n",
            "  warnings.warn(\"Can't initialize NVML\")\n"
          ]
        },
        {
          "output_type": "stream",
          "name": "stdout",
          "text": [
            "Mounted at /content/drive\n"
          ]
        }
      ]
    },
    {
      "cell_type": "code",
      "source": [
        "FOLDER_PATH = \"/content/drive/MyDrive/Colab Notebooks/\"\n",
        "PEOPLE_DAILY_FILE = \"people_daily_ner.txt\""
      ],
      "metadata": {
        "id": "uT6qHDNn6vOD"
      },
      "execution_count": 3,
      "outputs": []
    },
    {
      "cell_type": "markdown",
      "source": [
        "## Preprocess data + Compute statistics"
      ],
      "metadata": {
        "id": "UmlcT3swEaMT"
      }
    },
    {
      "cell_type": "markdown",
      "source": [
        "We first have to read and preprocess data into suitable formats. \n",
        "\n",
        "There are a series of tasks we need to do:\n",
        "\n",
        "- Obtain a list of dictionaries for SpaCy training later. This is because SpaCy training requires a specific format.\n",
        "\n",
        "- Obtain lists of text and entities for train-test split\n",
        "\n",
        "- Obtain entity and document counts \n",
        "\n",
        "- Obtain samples to check on specific entity types"
      ],
      "metadata": {
        "id": "5YSEGdqF1FSh"
      }
    },
    {
      "cell_type": "code",
      "source": [
        "label_mapping = {'DATE': 1, 'PERSON': 2, 'ORG': 3, 'GPE': 4}\n",
        "\n",
        "def init_dict_cnt():\n",
        "  \"\"\"Initialise dictionary for counting documents with entity types\"\"\"\n",
        "  return {'EMPTY': 0, 'DATE': 0, 'PERSON': 0, 'ORG': 0, 'GPE': 0}\n",
        "\n",
        "def read_and_process_data(file_path):\n",
        "  \"\"\"Reads text file and returns lists and dictionaries for training, train-test-split, computing statistics and samples\n",
        "     Input: Text file path\n",
        "\n",
        "     Output:\n",
        "        - spacy_data: list of dictionaries eg. {'text': '迈向充满希望的新世纪——一九九八年新年讲话(附图片1张)', 'entities': [(12, 19, 'DATE')]}\n",
        "        - text_list_split: nested list of news text for train-test-split eg. [['迈向充满希望的新世纪——一九九八年新年讲话(附图片1张)']]\n",
        "        - entities_list_split: nested list of entity labels for train-test-split eg. [[1]]\n",
        "        - entities_list_stats: nested list of entity names for computing statistics eg. [['DATE']]\n",
        "        - doc_count: dictionary containing document counts of entity types\n",
        "        - samples_dict: dictionary containing samples of each entity type\n",
        "  \"\"\"\n",
        "  doc_count = init_dict_cnt()\n",
        "\n",
        "  spacy_data = []\n",
        "  text_list_split = []\n",
        "  entities_list_split = []          \n",
        "  entities_list_stats = []\n",
        "  samples_dict = {'DATE': [], 'PERSON': [], 'ORG': [], 'GPE': []}\n",
        "\n",
        "  file_path = FOLDER_PATH + PEOPLE_DAILY_FILE\n",
        "  with open(file_path) as f:\n",
        "      text = \"\"\n",
        "      lines = 0\n",
        "      for word_line in f:\n",
        "        word_dict = json.loads(word_line)\n",
        "        temp_dict = {}\n",
        "        entity_label_list_split = []\n",
        "        entity_label_list_stats = []\n",
        "\n",
        "        temp_dict['text'] = word_dict['text']\n",
        "        temp_dict['entities'] = []\n",
        "        if len(word_dict['entity_list']) > 0:  \n",
        "\n",
        "            for annotation in word_dict['entity_list']:\n",
        "                start = annotation['entity_index']['begin']\n",
        "                end = annotation['entity_index']['end']\n",
        "                label = annotation['entity_type'].upper()\n",
        "                annotation_entity = annotation['entity']\n",
        "                temp_dict['entities'].append((start, end, label))\n",
        "\n",
        "                entity_label_list_split.append(label_mapping[label])\n",
        "                entity_label_list_stats.append(label)\n",
        "                samples_dict[label].append(annotation_entity)\n",
        "\n",
        "            for label in set(entity_label_list_stats):\n",
        "                doc_count[label] += 1\n",
        "\n",
        "        else:\n",
        "          entity_label_list_split.append(0)\n",
        "          entity_label_list_stats.append(\"EMPTY\")\n",
        "          doc_count['EMPTY'] += 1\n",
        "\n",
        "        spacy_data.append(temp_dict)\n",
        "        text_list_split.append([word_dict['text']])\n",
        "        entities_list_split.append(entity_label_list_split)\n",
        "        entities_list_stats.append(entity_label_list_stats)\n",
        "    \n",
        "  return spacy_data, text_list_split, entities_list_split, entities_list_stats, doc_count, samples_dict"
      ],
      "metadata": {
        "id": "ww_Rqten3wUS"
      },
      "execution_count": 4,
      "outputs": []
    },
    {
      "cell_type": "code",
      "source": [
        "spacy_data, text_list_split, entities_list_split, entities_list_stats, doc_count, samples_dict = read_and_process_data(FOLDER_PATH + PEOPLE_DAILY_FILE)"
      ],
      "metadata": {
        "id": "ozPzxCC1AVlC"
      },
      "execution_count": 5,
      "outputs": []
    },
    {
      "cell_type": "code",
      "source": [
        "len(text_list_split)"
      ],
      "metadata": {
        "colab": {
          "base_uri": "https://localhost:8080/"
        },
        "id": "73oeyEZ-7028",
        "outputId": "af23d0ac-e510-4863-83e6-05ae1dcbe392"
      },
      "execution_count": null,
      "outputs": [
        {
          "output_type": "execute_result",
          "data": {
            "text/plain": [
              "19359"
            ]
          },
          "metadata": {},
          "execution_count": 6
        }
      ]
    },
    {
      "cell_type": "markdown",
      "source": [
        "As seen above, we have 19.4K texts in our dataset."
      ],
      "metadata": {
        "id": "yTdFQbDc2io6"
      }
    },
    {
      "cell_type": "code",
      "source": [
        "entities_list_stats_flattened = list(np.concatenate(entities_list_stats).flat)\n",
        "entity_count_type = Counter(entities_list_stats_flattened).keys()\n",
        "entity_count_values = Counter(entities_list_stats_flattened).values()\n",
        "\n",
        "def plot_statistics(x_axis_list, y_axis_list, x_label, y_label, title):\n",
        "  count_df = pd.DataFrame()\n",
        "  count_df[x_label] = x_axis_list\n",
        "  count_df.set_index(x_label)\n",
        "  count_df[y_label] = y_axis_list\n",
        "  count_df.sort_values(by = x_label, inplace = True)\n",
        "  print(count_df)\n",
        "\n",
        "  sns.set(rc={'figure.figsize':(7,5),\"font.size\":13,\"axes.titlesize\":18, \"axes.labelsize\":13, 'xtick.labelsize': 13, 'ytick.labelsize': 13},style=\"white\")\n",
        "  ax = sns.barplot(x=x_label, y=y_label, data=count_df, color = \"b\").set_title(title, weight='bold', pad = 15)\n",
        "  ax.axes.set_xlabel('')\n",
        "\n",
        "plot_statistics(entity_count_type, entity_count_values, x_label = \"Entity Type\", y_label = \"Entity Count\", title = \"People Daily dataset: Number of entities by type\")"
      ],
      "metadata": {
        "colab": {
          "base_uri": "https://localhost:8080/",
          "height": 461
        },
        "id": "ZLl9tkDy7MXR",
        "outputId": "9793f5cd-45d9-4110-a5c8-bc3f2ac4c696"
      },
      "execution_count": null,
      "outputs": [
        {
          "output_type": "stream",
          "name": "stdout",
          "text": [
            "  Entity Type  Entity Count\n",
            "0        DATE         16035\n",
            "3       EMPTY          4650\n",
            "4         GPE         27588\n",
            "1         ORG          3578\n",
            "2      PERSON         19392\n"
          ]
        },
        {
          "output_type": "display_data",
          "data": {
            "text/plain": [
              "<Figure size 504x360 with 1 Axes>"
            ],
            "image/png": "[encoded data removed]"
          },
          "metadata": {}
        }
      ]
    },
    {
      "cell_type": "markdown",
      "source": [
        "From plotting the number of entities by type, among the three entities we're interested in, we see that GPE has the highest occurrence, followed by PERSON and ORG.\n",
        "\n",
        "However, it's worthy to note that this counts entities across all documents, so it might be skewed towards documents that contain large number of entities. Therefore, we should also count documents that have at least 1 of each entity type too."
      ],
      "metadata": {
        "id": "Ot3Jx8fL2o2x"
      }
    },
    {
      "cell_type": "code",
      "source": [
        "plot_statistics(doc_count.keys(), doc_count.values(), x_label = \"Entity Type\", y_label = \"Doc Count\", title = \"People Daily dataset: Number of docs with at least 1 entity\")"
      ],
      "metadata": {
        "colab": {
          "base_uri": "https://localhost:8080/",
          "height": 461
        },
        "id": "P1mgzSpJHeXg",
        "outputId": "22be3377-3d69-4eea-ae1a-c31f6e65711e"
      },
      "execution_count": null,
      "outputs": [
        {
          "output_type": "stream",
          "name": "stdout",
          "text": [
            "  Entity Type  Doc Count\n",
            "1        DATE       8373\n",
            "0       EMPTY       4650\n",
            "4         GPE       9870\n",
            "3         ORG       2354\n",
            "2      PERSON       8160\n"
          ]
        },
        {
          "output_type": "display_data",
          "data": {
            "text/plain": [
              "<Figure size 504x360 with 1 Axes>"
            ],
            "image/png": "[encoded data removed]"
          },
          "metadata": {}
        }
      ]
    },
    {
      "cell_type": "markdown",
      "source": [
        "Now we observe that the disparity between GPE and ORG is not as big as before. Nevertheless, there are still relatively few documents (~2.2K) that contain ORG.\n",
        "\n",
        "we should also note that there are around 4.5K documents that are \"EMPTY\" or have zero entity types. We will still keep these documents in our dataset for training, otherwise the model may struggle with input text with no entities later at runtime.\n"
      ],
      "metadata": {
        "id": "mb1hIn4z3bzo"
      }
    },
    {
      "cell_type": "markdown",
      "source": [
        "Lastly, different datasets may follow different annotation schemes, so it's good to double check whether the definitions are consistent.\n",
        "\n",
        "For the People's Daily dataset, it only contains GPE and not LOC entities, so we want to check whether the GPE entities include non-governing bodies and physical locations."
      ],
      "metadata": {
        "id": "lBF9pmAo4Hev"
      }
    },
    {
      "cell_type": "code",
      "source": [
        "#Check that GPE is inclusive of non-governing bodies\n",
        "set(samples_dict['GPE'][:150])"
      ],
      "metadata": {
        "colab": {
          "base_uri": "https://localhost:8080/"
        },
        "id": "z5qe7TWlZtdo",
        "outputId": "23d4bcc0-6cdb-4ae4-f3a3-b751aac0cb12"
      },
      "execution_count": null,
      "outputs": [
        {
          "output_type": "execute_result",
          "data": {
            "text/plain": [
              "{'上海',\n",
              " '东盟',\n",
              " '中华人民共和国',\n",
              " '中国',\n",
              " '俄罗斯',\n",
              " '内蒙古',\n",
              " '北京',\n",
              " '北京市',\n",
              " '台湾',\n",
              " '合肥市',\n",
              " '唐古拉山',\n",
              " '喜马拉雅山',\n",
              " '大泽',\n",
              " '天安门',\n",
              " '宁夏',\n",
              " '安多县',\n",
              " '安徽',\n",
              " '安徽省',\n",
              " '尼玛县',\n",
              " '山南',\n",
              " '拉萨',\n",
              " '新疆',\n",
              " '日喀则',\n",
              " '日本',\n",
              " '昌都',\n",
              " '法国',\n",
              " '淮河',\n",
              " '澳门',\n",
              " '甘肃',\n",
              " '石景山',\n",
              " '罗马',\n",
              " '美国',\n",
              " '苏州',\n",
              " '蚌埠',\n",
              " '西藏',\n",
              " '贵州',\n",
              " '贵州省',\n",
              " '贵阳',\n",
              " '那曲',\n",
              " '长安街',\n",
              " '长江路',\n",
              " '阿里',\n",
              " '青海',\n",
              " '香港',\n",
              " '黑龙江',\n",
              " '黔南',\n",
              " '黔南州'}"
            ]
          },
          "metadata": {},
          "execution_count": 9
        }
      ]
    },
    {
      "cell_type": "markdown",
      "source": [
        "As seen from the samples above, the GPE entities in the People's Daily dataset do include non-governing bodies and physical locations. Thus, this is well-suited for our use-case."
      ],
      "metadata": {
        "id": "rlgfhq1a4yNN"
      }
    },
    {
      "cell_type": "markdown",
      "source": [
        "## Train, validation, test split"
      ],
      "metadata": {
        "id": "Ho33fa27EMf-"
      }
    },
    {
      "cell_type": "markdown",
      "source": [
        "We will split the dataset into 3, where the train set will be used to train the model, validation set will be used to select the best model and test set will be used for the final evaluation.\n",
        "\n",
        "Before we do so, currently the entity lists we have are of varying lengths. Thus, we need to apply padding first based on the maximum length of an entity list."
      ],
      "metadata": {
        "id": "JJA9Fcu_5IWx"
      }
    },
    {
      "cell_type": "code",
      "source": [
        "def FindMaxLength(lst):\n",
        "    \"\"\"Get maximum length of an entity list\"\"\"\n",
        "    maxList = max(lst, key = lambda i: len(i))\n",
        "    maxLength = len(maxList)\n",
        "    return maxList, maxLength\n",
        "\n",
        "_, list_max_length = FindMaxLength(entities_list_split)"
      ],
      "metadata": {
        "id": "Oo01wgvMh3Vm"
      },
      "execution_count": 6,
      "outputs": []
    },
    {
      "cell_type": "code",
      "source": [
        "#Apply padding to all entity lists\n",
        "for entity_label_list_split in entities_list_split:\n",
        "  entity_label_list_split.extend([0] * (list_max_length - len(entity_label_list_split)))"
      ],
      "metadata": {
        "id": "j7ZoTxWQjGQ_"
      },
      "execution_count": 7,
      "outputs": []
    },
    {
      "cell_type": "code",
      "source": [
        "np.array(entities_list_split).shape"
      ],
      "metadata": {
        "colab": {
          "base_uri": "https://localhost:8080/"
        },
        "id": "c0iyBEhDlSH5",
        "outputId": "aa624476-b2e6-4b4c-88b6-0b2328b7747a"
      },
      "execution_count": null,
      "outputs": [
        {
          "output_type": "execute_result",
          "data": {
            "text/plain": [
              "(19359, 186)"
            ]
          },
          "metadata": {},
          "execution_count": 12
        }
      ]
    },
    {
      "cell_type": "markdown",
      "source": [
        "Now we see that each of our entity lists have a length of 186.\n",
        "\n",
        "We can now proceed to do our train-val-test split. Given that the dataset is a multi-label one (each example text has not one but multiple labels), we have to account for this and split the dataset such that each of the datasets has a relatively equal proportion of entity types. \n",
        "\n",
        "This is important, because we wouldn't want a case where our train, validation or test set only contains one entity type."
      ],
      "metadata": {
        "id": "0M-X5Fd55tke"
      }
    },
    {
      "cell_type": "code",
      "source": [
        "def iterative_train_test_split_dataframe(X, y, test_size):\n",
        "    \"\"\"Split multi-label dataset into training and test sets\"\"\"\n",
        "    df_index = np.expand_dims(X.index.to_numpy(), axis=1)\n",
        "    X_train, y_train, X_test, y_test = iterative_train_test_split(df_index, y, test_size = test_size)\n",
        "    X_train = X.loc[X_train[:,0]]\n",
        "    X_test = X.loc[X_test[:,0]]\n",
        "    return X_train, y_train, X_test, y_test"
      ],
      "metadata": {
        "id": "CePG1Qj01rDT"
      },
      "execution_count": 8,
      "outputs": []
    },
    {
      "cell_type": "code",
      "source": [
        "X_train, y_train, X_test, y_test = iterative_train_test_split_dataframe(pd.DataFrame(text_list_split), np.array(entities_list_split), test_size = 0.2)\n",
        "X_val, y_val, X_test_final, y_test_final = iterative_train_test_split_dataframe(X_test, y_test, test_size = 0.5)"
      ],
      "metadata": {
        "id": "OKCxpPg32yFt"
      },
      "execution_count": 9,
      "outputs": []
    },
    {
      "cell_type": "markdown",
      "source": [
        "The ratio of the train:val:test split used is 80:10:10. This is because the dataset is relatively small, so it will be good have a bigger training set to train the model. \n",
        "\n",
        "In addition, the validation and test sets should still have at least 200 examples per entity type, which should still be sufficient."
      ],
      "metadata": {
        "id": "RnOcKXiT7Ban"
      }
    },
    {
      "cell_type": "code",
      "source": [
        "print(len(X_train), len(X_val), len(X_test_final))"
      ],
      "metadata": {
        "colab": {
          "base_uri": "https://localhost:8080/"
        },
        "id": "zdWgKnCvByRU",
        "outputId": "31a2ea23-6f90-4821-ede8-f8a6f5b8ad9f"
      },
      "execution_count": 10,
      "outputs": [
        {
          "output_type": "stream",
          "name": "stdout",
          "text": [
            "15487 1936 1936\n"
          ]
        }
      ]
    },
    {
      "cell_type": "code",
      "source": [
        "#Create dictionary of index to label mapping\n",
        "index_mapping = {v: k for k, v in label_mapping.items()}\n",
        "index_mapping[0] = \"EMPTY\"\n",
        "index_mapping"
      ],
      "metadata": {
        "colab": {
          "base_uri": "https://localhost:8080/"
        },
        "id": "_m2nJN-38iha",
        "outputId": "69b3f6e2-731c-4413-ee45-96d47d9a03a1"
      },
      "execution_count": 11,
      "outputs": [
        {
          "output_type": "execute_result",
          "data": {
            "text/plain": [
              "{1: 'DATE', 2: 'PERSON', 3: 'ORG', 4: 'GPE', 0: 'EMPTY'}"
            ]
          },
          "metadata": {},
          "execution_count": 11
        }
      ]
    },
    {
      "cell_type": "code",
      "source": [
        "def count_doc_entity_type(target_dataset, index_mapping=index_mapping):\n",
        "  \"\"\"Count number of docs with at least 1 entity type, for training or test sets\"\"\"\n",
        "\n",
        "  doc_count = init_dict_cnt()\n",
        "\n",
        "  for target_list in target_dataset:\n",
        "    if len(set(target_list)) == 1:\n",
        "      doc_count[\"EMPTY\"] += 1\n",
        "    else:\n",
        "      for label in set(target_list):\n",
        "        if label != 0:\n",
        "          doc_count[index_mapping[label]] += 1\n",
        "  \n",
        "  print(doc_count)"
      ],
      "metadata": {
        "id": "U9vZftKEq4Xo"
      },
      "execution_count": 12,
      "outputs": []
    },
    {
      "cell_type": "code",
      "source": [
        "for i in [y_train, y_val, y_test_final]:\n",
        "  count_doc_entity_type(i)"
      ],
      "metadata": {
        "colab": {
          "base_uri": "https://localhost:8080/"
        },
        "id": "o7sR34pxD0rp",
        "outputId": "cbe557ed-52d8-4e4f-d024-effc4c91c2ca"
      },
      "execution_count": 13,
      "outputs": [
        {
          "output_type": "stream",
          "name": "stdout",
          "text": [
            "{'EMPTY': 3721, 'DATE': 6703, 'PERSON': 6550, 'ORG': 1909, 'GPE': 7881}\n",
            "{'EMPTY': 465, 'DATE': 819, 'PERSON': 789, 'ORG': 222, 'GPE': 989}\n",
            "{'EMPTY': 465, 'DATE': 851, 'PERSON': 820, 'ORG': 223, 'GPE': 1000}\n"
          ]
        }
      ]
    },
    {
      "cell_type": "markdown",
      "source": [
        "We can see that after the split, each dataset has a relatively equal proportion of entity types."
      ],
      "metadata": {
        "id": "K1ImfNZW7lQJ"
      }
    },
    {
      "cell_type": "markdown",
      "source": [
        "## Using baseline pretrained model"
      ],
      "metadata": {
        "id": "pc0FZg4S75hu"
      }
    },
    {
      "cell_type": "markdown",
      "source": [
        "Now that we have our train/val/test sets, we can proceed with the modeling. We will first load a pretrained Chinese NER model from SpaCy and evaluate it both qualitatively and quantitatively."
      ],
      "metadata": {
        "id": "u0kcjvWV9CRd"
      }
    },
    {
      "cell_type": "code",
      "source": [
        "nlp_baseline = spacy.load(\"zh_core_web_sm\")"
      ],
      "metadata": {
        "id": "ey22-EomTlFg"
      },
      "execution_count": null,
      "outputs": []
    },
    {
      "cell_type": "code",
      "source": [
        "sample1 = \"陈俊勇（47岁，科技业人员）本月底将到印度尼西亚旅游，加上从未确诊，因此决定继续戴口罩。他说：“我会观察我国未来几个月的确诊病例，如果情况维持或改善，我可能就不戴口罩了。\"\n",
        "sample2 = \"另外，与其他公众一样，公交职员也可选择不戴口罩，不过据《联合早报》观察，大部分巴士车长开车或在转换站走动时仍戴着口罩。《联合早报》记者走访五个地铁站发现，绝大多数工作人员都戴着口罩。在地铁站巡逻的公共交通保安指挥处（Transcom）警员也同样戴着口罩。\"\n",
        "sample3 = \"在开战一周年之际，《联合早报》记者前往波兰采访失去家园的乌克兰难民。这期的早报播客《东谈西论》，听《联合早报》中国新闻组副主任沈泽玮与国际组记者廖慧婷分享他们欧洲之行的所见所闻。《东谈西论》主持人韩咏红也邀请南京大学国际关系学院执行院长朱锋教授回顾俄乌战争一周年对世界格局带来的影响，并且展望战局的下一步发展 。\"\n",
        "sample_list = [sample1, sample2, sample3]\n",
        "\n",
        "def render_ner_samples(ner_model, sample_list):\n",
        "    \"\"\"Apply ner model to a sample list and visualize extracted entities\"\"\"\n",
        "    for index, sample in enumerate(sample_list):\n",
        "      print(\"doc: \" + str(index + 1))\n",
        "      doc = ner_model(sample)\n",
        "      displacy.render(doc, style=\"ent\", jupyter=True)  \n",
        "      print(\"\\n\")"
      ],
      "metadata": {
        "id": "iusndG3FToOy"
      },
      "execution_count": null,
      "outputs": []
    },
    {
      "cell_type": "code",
      "source": [
        "render_ner_samples(nlp_baseline, sample_list)"
      ],
      "metadata": {
        "colab": {
          "base_uri": "https://localhost:8080/",
          "height": 423
        },
        "id": "9nc3MUZKUVth",
        "outputId": "801c6147-9f96-4f14-d80c-0fe822627e8c"
      },
      "execution_count": null,
      "outputs": [
        {
          "output_type": "stream",
          "name": "stdout",
          "text": [
            "doc: 1\n"
          ]
        },
        {
          "output_type": "display_data",
          "data": {
            "text/plain": [
              "<IPython.core.display.HTML object>"
            ],
            "text/html": [
              "<span class=\"tex2jax_ignore\"><div class=\"entities\" style=\"line-height: 2.5; direction: ltr\">\n",
              "<mark class=\"entity\" style=\"background: #aa9cfc; padding: 0.45em 0.6em; margin: 0 0.25em; line-height: 1; border-radius: 0.35em;\">\n",
              "    陈俊勇\n",
              "    <span style=\"font-size: 0.8em; font-weight: bold; line-height: 1; border-radius: 0.35em; vertical-align: middle; margin-left: 0.5rem\">PERSON</span>\n",
              "</mark>\n",
              "（\n",
              "<mark class=\"entity\" style=\"background: #bfe1d9; padding: 0.45em 0.6em; margin: 0 0.25em; line-height: 1; border-radius: 0.35em;\">\n",
              "    47岁\n",
              "    <span style=\"font-size: 0.8em; font-weight: bold; line-height: 1; border-radius: 0.35em; vertical-align: middle; margin-left: 0.5rem\">DATE</span>\n",
              "</mark>\n",
              "，科技业人员）\n",
              "<mark class=\"entity\" style=\"background: #bfe1d9; padding: 0.45em 0.6em; margin: 0 0.25em; line-height: 1; border-radius: 0.35em;\">\n",
              "    本月底\n",
              "    <span style=\"font-size: 0.8em; font-weight: bold; line-height: 1; border-radius: 0.35em; vertical-align: middle; margin-left: 0.5rem\">DATE</span>\n",
              "</mark>\n",
              "将到\n",
              "<mark class=\"entity\" style=\"background: #feca74; padding: 0.45em 0.6em; margin: 0 0.25em; line-height: 1; border-radius: 0.35em;\">\n",
              "    印度尼西亚\n",
              "    <span style=\"font-size: 0.8em; font-weight: bold; line-height: 1; border-radius: 0.35em; vertical-align: middle; margin-left: 0.5rem\">GPE</span>\n",
              "</mark>\n",
              "旅游，加上从未确诊，因此决定继续戴口罩。他说：“我会观察我国\n",
              "<mark class=\"entity\" style=\"background: #bfe1d9; padding: 0.45em 0.6em; margin: 0 0.25em; line-height: 1; border-radius: 0.35em;\">\n",
              "    未来几个月\n",
              "    <span style=\"font-size: 0.8em; font-weight: bold; line-height: 1; border-radius: 0.35em; vertical-align: middle; margin-left: 0.5rem\">DATE</span>\n",
              "</mark>\n",
              "的确诊病例，如果情况维持或改善，我可能就不戴口罩了。</div></span>"
            ]
          },
          "metadata": {}
        },
        {
          "output_type": "stream",
          "name": "stdout",
          "text": [
            "\n",
            "\n",
            "doc: 2\n"
          ]
        },
        {
          "output_type": "display_data",
          "data": {
            "text/plain": [
              "<IPython.core.display.HTML object>"
            ],
            "text/html": [
              "<span class=\"tex2jax_ignore\"><div class=\"entities\" style=\"line-height: 2.5; direction: ltr\">另外，与其他公众一样，公交职员也可选择不戴口罩，不过据《\n",
              "<mark class=\"entity\" style=\"background: #7aecec; padding: 0.45em 0.6em; margin: 0 0.25em; line-height: 1; border-radius: 0.35em;\">\n",
              "    联合早报\n",
              "    <span style=\"font-size: 0.8em; font-weight: bold; line-height: 1; border-radius: 0.35em; vertical-align: middle; margin-left: 0.5rem\">ORG</span>\n",
              "</mark>\n",
              "》观察，大部分巴士车长开车或在转换站走动时仍戴着口罩。《\n",
              "<mark class=\"entity\" style=\"background: #7aecec; padding: 0.45em 0.6em; margin: 0 0.25em; line-height: 1; border-radius: 0.35em;\">\n",
              "    联合早报\n",
              "    <span style=\"font-size: 0.8em; font-weight: bold; line-height: 1; border-radius: 0.35em; vertical-align: middle; margin-left: 0.5rem\">ORG</span>\n",
              "</mark>\n",
              "》记者走访\n",
              "<mark class=\"entity\" style=\"background: #e4e7d2; padding: 0.45em 0.6em; margin: 0 0.25em; line-height: 1; border-radius: 0.35em;\">\n",
              "    五\n",
              "    <span style=\"font-size: 0.8em; font-weight: bold; line-height: 1; border-radius: 0.35em; vertical-align: middle; margin-left: 0.5rem\">CARDINAL</span>\n",
              "</mark>\n",
              "个\n",
              "<mark class=\"entity\" style=\"background: #7aecec; padding: 0.45em 0.6em; margin: 0 0.25em; line-height: 1; border-radius: 0.35em;\">\n",
              "    地铁站\n",
              "    <span style=\"font-size: 0.8em; font-weight: bold; line-height: 1; border-radius: 0.35em; vertical-align: middle; margin-left: 0.5rem\">ORG</span>\n",
              "</mark>\n",
              "发现，绝大多数工作人员都戴着口罩。在\n",
              "<mark class=\"entity\" style=\"background: #ff9561; padding: 0.45em 0.6em; margin: 0 0.25em; line-height: 1; border-radius: 0.35em;\">\n",
              "    地铁站\n",
              "    <span style=\"font-size: 0.8em; font-weight: bold; line-height: 1; border-radius: 0.35em; vertical-align: middle; margin-left: 0.5rem\">LOC</span>\n",
              "</mark>\n",
              "巡逻的公共交通保安指挥处（\n",
              "<mark class=\"entity\" style=\"background: #7aecec; padding: 0.45em 0.6em; margin: 0 0.25em; line-height: 1; border-radius: 0.35em;\">\n",
              "    Transcom\n",
              "    <span style=\"font-size: 0.8em; font-weight: bold; line-height: 1; border-radius: 0.35em; vertical-align: middle; margin-left: 0.5rem\">ORG</span>\n",
              "</mark>\n",
              "）警员也同样戴着口罩。</div></span>"
            ]
          },
          "metadata": {}
        },
        {
          "output_type": "stream",
          "name": "stdout",
          "text": [
            "\n",
            "\n",
            "doc: 3\n"
          ]
        },
        {
          "output_type": "display_data",
          "data": {
            "text/plain": [
              "<IPython.core.display.HTML object>"
            ],
            "text/html": [
              "<span class=\"tex2jax_ignore\"><div class=\"entities\" style=\"line-height: 2.5; direction: ltr\">在开战一周年之际，《\n",
              "<mark class=\"entity\" style=\"background: #7aecec; padding: 0.45em 0.6em; margin: 0 0.25em; line-height: 1; border-radius: 0.35em;\">\n",
              "    联合早报\n",
              "    <span style=\"font-size: 0.8em; font-weight: bold; line-height: 1; border-radius: 0.35em; vertical-align: middle; margin-left: 0.5rem\">ORG</span>\n",
              "</mark>\n",
              "》记者前往\n",
              "<mark class=\"entity\" style=\"background: #feca74; padding: 0.45em 0.6em; margin: 0 0.25em; line-height: 1; border-radius: 0.35em;\">\n",
              "    波兰\n",
              "    <span style=\"font-size: 0.8em; font-weight: bold; line-height: 1; border-radius: 0.35em; vertical-align: middle; margin-left: 0.5rem\">GPE</span>\n",
              "</mark>\n",
              "采访失去家园的\n",
              "<mark class=\"entity\" style=\"background: #c887fb; padding: 0.45em 0.6em; margin: 0 0.25em; line-height: 1; border-radius: 0.35em;\">\n",
              "    乌克兰\n",
              "    <span style=\"font-size: 0.8em; font-weight: bold; line-height: 1; border-radius: 0.35em; vertical-align: middle; margin-left: 0.5rem\">NORP</span>\n",
              "</mark>\n",
              "难民。这期的早报播客《\n",
              "<mark class=\"entity\" style=\"background: #f0d0ff; padding: 0.45em 0.6em; margin: 0 0.25em; line-height: 1; border-radius: 0.35em;\">\n",
              "    东谈西论\n",
              "    <span style=\"font-size: 0.8em; font-weight: bold; line-height: 1; border-radius: 0.35em; vertical-align: middle; margin-left: 0.5rem\">WORK_OF_ART</span>\n",
              "</mark>\n",
              "》，听《\n",
              "<mark class=\"entity\" style=\"background: #7aecec; padding: 0.45em 0.6em; margin: 0 0.25em; line-height: 1; border-radius: 0.35em;\">\n",
              "    联合早报\n",
              "    <span style=\"font-size: 0.8em; font-weight: bold; line-height: 1; border-radius: 0.35em; vertical-align: middle; margin-left: 0.5rem\">ORG</span>\n",
              "</mark>\n",
              "》\n",
              "<mark class=\"entity\" style=\"background: #7aecec; padding: 0.45em 0.6em; margin: 0 0.25em; line-height: 1; border-radius: 0.35em;\">\n",
              "    中国新闻组\n",
              "    <span style=\"font-size: 0.8em; font-weight: bold; line-height: 1; border-radius: 0.35em; vertical-align: middle; margin-left: 0.5rem\">ORG</span>\n",
              "</mark>\n",
              "副主任\n",
              "<mark class=\"entity\" style=\"background: #aa9cfc; padding: 0.45em 0.6em; margin: 0 0.25em; line-height: 1; border-radius: 0.35em;\">\n",
              "    沈泽玮\n",
              "    <span style=\"font-size: 0.8em; font-weight: bold; line-height: 1; border-radius: 0.35em; vertical-align: middle; margin-left: 0.5rem\">PERSON</span>\n",
              "</mark>\n",
              "与国际组记者\n",
              "<mark class=\"entity\" style=\"background: #aa9cfc; padding: 0.45em 0.6em; margin: 0 0.25em; line-height: 1; border-radius: 0.35em;\">\n",
              "    廖慧婷\n",
              "    <span style=\"font-size: 0.8em; font-weight: bold; line-height: 1; border-radius: 0.35em; vertical-align: middle; margin-left: 0.5rem\">PERSON</span>\n",
              "</mark>\n",
              "分享他们\n",
              "<mark class=\"entity\" style=\"background: #ff9561; padding: 0.45em 0.6em; margin: 0 0.25em; line-height: 1; border-radius: 0.35em;\">\n",
              "    欧洲\n",
              "    <span style=\"font-size: 0.8em; font-weight: bold; line-height: 1; border-radius: 0.35em; vertical-align: middle; margin-left: 0.5rem\">LOC</span>\n",
              "</mark>\n",
              "之行的所见所闻。《\n",
              "<mark class=\"entity\" style=\"background: #f0d0ff; padding: 0.45em 0.6em; margin: 0 0.25em; line-height: 1; border-radius: 0.35em;\">\n",
              "    东谈西论\n",
              "    <span style=\"font-size: 0.8em; font-weight: bold; line-height: 1; border-radius: 0.35em; vertical-align: middle; margin-left: 0.5rem\">WORK_OF_ART</span>\n",
              "</mark>\n",
              "》主持人\n",
              "<mark class=\"entity\" style=\"background: #aa9cfc; padding: 0.45em 0.6em; margin: 0 0.25em; line-height: 1; border-radius: 0.35em;\">\n",
              "    韩咏红\n",
              "    <span style=\"font-size: 0.8em; font-weight: bold; line-height: 1; border-radius: 0.35em; vertical-align: middle; margin-left: 0.5rem\">PERSON</span>\n",
              "</mark>\n",
              "也邀请\n",
              "<mark class=\"entity\" style=\"background: #7aecec; padding: 0.45em 0.6em; margin: 0 0.25em; line-height: 1; border-radius: 0.35em;\">\n",
              "    南京大学国际关系学院\n",
              "    <span style=\"font-size: 0.8em; font-weight: bold; line-height: 1; border-radius: 0.35em; vertical-align: middle; margin-left: 0.5rem\">ORG</span>\n",
              "</mark>\n",
              "执行院长\n",
              "<mark class=\"entity\" style=\"background: #aa9cfc; padding: 0.45em 0.6em; margin: 0 0.25em; line-height: 1; border-radius: 0.35em;\">\n",
              "    朱锋\n",
              "    <span style=\"font-size: 0.8em; font-weight: bold; line-height: 1; border-radius: 0.35em; vertical-align: middle; margin-left: 0.5rem\">PERSON</span>\n",
              "</mark>\n",
              "教授回顾\n",
              "<mark class=\"entity\" style=\"background: #7aecec; padding: 0.45em 0.6em; margin: 0 0.25em; line-height: 1; border-radius: 0.35em;\">\n",
              "    俄乌战争\n",
              "    <span style=\"font-size: 0.8em; font-weight: bold; line-height: 1; border-radius: 0.35em; vertical-align: middle; margin-left: 0.5rem\">ORG</span>\n",
              "</mark>\n",
              "一周年对世界格局带来的影响，并且展望战局的下一步发展 。</div></span>"
            ]
          },
          "metadata": {}
        },
        {
          "output_type": "stream",
          "name": "stdout",
          "text": [
            "\n",
            "\n"
          ]
        }
      ]
    },
    {
      "cell_type": "markdown",
      "source": [
        "From visualizing the entities the model extracted from the samples, it seems to be doing a pretty good job for PERSON and GPE/LOC entities. However, it's making several mistakes for ORG, such as wrongly tagging \"俄乌战争\" or Russian-Ukrainian War as ORG.\n",
        "\n",
        "We can evaluate its performance more quantitatively by looking at F1-score, precision and recall per entity type."
      ],
      "metadata": {
        "id": "oDFrzp2Q9Qwo"
      }
    },
    {
      "cell_type": "code",
      "source": [
        "def evaluate_per_category_metrics(ner_model, spacy_data, indexes):\n",
        "    \"\"\"Compute F1 score, Precision and Recall for the entities we're interested in\"\"\"\n",
        "    scorer = Scorer()\n",
        "    examples = []\n",
        "\n",
        "    for index in indexes:\n",
        "        text = spacy_data[index]['text'] \n",
        "        labels = spacy_data[index]['entities']\n",
        "        doc_gold_text = ner_model.make_doc(text)\n",
        "        example = Example.from_dict(doc_gold_text, {\"entities\": labels})\n",
        "        example.predicted = ner_model(text)\n",
        "        examples.append(example)\n",
        "        \n",
        "    return scorer.score(examples)['ents_per_type']\n",
        "\n",
        "entity_type_scores = evaluate_per_category_metrics(nlp_baseline, spacy_data, X_test_final.index)"
      ],
      "metadata": {
        "colab": {
          "base_uri": "https://localhost:8080/"
        },
        "id": "NDjSP8RdTfjn",
        "outputId": "ef90eebb-f91b-4d9e-df63-89fded809f5c"
      },
      "execution_count": null,
      "outputs": [
        {
          "output_type": "stream",
          "name": "stderr",
          "text": [
            "/usr/local/lib/python3.8/dist-packages/spacy/training/iob_utils.py:149: UserWarning: [W030] Some entities could not be aligned in the text \"实现祖国的完全统一,是海内外全体中国人的共同心愿。通过中葡双方的合作和努力,按照“一国两制”方针和澳...\" with entities \"[(16, 18, 'GPE'), (49, 51, 'GPE'), (57, 65, 'DATE'...\". Use `spacy.training.offsets_to_biluo_tags(nlp.make_doc(text), entities)` to check the alignment. Misaligned entities ('-') will be ignored during training.\n",
            "  warnings.warn(\n",
            "/usr/local/lib/python3.8/dist-packages/spacy/training/iob_utils.py:149: UserWarning: [W030] Some entities could not be aligned in the text \"『八五』以来,胜利油田在渤海湾极浅海海域展开了大规模勘探开发会战。一九九七年初,胜利油田提出了奋战一...\" with entities \"[(12, 15, 'GPE'), (33, 38, 'DATE'), (91, 94, 'PERS...\". Use `spacy.training.offsets_to_biluo_tags(nlp.make_doc(text), entities)` to check the alignment. Misaligned entities ('-') will be ignored during training.\n",
            "  warnings.warn(\n",
            "/usr/local/lib/python3.8/dist-packages/spacy/training/iob_utils.py:149: UserWarning: [W030] Some entities could not be aligned in the text \"恩佐说,南非同中国建交是两国300多年交往的自然结果。他说,中国与非洲的牢固关系在很大程度上是建立在...\" with entities \"[(0, 2, 'PERSON'), (4, 6, 'GPE'), (7, 9, 'GPE'), (...\". Use `spacy.training.offsets_to_biluo_tags(nlp.make_doc(text), entities)` to check the alignment. Misaligned entities ('-') will be ignored during training.\n",
            "  warnings.warn(\n",
            "/usr/local/lib/python3.8/dist-packages/spacy/training/iob_utils.py:149: UserWarning: [W030] Some entities could not be aligned in the text \"钱其琛说,他同恩佐的会谈取得了广泛的一致和积极的成果。两国政府就建交后互设总领事馆进行了换文,两国建...\" with entities \"[(0, 3, 'PERSON'), (7, 9, 'PERSON'), (53, 55, 'GPE...\". Use `spacy.training.offsets_to_biluo_tags(nlp.make_doc(text), entities)` to check the alignment. Misaligned entities ('-') will be ignored during training.\n",
            "  warnings.warn(\n",
            "/usr/local/lib/python3.8/dist-packages/spacy/training/iob_utils.py:149: UserWarning: [W030] Some entities could not be aligned in the text \"美国马里兰州的盖茨堡镇近日举办新年灯展。200多件灯饰作品以卡通人物和动物为主要造型,设置在长约6公...\" with entities \"[(0, 2, 'GPE'), (2, 6, 'GPE'), (7, 11, 'GPE'), (11...\". Use `spacy.training.offsets_to_biluo_tags(nlp.make_doc(text), entities)` to check the alignment. Misaligned entities ('-') will be ignored during training.\n",
            "  warnings.warn(\n",
            "/usr/local/lib/python3.8/dist-packages/spacy/training/iob_utils.py:149: UserWarning: [W030] Some entities could not be aligned in the text \"百年老矿江西萍乡矿务局近年来摒弃传统管理模式,建立行之有效的管理机制和激励机制,实现扭亏为盈。这是矿...\" with entities \"[(4, 6, 'GPE'), (6, 8, 'GPE'), (60, 63, 'PERSON')]\". Use `spacy.training.offsets_to_biluo_tags(nlp.make_doc(text), entities)` to check the alignment. Misaligned entities ('-') will be ignored during training.\n",
            "  warnings.warn(\n",
            "/usr/local/lib/python3.8/dist-packages/spacy/training/iob_utils.py:149: UserWarning: [W030] Some entities could not be aligned in the text \"忆及幼年所见门联:老人点头多一岁,童子拍手贺新年;而今七老八十,每逢岁末除旧迎新时,总会想点什么。今...\" with entities \"[(2, 4, 'DATE'), (22, 24, 'DATE'), (25, 27, 'DATE'...\". Use `spacy.training.offsets_to_biluo_tags(nlp.make_doc(text), entities)` to check the alignment. Misaligned entities ('-') will be ignored during training.\n",
            "  warnings.warn(\n",
            "/usr/local/lib/python3.8/dist-packages/spacy/training/iob_utils.py:149: UserWarning: [W030] Some entities could not be aligned in the text \"(关山月)\" with entities \"[(1, 4, 'PERSON')]\". Use `spacy.training.offsets_to_biluo_tags(nlp.make_doc(text), entities)` to check the alignment. Misaligned entities ('-') will be ignored during training.\n",
            "  warnings.warn(\n",
            "/usr/local/lib/python3.8/dist-packages/spacy/training/iob_utils.py:149: UserWarning: [W030] Some entities could not be aligned in the text \"我来到水产摊位前,两只大铁盆内盛满了鲜活鱼儿,有鲤鱼、鲫鱼、武昌鱼、鲶鱼等。鱼是我们常见的美食佳肴,...\" with entities \"[(138, 140, 'GPE'), (229, 231, 'GPE'), (231, 233, ...\". Use `spacy.training.offsets_to_biluo_tags(nlp.make_doc(text), entities)` to check the alignment. Misaligned entities ('-') will be ignored during training.\n",
            "  warnings.warn(\n",
            "/usr/local/lib/python3.8/dist-packages/spacy/training/iob_utils.py:149: UserWarning: [W030] Some entities could not be aligned in the text \"(陈少华)\" with entities \"[(1, 4, 'PERSON')]\". Use `spacy.training.offsets_to_biluo_tags(nlp.make_doc(text), entities)` to check the alignment. Misaligned entities ('-') will be ignored during training.\n",
            "  warnings.warn(\n",
            "/usr/local/lib/python3.8/dist-packages/spacy/training/iob_utils.py:149: UserWarning: [W030] Some entities could not be aligned in the text \"出席茶话会的还有:中央军委委员傅全有、于永波、王克、王瑞林,全国人大常委会秘书长曹志,全国政协秘书长...\" with entities \"[(9, 13, 'ORG'), (15, 18, 'PERSON'), (19, 22, 'PER...\". Use `spacy.training.offsets_to_biluo_tags(nlp.make_doc(text), entities)` to check the alignment. Misaligned entities ('-') will be ignored during training.\n",
            "  warnings.warn(\n",
            "/usr/local/lib/python3.8/dist-packages/spacy/training/iob_utils.py:149: UserWarning: [W030] Some entities could not be aligned in the text \"本报北京1月1日讯记者刘小明报道:1998年第一天,北京、上海同时举行以全民健身为主题的元旦登高活动...\" with entities \"[(2, 4, 'GPE'), (4, 8, 'DATE'), (11, 14, 'PERSON')...\". Use `spacy.training.offsets_to_biluo_tags(nlp.make_doc(text), entities)` to check the alignment. Misaligned entities ('-') will be ignored during training.\n",
            "  warnings.warn(\n",
            "/usr/local/lib/python3.8/dist-packages/spacy/training/iob_utils.py:149: UserWarning: [W030] Some entities could not be aligned in the text \"长城脚下,同去年大雪纷飞的元旦不同,今年的新年晴空万里,阳光洒遍八达岭起伏的群山。北京市各行各业的体...\" with entities \"[(0, 2, 'GPE'), (6, 8, 'DATE'), (13, 15, 'DATE'), ...\". Use `spacy.training.offsets_to_biluo_tags(nlp.make_doc(text), entities)` to check the alignment. Misaligned entities ('-') will be ignored during training.\n",
            "  warnings.warn(\n",
            "/usr/local/lib/python3.8/dist-packages/spacy/training/iob_utils.py:149: UserWarning: [W030] Some entities could not be aligned in the text \"展望1998年,尽管两岸关系中还存在着种种曲折和困难,但寒冬终将过去,无人能阻挡春天脚步的临近。我们...\" with entities \"[(2, 7, 'DATE'), (28, 30, 'DATE'), (40, 42, 'DATE'...\". Use `spacy.training.offsets_to_biluo_tags(nlp.make_doc(text), entities)` to check the alignment. Misaligned entities ('-') will be ignored during training.\n",
            "  warnings.warn(\n",
            "/usr/local/lib/python3.8/dist-packages/spacy/training/iob_utils.py:149: UserWarning: [W030] Some entities could not be aligned in the text \"莫桑比克总统希萨诺31日在马普托发表新年文告,呼吁全体人民为确保国家1998年经济和社会发展计划取得...\" with entities \"[(0, 4, 'GPE'), (6, 9, 'PERSON'), (9, 12, 'DATE'),...\". Use `spacy.training.offsets_to_biluo_tags(nlp.make_doc(text), entities)` to check the alignment. Misaligned entities ('-') will be ignored during training.\n",
            "  warnings.warn(\n",
            "/usr/local/lib/python3.8/dist-packages/spacy/training/iob_utils.py:149: UserWarning: [W030] Some entities could not be aligned in the text \"有人问小扎耶德想不想到中国去玩,他说:“我还要到中国去上学呢!”\" with entities \"[(4, 7, 'PERSON'), (11, 13, 'GPE'), (24, 26, 'GPE'...\". Use `spacy.training.offsets_to_biluo_tags(nlp.make_doc(text), entities)` to check the alignment. Misaligned entities ('-') will be ignored during training.\n",
            "  warnings.warn(\n",
            "/usr/local/lib/python3.8/dist-packages/spacy/training/iob_utils.py:149: UserWarning: [W030] Some entities could not be aligned in the text \"据新华社联合国12月31日电(记者周锡生)中国常驻联合国代表秦华孙大使31日在纽约联合国总部接受本社...\" with entities \"[(1, 4, 'ORG'), (4, 7, 'ORG'), (7, 13, 'DATE'), (1...\". Use `spacy.training.offsets_to_biluo_tags(nlp.make_doc(text), entities)` to check the alignment. Misaligned entities ('-') will be ignored during training.\n",
            "  warnings.warn(\n",
            "/usr/local/lib/python3.8/dist-packages/spacy/training/iob_utils.py:149: UserWarning: [W030] Some entities could not be aligned in the text \"2、世纪之声(中国画)(张彦)\" with entities \"[(12, 14, 'PERSON')]\". Use `spacy.training.offsets_to_biluo_tags(nlp.make_doc(text), entities)` to check the alignment. Misaligned entities ('-') will be ignored during training.\n",
            "  warnings.warn(\n",
            "/usr/local/lib/python3.8/dist-packages/spacy/training/iob_utils.py:149: UserWarning: [W030] Some entities could not be aligned in the text \"5、我们的队伍向太阳(中国画)(苗再新李翔)\" with entities \"[(16, 19, 'PERSON'), (19, 21, 'PERSON')]\". Use `spacy.training.offsets_to_biluo_tags(nlp.make_doc(text), entities)` to check the alignment. Misaligned entities ('-') will be ignored during training.\n",
            "  warnings.warn(\n",
            "/usr/local/lib/python3.8/dist-packages/spacy/training/iob_utils.py:149: UserWarning: [W030] Some entities could not be aligned in the text \"人民没有忘记——访孔繁森、李润五、马恩华的亲人(附图片1张)\" with entities \"[(9, 12, 'PERSON'), (13, 16, 'PERSON'), (17, 20, '...\". Use `spacy.training.offsets_to_biluo_tags(nlp.make_doc(text), entities)` to check the alignment. Misaligned entities ('-') will be ignored during training.\n",
            "  warnings.warn(\n",
            "/usr/local/lib/python3.8/dist-packages/spacy/training/iob_utils.py:149: UserWarning: [W030] Some entities could not be aligned in the text \"垦区每年划拨1500万元科研经费,专事农业新技术研究开发,组装高产模式,推广适用技术。北大荒机械化作...\" with entities \"[(43, 46, 'GPE'), (77, 80, 'GPE'), (108, 110, 'GPE...\". Use `spacy.training.offsets_to_biluo_tags(nlp.make_doc(text), entities)` to check the alignment. Misaligned entities ('-') will be ignored during training.\n",
            "  warnings.warn(\n",
            "/usr/local/lib/python3.8/dist-packages/spacy/training/iob_utils.py:149: UserWarning: [W030] Some entities could not be aligned in the text \"1996年8月,一场特大洪水,将全村的耕地几乎全部冲毁。在党支部的带领下,村民们横下一条心,艰苦创业...\" with entities \"[(0, 7, 'DATE'), (105, 108, 'GPE'), (124, 126, 'DA...\". Use `spacy.training.offsets_to_biluo_tags(nlp.make_doc(text), entities)` to check the alignment. Misaligned entities ('-') will be ignored during training.\n",
            "  warnings.warn(\n",
            "/usr/local/lib/python3.8/dist-packages/spacy/training/iob_utils.py:149: UserWarning: [W030] Some entities could not be aligned in the text \"这种情况引起了党支部和村干部的重视。他们针对部分干部中存在的“物质文明硬碰硬,精神文明装装样”的模糊...\" with entities \"[(110, 113, 'GPE'), (247, 250, 'GPE'), (499, 504, ...\". Use `spacy.training.offsets_to_biluo_tags(nlp.make_doc(text), entities)` to check the alignment. Misaligned entities ('-') will be ignored during training.\n",
            "  warnings.warn(\n",
            "/usr/local/lib/python3.8/dist-packages/spacy/training/iob_utils.py:149: UserWarning: [W030] Some entities could not be aligned in the text \"冬泳迎新年(图片)\" with entities \"[(3, 5, 'DATE')]\". Use `spacy.training.offsets_to_biluo_tags(nlp.make_doc(text), entities)` to check the alignment. Misaligned entities ('-') will be ignored during training.\n",
            "  warnings.warn(\n",
            "/usr/local/lib/python3.8/dist-packages/spacy/training/iob_utils.py:149: UserWarning: [W030] Some entities could not be aligned in the text \"中共中央统战部及北京市委等有关领导观看了演出。(宗素华)\" with entities \"[(0, 4, 'ORG'), (4, 7, 'ORG'), (8, 10, 'GPE'), (24...\". Use `spacy.training.offsets_to_biluo_tags(nlp.make_doc(text), entities)` to check the alignment. Misaligned entities ('-') will be ignored during training.\n",
            "  warnings.warn(\n",
            "/usr/local/lib/python3.8/dist-packages/spacy/training/iob_utils.py:149: UserWarning: [W030] Some entities could not be aligned in the text \"(尹家骅钱友荣郭凯)\" with entities \"[(1, 4, 'PERSON'), (4, 7, 'PERSON'), (7, 9, 'PERSO...\". Use `spacy.training.offsets_to_biluo_tags(nlp.make_doc(text), entities)` to check the alignment. Misaligned entities ('-') will be ignored during training.\n",
            "  warnings.warn(\n",
            "/usr/local/lib/python3.8/dist-packages/spacy/training/iob_utils.py:149: UserWarning: [W030] Some entities could not be aligned in the text \"新华社罗马1月1日电(记者刘儒庭)意大利罗马和米兰的120个家庭在新年期间分别将一名无家可归者请到自...\" with entities \"[(0, 3, 'ORG'), (3, 5, 'GPE'), (5, 9, 'DATE'), (13...\". Use `spacy.training.offsets_to_biluo_tags(nlp.make_doc(text), entities)` to check the alignment. Misaligned entities ('-') will be ignored during training.\n",
            "  warnings.warn(\n",
            "/usr/local/lib/python3.8/dist-packages/spacy/training/iob_utils.py:149: UserWarning: [W030] Some entities could not be aligned in the text \"根据加政府去年4月通过的一项法案,政府有权没收休眠期超过20年、存款在500加元以下无主户头的银行存...\" with entities \"[(5, 9, 'DATE'), (23, 26, 'DATE'), (54, 59, 'DATE'...\". Use `spacy.training.offsets_to_biluo_tags(nlp.make_doc(text), entities)` to check the alignment. Misaligned entities ('-') will be ignored during training.\n",
            "  warnings.warn(\n",
            "/usr/local/lib/python3.8/dist-packages/spacy/training/iob_utils.py:149: UserWarning: [W030] Some entities could not be aligned in the text \"俄第一次货币改值是在1991年;俄发行新版卢布取代前苏联流通的卢布。第二次在1993年;俄宣布停止使...\" with entities \"[(10, 15, 'DATE'), (26, 28, 'GPE'), (38, 43, 'DATE...\". Use `spacy.training.offsets_to_biluo_tags(nlp.make_doc(text), entities)` to check the alignment. Misaligned entities ('-') will be ignored during training.\n",
            "  warnings.warn(\n",
            "/usr/local/lib/python3.8/dist-packages/spacy/training/iob_utils.py:149: UserWarning: [W030] Some entities could not be aligned in the text \"元旦之夜,巴黎人有欢聚香榭丽舍大街迎新年的传统。时近子夜,记者驱车赶到香榭丽舍大街西端的凯旋门。\" with entities \"[(0, 2, 'DATE'), (5, 7, 'GPE'), (11, 15, 'GPE'), (...\". Use `spacy.training.offsets_to_biluo_tags(nlp.make_doc(text), entities)` to check the alignment. Misaligned entities ('-') will be ignored during training.\n",
            "  warnings.warn(\n",
            "/usr/local/lib/python3.8/dist-packages/spacy/training/iob_utils.py:149: UserWarning: [W030] Some entities could not be aligned in the text \"1996年出版的中国地图上,在新疆南部的那一大片赭黄色的地方,突然多了一条直线。这条直线从塔里木的北...\" with entities \"[(0, 5, 'DATE'), (8, 10, 'GPE'), (15, 17, 'GPE'), ...\". Use `spacy.training.offsets_to_biluo_tags(nlp.make_doc(text), entities)` to check the alignment. Misaligned entities ('-') will be ignored during training.\n",
            "  warnings.warn(\n",
            "/usr/local/lib/python3.8/dist-packages/spacy/training/iob_utils.py:149: UserWarning: [W030] Some entities could not be aligned in the text \"1985年11月,当了5年汽车兵的盛云龙怀揣着650元退伍费和“两用人才”证书回到家乡大运河边的练市...\" with entities \"[(0, 8, 'DATE'), (17, 20, 'PERSON'), (48, 51, 'GPE...\". Use `spacy.training.offsets_to_biluo_tags(nlp.make_doc(text), entities)` to check the alignment. Misaligned entities ('-') will be ignored during training.\n",
            "  warnings.warn(\n",
            "/usr/local/lib/python3.8/dist-packages/spacy/training/iob_utils.py:149: UserWarning: [W030] Some entities could not be aligned in the text \"大田庄乡位于蒙山腹地,总面积96平方公里,其中山地面积占87%。进入90年代以来,为适应高产高效农业...\" with entities \"[(0, 4, 'GPE'), (6, 8, 'GPE'), (202, 204, 'DATE'),...\". Use `spacy.training.offsets_to_biluo_tags(nlp.make_doc(text), entities)` to check the alignment. Misaligned entities ('-') will be ignored during training.\n",
            "  warnings.warn(\n",
            "/usr/local/lib/python3.8/dist-packages/spacy/training/iob_utils.py:149: UserWarning: [W030] Some entities could not be aligned in the text \"本报郑州1月3日电记者戴鹏报道:棚外零下数度,棚内花鲜菜绿。在河南焦作市,这种动辄几亩、十几亩的大型...\" with entities \"[(2, 4, 'GPE'), (4, 8, 'DATE'), (11, 13, 'PERSON')...\". Use `spacy.training.offsets_to_biluo_tags(nlp.make_doc(text), entities)` to check the alignment. Misaligned entities ('-') will be ignored during training.\n",
            "  warnings.warn(\n",
            "/usr/local/lib/python3.8/dist-packages/spacy/training/iob_utils.py:149: UserWarning: [W030] Some entities could not be aligned in the text \"听说省里领导来慰问,职工们纷纷迎了上来,公司第一代干部刘希圣老人看到孙文盛,有些伤感。孙文盛双手拉住...\" with entities \"[(27, 30, 'PERSON'), (34, 37, 'PERSON'), (43, 46, ...\". Use `spacy.training.offsets_to_biluo_tags(nlp.make_doc(text), entities)` to check the alignment. Misaligned entities ('-') will be ignored during training.\n",
            "  warnings.warn(\n",
            "/usr/local/lib/python3.8/dist-packages/spacy/training/iob_utils.py:149: UserWarning: [W030] Some entities could not be aligned in the text \"便利的交通环境下,原来少人问津的山坡地成了投资大办“三高”农业的热土,外商纷至沓来。1995年至19...\" with entities \"[(42, 47, 'DATE'), (48, 53, 'DATE'), (99, 101, 'PE...\". Use `spacy.training.offsets_to_biluo_tags(nlp.make_doc(text), entities)` to check the alignment. Misaligned entities ('-') will be ignored during training.\n",
            "  warnings.warn(\n",
            "/usr/local/lib/python3.8/dist-packages/spacy/training/iob_utils.py:149: UserWarning: [W030] Some entities could not be aligned in the text \"游客的增多,特别是偷猎者的到来,给野生动物的保护提出了前所未有的难题。但是听陪同的朋友说,当地政府制...\" with entities \"[(156, 158, 'PERSON'), (200, 202, 'DATE'), (203, 2...\". Use `spacy.training.offsets_to_biluo_tags(nlp.make_doc(text), entities)` to check the alignment. Misaligned entities ('-') will be ignored during training.\n",
            "  warnings.warn(\n",
            "/usr/local/lib/python3.8/dist-packages/spacy/training/iob_utils.py:149: UserWarning: [W030] Some entities could not be aligned in the text \"旷日持久的帕蓬案一时不会有什么惊人结论,希拉克的劝慰也许一时不会被很多法国人接受,然而,维希时期的法...\" with entities \"[(5, 7, 'PERSON'), (20, 23, 'PERSON'), (35, 37, 'G...\". Use `spacy.training.offsets_to_biluo_tags(nlp.make_doc(text), entities)` to check the alignment. Misaligned entities ('-') will be ignored during training.\n",
            "  warnings.warn(\n",
            "/usr/local/lib/python3.8/dist-packages/spacy/training/iob_utils.py:149: UserWarning: [W030] Some entities could not be aligned in the text \"另一有名建筑是建于1609年的蓝色清真寺,因其内部彩釉呈蓝色而得名。这座清真寺直到上个世纪一直是前往...\" with entities \"[(9, 14, 'DATE'), (50, 52, 'GPE'), (84, 86, 'GPE')...\". Use `spacy.training.offsets_to_biluo_tags(nlp.make_doc(text), entities)` to check the alignment. Misaligned entities ('-') will be ignored during training.\n",
            "  warnings.warn(\n",
            "/usr/local/lib/python3.8/dist-packages/spacy/training/iob_utils.py:149: UserWarning: [W030] Some entities could not be aligned in the text \"科威特居民中有相当一部分为外籍打工者,主要来自印度、巴基斯坦、孟加拉、菲律宾、伊朗、斯里兰卡等国,一...\" with entities \"[(0, 3, 'GPE'), (23, 25, 'GPE'), (26, 30, 'GPE'), ...\". Use `spacy.training.offsets_to_biluo_tags(nlp.make_doc(text), entities)` to check the alignment. Misaligned entities ('-') will be ignored during training.\n",
            "  warnings.warn(\n",
            "/usr/local/lib/python3.8/dist-packages/spacy/training/iob_utils.py:149: UserWarning: [W030] Some entities could not be aligned in the text \"访问挪威期间,见过许多驰名的建筑,但我们认为,最有挪威民族特色、最能体现挪威人崇尚大自然性情的建筑,...\" with entities \"[(2, 4, 'GPE'), (25, 27, 'GPE'), (36, 38, 'GPE'), ...\". Use `spacy.training.offsets_to_biluo_tags(nlp.make_doc(text), entities)` to check the alignment. Misaligned entities ('-') will be ignored during training.\n",
            "  warnings.warn(\n",
            "/usr/local/lib/python3.8/dist-packages/spacy/training/iob_utils.py:149: UserWarning: [W030] Some entities could not be aligned in the text \"徐虎(附图片1张)\" with entities \"[(0, 2, 'PERSON')]\". Use `spacy.training.offsets_to_biluo_tags(nlp.make_doc(text), entities)` to check the alignment. Misaligned entities ('-') will be ignored during training.\n",
            "  warnings.warn(\n",
            "/usr/local/lib/python3.8/dist-packages/spacy/training/iob_utils.py:149: UserWarning: [W030] Some entities could not be aligned in the text \"见面时记者称徐虎为“校长”,徐虎连连摆手说:“我只是为这些青工上德育课,一些专业技术课由其他更有经验...\" with entities \"[(6, 8, 'PERSON'), (14, 16, 'PERSON'), (57, 59, 'P...\". Use `spacy.training.offsets_to_biluo_tags(nlp.make_doc(text), entities)` to check the alignment. Misaligned entities ('-') will be ignored during training.\n",
            "  warnings.warn(\n",
            "/usr/local/lib/python3.8/dist-packages/spacy/training/iob_utils.py:149: UserWarning: [W030] Some entities could not be aligned in the text \"邱娥国在派出所门前留影。(傅丁根摄)\" with entities \"[(0, 3, 'PERSON'), (13, 16, 'PERSON')]\". Use `spacy.training.offsets_to_biluo_tags(nlp.make_doc(text), entities)` to check the alignment. Misaligned entities ('-') will be ignored during training.\n",
            "  warnings.warn(\n",
            "/usr/local/lib/python3.8/dist-packages/spacy/training/iob_utils.py:149: UserWarning: [W030] Some entities could not be aligned in the text \"本报天津1月3日电记者陈杰报道:爱读报刊的天津人真是福气,从1月1日起,各种报纸杂志都能送到居民家门...\" with entities \"[(2, 4, 'GPE'), (4, 8, 'DATE'), (11, 13, 'PERSON')...\". Use `spacy.training.offsets_to_biluo_tags(nlp.make_doc(text), entities)` to check the alignment. Misaligned entities ('-') will be ignored during training.\n",
            "  warnings.warn(\n",
            "/usr/local/lib/python3.8/dist-packages/spacy/training/iob_utils.py:149: UserWarning: [W030] Some entities could not be aligned in the text \"去年10月底,福州市台江区居委会举行主任换届选举,200多名下岗职工抱着试一试的心情走上考场,72人...\" with entities \"[(0, 5, 'DATE'), (7, 10, 'GPE'), (10, 13, 'GPE'), ...\". Use `spacy.training.offsets_to_biluo_tags(nlp.make_doc(text), entities)` to check the alignment. Misaligned entities ('-') will be ignored during training.\n",
            "  warnings.warn(\n",
            "/usr/local/lib/python3.8/dist-packages/spacy/training/iob_utils.py:149: UserWarning: [W030] Some entities could not be aligned in the text \"本报太原1月3日电“东方不亮西方亮”,1万多太原、大同、天津、石家庄等大中城市国有企业的下岗职工,在...\" with entities \"[(2, 4, 'GPE'), (4, 8, 'DATE'), (22, 24, 'GPE'), (...\". Use `spacy.training.offsets_to_biluo_tags(nlp.make_doc(text), entities)` to check the alignment. Misaligned entities ('-') will be ignored during training.\n",
            "  warnings.warn(\n",
            "/usr/local/lib/python3.8/dist-packages/spacy/training/iob_utils.py:149: UserWarning: [W030] Some entities could not be aligned in the text \"李长水坚持原则,秉公办事。有一个单位想办一个培训学校,因为不符合规定,也不具备条件,车管部门没批准。...\" with entities \"[(0, 3, 'PERSON'), (55, 58, 'PERSON'), (75, 78, 'P...\". Use `spacy.training.offsets_to_biluo_tags(nlp.make_doc(text), entities)` to check the alignment. Misaligned entities ('-') will be ignored during training.\n",
            "  warnings.warn(\n",
            "/usr/local/lib/python3.8/dist-packages/spacy/training/iob_utils.py:149: UserWarning: [W030] Some entities could not be aligned in the text \"本报讯一部艺术再现首都公安干警严惩刑事犯罪分子,保卫首都社会安全的八集电视系列剧《京都警魂》日前在北...\" with entities \"[(41, 43, 'GPE'), (46, 48, 'DATE'), (49, 51, 'GPE'...\". Use `spacy.training.offsets_to_biluo_tags(nlp.make_doc(text), entities)` to check the alignment. Misaligned entities ('-') will be ignored during training.\n",
            "  warnings.warn(\n",
            "/usr/local/lib/python3.8/dist-packages/spacy/training/iob_utils.py:149: UserWarning: [W030] Some entities could not be aligned in the text \"旨在进一步推动中外艺术交流,发展我国歌剧舞剧艺术事业的’97中国国际歌剧舞剧年,是由文化部、广电部联...\" with entities \"[(27, 30, 'DATE'), (30, 32, 'GPE'), (42, 45, 'ORG'...\". Use `spacy.training.offsets_to_biluo_tags(nlp.make_doc(text), entities)` to check the alignment. Misaligned entities ('-') will be ignored during training.\n",
            "  warnings.warn(\n",
            "/usr/local/lib/python3.8/dist-packages/spacy/training/iob_utils.py:149: UserWarning: [W030] Some entities could not be aligned in the text \"(侯伟生)\" with entities \"[(1, 4, 'PERSON')]\". Use `spacy.training.offsets_to_biluo_tags(nlp.make_doc(text), entities)` to check the alignment. Misaligned entities ('-') will be ignored during training.\n",
            "  warnings.warn(\n",
            "/usr/local/lib/python3.8/dist-packages/spacy/training/iob_utils.py:149: UserWarning: [W030] Some entities could not be aligned in the text \"1984年,广昌成立了全国第一家白莲科研所,刘光亮担任所长,倍感肩上担子的沉重。上任伊始,他便把优质...\" with entities \"[(0, 5, 'DATE'), (6, 8, 'GPE'), (22, 25, 'PERSON')...\". Use `spacy.training.offsets_to_biluo_tags(nlp.make_doc(text), entities)` to check the alignment. Misaligned entities ('-') will be ignored during training.\n",
            "  warnings.warn(\n",
            "/usr/local/lib/python3.8/dist-packages/spacy/training/iob_utils.py:149: UserWarning: [W030] Some entities could not be aligned in the text \"本报南昌1月4日电记者余清楚报道:江西是中国人民解放军的诞生地,有着拥军优属、拥政爱民的光荣传统。在...\" with entities \"[(2, 4, 'GPE'), (4, 8, 'DATE'), (11, 14, 'PERSON')...\". Use `spacy.training.offsets_to_biluo_tags(nlp.make_doc(text), entities)` to check the alignment. Misaligned entities ('-') will be ignored during training.\n",
            "  warnings.warn(\n",
            "/usr/local/lib/python3.8/dist-packages/spacy/training/iob_utils.py:149: UserWarning: [W030] Some entities could not be aligned in the text \"江西省军区、驻赣部队和武警部队充分发挥自身优势,在促进地方两个文明建设中发挥了积极作用。目前全省共有...\" with entities \"[(0, 2, 'GPE'), (44, 46, 'DATE'), (216, 218, 'GPE'...\". Use `spacy.training.offsets_to_biluo_tags(nlp.make_doc(text), entities)` to check the alignment. Misaligned entities ('-') will be ignored during training.\n",
            "  warnings.warn(\n",
            "/usr/local/lib/python3.8/dist-packages/spacy/training/iob_utils.py:149: UserWarning: [W030] Some entities could not be aligned in the text \"(方明)\" with entities \"[(1, 3, 'PERSON')]\". Use `spacy.training.offsets_to_biluo_tags(nlp.make_doc(text), entities)` to check the alignment. Misaligned entities ('-') will be ignored during training.\n",
            "  warnings.warn(\n",
            "/usr/local/lib/python3.8/dist-packages/spacy/training/iob_utils.py:149: UserWarning: [W030] Some entities could not be aligned in the text \"本报福州电记者赵鹏报道:福州市委、市政府及公安、文化、工商等部门日前在福州市郊红庙岭垃圾场召开现场大...\" with entities \"[(2, 4, 'GPE'), (7, 9, 'PERSON'), (12, 14, 'GPE'),...\". Use `spacy.training.offsets_to_biluo_tags(nlp.make_doc(text), entities)` to check the alignment. Misaligned entities ('-') will be ignored during training.\n",
            "  warnings.warn(\n",
            "/usr/local/lib/python3.8/dist-packages/spacy/training/iob_utils.py:149: UserWarning: [W030] Some entities could not be aligned in the text \"(范春生于力)\" with entities \"[(1, 4, 'PERSON'), (4, 6, 'PERSON')]\". Use `spacy.training.offsets_to_biluo_tags(nlp.make_doc(text), entities)` to check the alignment. Misaligned entities ('-') will be ignored during training.\n",
            "  warnings.warn(\n",
            "/usr/local/lib/python3.8/dist-packages/spacy/training/iob_utils.py:149: UserWarning: [W030] Some entities could not be aligned in the text \"这张由国家医药管理局和中国贸促会联合推出的光盘,除收录了中国国家及地方医药管理机构的联系要素外,还从...\" with entities \"[(11, 13, 'GPE'), (28, 30, 'GPE'), (149, 152, 'PER...\". Use `spacy.training.offsets_to_biluo_tags(nlp.make_doc(text), entities)` to check the alignment. Misaligned entities ('-') will be ignored during training.\n",
            "  warnings.warn(\n",
            "/usr/local/lib/python3.8/dist-packages/spacy/training/iob_utils.py:149: UserWarning: [W030] Some entities could not be aligned in the text \"新华社安曼1月3日电(记者夏林)伊拉克驻约旦的一名外交官3日早晨在约旦首都安曼遭不明身份的枪手袭击,...\" with entities \"[(0, 3, 'ORG'), (3, 5, 'GPE'), (5, 9, 'DATE'), (13...\". Use `spacy.training.offsets_to_biluo_tags(nlp.make_doc(text), entities)` to check the alignment. Misaligned entities ('-') will be ignored during training.\n",
            "  warnings.warn(\n",
            "/usr/local/lib/python3.8/dist-packages/spacy/training/iob_utils.py:149: UserWarning: [W030] Some entities could not be aligned in the text \"为此,康斯坦丁内斯库3日在总统府举行特别记者招待会。他强调,米哈伊一世只要遵守现行宪法,尊重现执政当...\" with entities \"[(3, 10, 'PERSON'), (10, 12, 'DATE'), (30, 33, 'PE...\". Use `spacy.training.offsets_to_biluo_tags(nlp.make_doc(text), entities)` to check the alignment. Misaligned entities ('-') will be ignored during training.\n",
            "  warnings.warn(\n",
            "/usr/local/lib/python3.8/dist-packages/spacy/training/iob_utils.py:149: UserWarning: [W030] Some entities could not be aligned in the text \"华夏绝技惊悉尼——记中国大马戏团访澳演出\" with entities \"[(5, 7, 'GPE'), (10, 12, 'GPE')]\". Use `spacy.training.offsets_to_biluo_tags(nlp.make_doc(text), entities)` to check the alignment. Misaligned entities ('-') will be ignored during training.\n",
            "  warnings.warn(\n",
            "/usr/local/lib/python3.8/dist-packages/spacy/training/iob_utils.py:149: UserWarning: [W030] Some entities could not be aligned in the text \"怪病袭击肯尼亚(图片)\" with entities \"[(4, 7, 'GPE')]\". Use `spacy.training.offsets_to_biluo_tags(nlp.make_doc(text), entities)` to check the alignment. Misaligned entities ('-') will be ignored during training.\n",
            "  warnings.warn(\n",
            "/usr/local/lib/python3.8/dist-packages/spacy/training/iob_utils.py:149: UserWarning: [W030] Some entities could not be aligned in the text \"新华社耶路撒冷1月4日电(记者支林飞、戚德良)以色列外长利维4日宣布,他决定辞职,以抗议现政府提出的...\" with entities \"[(0, 3, 'ORG'), (3, 7, 'GPE'), (7, 11, 'DATE'), (1...\". Use `spacy.training.offsets_to_biluo_tags(nlp.make_doc(text), entities)` to check the alignment. Misaligned entities ('-') will be ignored during training.\n",
            "  warnings.warn(\n",
            "/usr/local/lib/python3.8/dist-packages/spacy/training/iob_utils.py:149: UserWarning: [W030] Some entities could not be aligned in the text \"捷克总统哈韦尔二日在布拉格宫任命了捷克新政府成员。由托绍夫斯基出任总理的新政府共有十八名成员,其中新...\" with entities \"[(0, 2, 'GPE'), (4, 7, 'PERSON'), (7, 9, 'DATE'), ...\". Use `spacy.training.offsets_to_biluo_tags(nlp.make_doc(text), entities)` to check the alignment. Misaligned entities ('-') will be ignored during training.\n",
            "  warnings.warn(\n",
            "/usr/local/lib/python3.8/dist-packages/spacy/training/iob_utils.py:149: UserWarning: [W030] Some entities could not be aligned in the text \"芬兰众鸟欣有托群兽爱人庐\" with entities \"[(0, 2, 'GPE')]\". Use `spacy.training.offsets_to_biluo_tags(nlp.make_doc(text), entities)` to check the alignment. Misaligned entities ('-') will be ignored during training.\n",
            "  warnings.warn(\n",
            "/usr/local/lib/python3.8/dist-packages/spacy/training/iob_utils.py:149: UserWarning: [W030] Some entities could not be aligned in the text \"据新华社东京1月4日电(记者乐绍延)日本决定从今年起正式开展维护太空环境安全的研究,开发清除太空垃圾...\" with entities \"[(1, 4, 'ORG'), (4, 6, 'GPE'), (6, 10, 'DATE'), (1...\". Use `spacy.training.offsets_to_biluo_tags(nlp.make_doc(text), entities)` to check the alignment. Misaligned entities ('-') will be ignored during training.\n",
            "  warnings.warn(\n",
            "/usr/local/lib/python3.8/dist-packages/spacy/training/iob_utils.py:149: UserWarning: [W030] Some entities could not be aligned in the text \"3日的女单比赛也是全国冠军击败“世界冠军”,近期状态不错的削球手王辉以2∶0赢了曾是世乒赛女团冠军成...\" with entities \"[(0, 2, 'DATE'), (22, 24, 'DATE'), (32, 34, 'PERSO...\". Use `spacy.training.offsets_to_biluo_tags(nlp.make_doc(text), entities)` to check the alignment. Misaligned entities ('-') will be ignored during training.\n",
            "  warnings.warn(\n",
            "/usr/local/lib/python3.8/dist-packages/spacy/training/iob_utils.py:149: UserWarning: [W030] Some entities could not be aligned in the text \"爱多杯中国围棋电视快棋赛开战丁伟中盘胜张璇\" with entities \"[(3, 5, 'GPE'), (14, 16, 'PERSON'), (19, 21, 'PERS...\". Use `spacy.training.offsets_to_biluo_tags(nlp.make_doc(text), entities)` to check the alignment. Misaligned entities ('-') will be ignored during training.\n",
            "  warnings.warn(\n",
            "/usr/local/lib/python3.8/dist-packages/spacy/training/iob_utils.py:149: UserWarning: [W030] Some entities could not be aligned in the text \"北京海关调查局茹水泉局长告诉记者,1993年至1997年,该局共查获走私汽车800辆,其中有50%是...\" with entities \"[(0, 2, 'GPE'), (7, 10, 'PERSON'), (17, 22, 'DATE'...\". Use `spacy.training.offsets_to_biluo_tags(nlp.make_doc(text), entities)` to check the alignment. Misaligned entities ('-') will be ignored during training.\n",
            "  warnings.warn(\n",
            "/usr/local/lib/python3.8/dist-packages/spacy/training/iob_utils.py:149: UserWarning: [W030] Some entities could not be aligned in the text \"(压题照片:王永摄)\" with entities \"[(6, 8, 'PERSON')]\". Use `spacy.training.offsets_to_biluo_tags(nlp.make_doc(text), entities)` to check the alignment. Misaligned entities ('-') will be ignored during training.\n",
            "  warnings.warn(\n",
            "/usr/local/lib/python3.8/dist-packages/spacy/training/iob_utils.py:149: UserWarning: [W030] Some entities could not be aligned in the text \"从需求方面看,去年消费需求、投资需求都在不断盘整。关于消费,去年社会消费品零售总额增长率年初较高,此...\" with entities \"[(7, 9, 'DATE'), (30, 32, 'DATE'), (44, 46, 'DATE'...\". Use `spacy.training.offsets_to_biluo_tags(nlp.make_doc(text), entities)` to check the alignment. Misaligned entities ('-') will be ignored during training.\n",
            "  warnings.warn(\n",
            "/usr/local/lib/python3.8/dist-packages/spacy/training/iob_utils.py:149: UserWarning: [W030] Some entities could not be aligned in the text \"其中最令人感兴趣的是,关税在上年大幅下调的基础上,10月起又下调26%,关税总水平降至17%。经常项...\" with entities \"[(14, 16, 'DATE'), (25, 28, 'DATE'), (76, 79, 'DAT...\". Use `spacy.training.offsets_to_biluo_tags(nlp.make_doc(text), entities)` to check the alignment. Misaligned entities ('-') will be ignored during training.\n",
            "  warnings.warn(\n",
            "/usr/local/lib/python3.8/dist-packages/spacy/training/iob_utils.py:149: UserWarning: [W030] Some entities could not be aligned in the text \"近几年,收费电话在全国一些大中城市悄然兴起。内容和形式丰富多彩,包罗万象。例如北京的160电话咨询台...\" with entities \"[(39, 41, 'GPE'), (100, 102, 'GPE'), (141, 143, 'G...\". Use `spacy.training.offsets_to_biluo_tags(nlp.make_doc(text), entities)` to check the alignment. Misaligned entities ('-') will be ignored during training.\n",
            "  warnings.warn(\n",
            "/usr/local/lib/python3.8/dist-packages/spacy/training/iob_utils.py:149: UserWarning: [W030] Some entities could not be aligned in the text \"去年6月底至7月初,一则占半版篇幅的广告连续数日在《北京青年报》上刊出,引起了人们的注意。这是北京市...\" with entities \"[(0, 4, 'DATE'), (6, 8, 'DATE'), (26, 28, 'GPE'), ...\". Use `spacy.training.offsets_to_biluo_tags(nlp.make_doc(text), entities)` to check the alignment. Misaligned entities ('-') will be ignored during training.\n",
            "  warnings.warn(\n",
            "/usr/local/lib/python3.8/dist-packages/spacy/training/iob_utils.py:149: UserWarning: [W030] Some entities could not be aligned in the text \"然而,也有一些商家,却在提高自己的文化品位上大做文章:上海南京路新世界商厦,在大堂里放置了一座根雕雄...\" with entities \"[(27, 29, 'GPE'), (29, 32, 'GPE'), (71, 74, 'ORG')...\". Use `spacy.training.offsets_to_biluo_tags(nlp.make_doc(text), entities)` to check the alignment. Misaligned entities ('-') will be ignored during training.\n",
            "  warnings.warn(\n",
            "/usr/local/lib/python3.8/dist-packages/spacy/training/iob_utils.py:149: UserWarning: [W030] Some entities could not be aligned in the text \"(夏昆山张翔辉)\" with entities \"[(1, 4, 'PERSON'), (4, 7, 'PERSON')]\". Use `spacy.training.offsets_to_biluo_tags(nlp.make_doc(text), entities)` to check the alignment. Misaligned entities ('-') will be ignored during training.\n",
            "  warnings.warn(\n",
            "/usr/local/lib/python3.8/dist-packages/spacy/training/iob_utils.py:149: UserWarning: [W030] Some entities could not be aligned in the text \"国内首家自主版权的婚纱摄影软件厂商北京远潮公司日前加入惠普大幅面打印软件联盟,成为惠普第一家正式选定...\" with entities \"[(17, 19, 'GPE'), (23, 25, 'DATE'), (153, 155, 'PE...\". Use `spacy.training.offsets_to_biluo_tags(nlp.make_doc(text), entities)` to check the alignment. Misaligned entities ('-') will be ignored during training.\n",
            "  warnings.warn(\n",
            "/usr/local/lib/python3.8/dist-packages/spacy/training/iob_utils.py:149: UserWarning: [W030] Some entities could not be aligned in the text \"他指出,中国愿意在联合国内发挥作用,提出有利于世界和各国人民的主张。中国主张在联合国宪章和国际法准则...\" with entities \"[(4, 6, 'GPE'), (9, 12, 'ORG'), (34, 36, 'GPE'), (...\". Use `spacy.training.offsets_to_biluo_tags(nlp.make_doc(text), entities)` to check the alignment. Misaligned entities ('-') will be ignored during training.\n",
            "  warnings.warn(\n",
            "/usr/local/lib/python3.8/dist-packages/spacy/training/iob_utils.py:149: UserWarning: [W030] Some entities could not be aligned in the text \"据新华社北京1月5日电(记者杨青)在今天结束的北京市经济工作会上,中共中央政治局委员、北京市委书记、...\" with entities \"[(1, 4, 'ORG'), (4, 6, 'GPE'), (6, 10, 'DATE'), (1...\". Use `spacy.training.offsets_to_biluo_tags(nlp.make_doc(text), entities)` to check the alignment. Misaligned entities ('-') will be ignored during training.\n",
            "  warnings.warn(\n",
            "/usr/local/lib/python3.8/dist-packages/spacy/training/iob_utils.py:149: UserWarning: [W030] Some entities could not be aligned in the text \"本报讯美国波音公司日前在西雅图总部将一架波音737300客机交付中国武汉航空公司运营。这是武汉航空公...\" with entities \"[(3, 5, 'GPE'), (9, 11, 'DATE'), (12, 15, 'GPE'), ...\". Use `spacy.training.offsets_to_biluo_tags(nlp.make_doc(text), entities)` to check the alignment. Misaligned entities ('-') will be ignored during training.\n",
            "  warnings.warn(\n",
            "/usr/local/lib/python3.8/dist-packages/spacy/training/iob_utils.py:149: UserWarning: [W030] Some entities could not be aligned in the text \"当玉环县级行政机关向社会公开招考国家公务员时,陈云峰以笔试全县第二、面试全县第一的成绩被录用,成了一...\" with entities \"[(1, 3, 'GPE'), (23, 26, 'PERSON'), (66, 69, 'PERS...\". Use `spacy.training.offsets_to_biluo_tags(nlp.make_doc(text), entities)` to check the alignment. Misaligned entities ('-') will be ignored during training.\n",
            "  warnings.warn(\n",
            "/usr/local/lib/python3.8/dist-packages/spacy/training/iob_utils.py:149: UserWarning: [W030] Some entities could not be aligned in the text \"为保证各项文明新风的措施落到实处,广东省各级公安机关还狠抓了监督管理。深圳市南山公安分局施行了“三级...\" with entities \"[(17, 20, 'GPE'), (35, 38, 'GPE'), (38, 40, 'GPE')...\". Use `spacy.training.offsets_to_biluo_tags(nlp.make_doc(text), entities)` to check the alignment. Misaligned entities ('-') will be ignored during training.\n",
            "  warnings.warn(\n",
            "/usr/local/lib/python3.8/dist-packages/spacy/training/iob_utils.py:149: UserWarning: [W030] Some entities could not be aligned in the text \"这套特种邮票的设计者为王虎鸣、马刚。这套邮票第一图中“布老虎”的制作者是山西农村妇女高秋英(见图新华...\" with entities \"[(11, 14, 'PERSON'), (15, 17, 'PERSON'), (36, 38, ...\". Use `spacy.training.offsets_to_biluo_tags(nlp.make_doc(text), entities)` to check the alignment. Misaligned entities ('-') will be ignored during training.\n",
            "  warnings.warn(\n",
            "/usr/local/lib/python3.8/dist-packages/spacy/training/iob_utils.py:149: UserWarning: [W030] Some entities could not be aligned in the text \"负责新疆地下水勘查工作的孙晓明说:“我们在阿其克谷地圈定了面积为140平方公里的重点工作区域,借助当...\" with entities \"[(2, 4, 'GPE'), (12, 15, 'PERSON'), (21, 24, 'GPE'...\". Use `spacy.training.offsets_to_biluo_tags(nlp.make_doc(text), entities)` to check the alignment. Misaligned entities ('-') will be ignored during training.\n",
            "  warnings.warn(\n",
            "/usr/local/lib/python3.8/dist-packages/spacy/training/iob_utils.py:149: UserWarning: [W030] Some entities could not be aligned in the text \"海口市的同志谈起这些年来教育投资的感想,形象地比喻说是在播种希望。未来的竞争是科技实力的竞争;而科技...\" with entities \"[(0, 3, 'GPE'), (33, 35, 'DATE'), (79, 81, 'GPE'),...\". Use `spacy.training.offsets_to_biluo_tags(nlp.make_doc(text), entities)` to check the alignment. Misaligned entities ('-') will be ignored during training.\n",
            "  warnings.warn(\n",
            "/usr/local/lib/python3.8/dist-packages/spacy/training/iob_utils.py:149: UserWarning: [W030] Some entities could not be aligned in the text \"山东省电力局局长、山东电力集团公司董事长兼总经理刘振亚称,山东鲁能泰山足球俱乐部股份有限公司将作为一...\" with entities \"[(0, 3, 'GPE'), (9, 11, 'GPE'), (24, 27, 'PERSON')...\". Use `spacy.training.offsets_to_biluo_tags(nlp.make_doc(text), entities)` to check the alignment. Misaligned entities ('-') will be ignored during training.\n",
            "  warnings.warn(\n",
            "/usr/local/lib/python3.8/dist-packages/spacy/training/iob_utils.py:149: UserWarning: [W030] Some entities could not be aligned in the text \"1月4日,肯尼亚选举委员会宣布现任总统莫伊在1997年底举行的大选中获胜,连任下届总统。(新华社发美...\" with entities \"[(0, 4, 'DATE'), (5, 8, 'GPE'), (19, 21, 'PERSON')...\". Use `spacy.training.offsets_to_biluo_tags(nlp.make_doc(text), entities)` to check the alignment. Misaligned entities ('-') will be ignored during training.\n",
            "  warnings.warn(\n",
            "/usr/local/lib/python3.8/dist-packages/spacy/training/iob_utils.py:149: UserWarning: [W030] Some entities could not be aligned in the text \"新华社阿拉木图1月5日电(记者贾志平)哈萨克斯坦总统纳扎尔巴耶夫5日指出,去年哈国内政治经济改革取得...\" with entities \"[(0, 3, 'ORG'), (3, 7, 'GPE'), (7, 11, 'DATE'), (1...\". Use `spacy.training.offsets_to_biluo_tags(nlp.make_doc(text), entities)` to check the alignment. Misaligned entities ('-') will be ignored during training.\n",
            "  warnings.warn(\n",
            "/usr/local/lib/python3.8/dist-packages/spacy/training/iob_utils.py:149: UserWarning: [W030] Some entities could not be aligned in the text \"1月4日,以色列外长利维在特拉维夫举行的记者招待会上宣布,由于总理内塔尼亚胡未能就他提出修改以色列1...\" with entities \"[(0, 4, 'DATE'), (5, 8, 'GPE'), (10, 12, 'PERSON')...\". Use `spacy.training.offsets_to_biluo_tags(nlp.make_doc(text), entities)` to check the alignment. Misaligned entities ('-') will be ignored during training.\n",
            "  warnings.warn(\n",
            "/usr/local/lib/python3.8/dist-packages/spacy/training/iob_utils.py:149: UserWarning: [W030] Some entities could not be aligned in the text \"新华社开罗1月4日电(记者安江)阿拉伯国家联盟4日强烈谴责日前在阿尔及利亚发生的伊斯兰极端分子滥杀无...\" with entities \"[(0, 3, 'ORG'), (3, 5, 'GPE'), (5, 9, 'DATE'), (13...\". Use `spacy.training.offsets_to_biluo_tags(nlp.make_doc(text), entities)` to check the alignment. Misaligned entities ('-') will be ignored during training.\n",
            "  warnings.warn(\n",
            "/usr/local/lib/python3.8/dist-packages/spacy/training/iob_utils.py:149: UserWarning: [W030] Some entities could not be aligned in the text \"新华社渥太华1月4日电(记者文继华)为迎接中国农历新年虎年的来临,加拿大皇家铸币厂3日开始在国内外发...\" with entities \"[(0, 3, 'ORG'), (3, 6, 'GPE'), (6, 10, 'DATE'), (1...\". Use `spacy.training.offsets_to_biluo_tags(nlp.make_doc(text), entities)` to check the alignment. Misaligned entities ('-') will be ignored during training.\n",
            "  warnings.warn(\n",
            "/usr/local/lib/python3.8/dist-packages/spacy/training/iob_utils.py:149: UserWarning: [W030] Some entities could not be aligned in the text \"首先,加强神奇旅游年的宣传和促销活动,拓展新的旅游市场。泰国旅游机构在曼谷举行神奇旅游年开幕式后还将...\" with entities \"[(28, 30, 'GPE'), (35, 37, 'GPE'), (51, 53, 'GPE')...\". Use `spacy.training.offsets_to_biluo_tags(nlp.make_doc(text), entities)` to check the alignment. Misaligned entities ('-') will be ignored during training.\n",
            "  warnings.warn(\n",
            "/usr/local/lib/python3.8/dist-packages/spacy/training/iob_utils.py:149: UserWarning: [W030] Some entities could not be aligned in the text \"福塞特驾驶的“单闯号”热气球于去年12月31日在圣路易斯市升空后一路东飞。气球顺利地跨越大西洋,穿过...\" with entities \"[(0, 3, 'PERSON'), (15, 23, 'DATE'), (24, 29, 'GPE...\". Use `spacy.training.offsets_to_biluo_tags(nlp.make_doc(text), entities)` to check the alignment. Misaligned entities ('-') will be ignored during training.\n",
            "  warnings.warn(\n",
            "/usr/local/lib/python3.8/dist-packages/spacy/training/iob_utils.py:149: UserWarning: [W030] Some entities could not be aligned in the text \"意志坚强的她,也有脆弱的时候。戴碧蓉不无辛酸地回忆道:第一个孩子生下后才1岁,就患有先天性心脏病,为...\" with entities \"[(15, 18, 'PERSON')]\". Use `spacy.training.offsets_to_biluo_tags(nlp.make_doc(text), entities)` to check the alignment. Misaligned entities ('-') will be ignored during training.\n",
            "  warnings.warn(\n",
            "/usr/local/lib/python3.8/dist-packages/spacy/training/iob_utils.py:149: UserWarning: [W030] Some entities could not be aligned in the text \"———王文西(山东)\" with entities \"[(3, 6, 'PERSON'), (7, 9, 'GPE')]\". Use `spacy.training.offsets_to_biluo_tags(nlp.make_doc(text), entities)` to check the alignment. Misaligned entities ('-') will be ignored during training.\n",
            "  warnings.warn(\n",
            "/usr/local/lib/python3.8/dist-packages/spacy/training/iob_utils.py:149: UserWarning: [W030] Some entities could not be aligned in the text \"———马美宏(湖南)\" with entities \"[(3, 6, 'PERSON'), (7, 9, 'GPE')]\". Use `spacy.training.offsets_to_biluo_tags(nlp.make_doc(text), entities)` to check the alignment. Misaligned entities ('-') will be ignored during training.\n",
            "  warnings.warn(\n",
            "/usr/local/lib/python3.8/dist-packages/spacy/training/iob_utils.py:149: UserWarning: [W030] Some entities could not be aligned in the text \"———孙道权(江苏)\" with entities \"[(3, 6, 'PERSON'), (7, 9, 'GPE')]\". Use `spacy.training.offsets_to_biluo_tags(nlp.make_doc(text), entities)` to check the alignment. Misaligned entities ('-') will be ignored during training.\n",
            "  warnings.warn(\n",
            "/usr/local/lib/python3.8/dist-packages/spacy/training/iob_utils.py:149: UserWarning: [W030] Some entities could not be aligned in the text \"(作者系原冀中回民支队政委,中国人民解放军空军原副政委)\" with entities \"[(5, 7, 'GPE'), (14, 16, 'GPE')]\". Use `spacy.training.offsets_to_biluo_tags(nlp.make_doc(text), entities)` to check the alignment. Misaligned entities ('-') will be ignored during training.\n",
            "  warnings.warn(\n",
            "/usr/local/lib/python3.8/dist-packages/spacy/training/iob_utils.py:149: UserWarning: [W030] Some entities could not be aligned in the text \"根据邓小平同志“三步走”的战略构想,十四大提出了近期和长远的三个奋斗目标:90年代,初步建立起新的经...\" with entities \"[(2, 5, 'PERSON'), (24, 26, 'DATE'), (120, 122, 'D...\". Use `spacy.training.offsets_to_biluo_tags(nlp.make_doc(text), entities)` to check the alignment. Misaligned entities ('-') will be ignored during training.\n",
            "  warnings.warn(\n",
            "/usr/local/lib/python3.8/dist-packages/spacy/training/iob_utils.py:149: UserWarning: [W030] Some entities could not be aligned in the text \"支队党委书记、支队长周学农有句名言:“谁砸了长沙交警的牌子,就脱谁的警服。”周学农对民警严格要求是出...\" with entities \"[(10, 13, 'PERSON'), (22, 24, 'GPE'), (38, 41, 'PE...\". Use `spacy.training.offsets_to_biluo_tags(nlp.make_doc(text), entities)` to check the alignment. Misaligned entities ('-') will be ignored during training.\n",
            "  warnings.warn(\n",
            "/usr/local/lib/python3.8/dist-packages/spacy/training/iob_utils.py:149: UserWarning: [W030] Some entities could not be aligned in the text \"(姜伟尚占摄影报道)\" with entities \"[(1, 3, 'PERSON'), (3, 5, 'PERSON')]\". Use `spacy.training.offsets_to_biluo_tags(nlp.make_doc(text), entities)` to check the alignment. Misaligned entities ('-') will be ignored during training.\n",
            "  warnings.warn(\n",
            "/usr/local/lib/python3.8/dist-packages/spacy/training/iob_utils.py:149: UserWarning: [W030] Some entities could not be aligned in the text \"被授予雷锋式民警称号的黑龙江省哈尔滨市道里区尚志派出所所长杨光,近年来与全所民警一道,使全国廉政爱民...\" with entities \"[(3, 5, 'PERSON'), (11, 15, 'GPE'), (15, 19, 'GPE'...\". Use `spacy.training.offsets_to_biluo_tags(nlp.make_doc(text), entities)` to check the alignment. Misaligned entities ('-') will be ignored during training.\n",
            "  warnings.warn(\n",
            "/usr/local/lib/python3.8/dist-packages/spacy/training/iob_utils.py:149: UserWarning: [W030] Some entities could not be aligned in the text \"(车强)\" with entities \"[(1, 3, 'PERSON')]\". Use `spacy.training.offsets_to_biluo_tags(nlp.make_doc(text), entities)` to check the alignment. Misaligned entities ('-') will be ignored during training.\n",
            "  warnings.warn(\n",
            "/usr/local/lib/python3.8/dist-packages/spacy/training/iob_utils.py:149: UserWarning: [W030] Some entities could not be aligned in the text \"本报讯由山东电影电视剧制作中心、济南市公安局和中央电视台联合摄制的我国第一部以110公安民警为题材的...\" with entities \"[(4, 6, 'GPE'), (16, 19, 'GPE'), (62, 64, 'DATE'),...\". Use `spacy.training.offsets_to_biluo_tags(nlp.make_doc(text), entities)` to check the alignment. Misaligned entities ('-') will be ignored during training.\n",
            "  warnings.warn(\n",
            "/usr/local/lib/python3.8/dist-packages/spacy/training/iob_utils.py:149: UserWarning: [W030] Some entities could not be aligned in the text \"这种被人称为第三代的具有高品质性能的歼7E型战机是由成都飞机工业公司和西北工业大学联合研制生产的。据...\" with entities \"[(26, 28, 'GPE'), (61, 64, 'PERSON')]\". Use `spacy.training.offsets_to_biluo_tags(nlp.make_doc(text), entities)` to check the alignment. Misaligned entities ('-') will be ignored during training.\n",
            "  warnings.warn(\n",
            "/usr/local/lib/python3.8/dist-packages/spacy/training/iob_utils.py:149: UserWarning: [W030] Some entities could not be aligned in the text \"“有人抢钱啦!抓强盗啊!”缓过神来的李少英边喊边追。下班路过此地的衡阳市支队后勤处副处长吴宏权寻声截...\" with entities \"[(18, 21, 'PERSON'), (33, 36, 'GPE'), (44, 47, 'PE...\". Use `spacy.training.offsets_to_biluo_tags(nlp.make_doc(text), entities)` to check the alignment. Misaligned entities ('-') will be ignored during training.\n",
            "  warnings.warn(\n",
            "/usr/local/lib/python3.8/dist-packages/spacy/training/iob_utils.py:149: UserWarning: [W030] Some entities could not be aligned in the text \"家住江苏省仪征市解放路年过六旬的秦秀英女士,在省拥军模范周宏英的陪同下喜气洋洋地来到该市城中居委会申...\" with entities \"[(2, 5, 'GPE'), (5, 8, 'GPE'), (8, 11, 'GPE'), (16...\". Use `spacy.training.offsets_to_biluo_tags(nlp.make_doc(text), entities)` to check the alignment. Misaligned entities ('-') will be ignored during training.\n",
            "  warnings.warn(\n",
            "/usr/local/lib/python3.8/dist-packages/spacy/training/iob_utils.py:149: UserWarning: [W030] Some entities could not be aligned in the text \"本报讯全军最大的军需企业集团———中国新兴(集团)总公司始终坚持走质量效益型的发展道路,所属企业中有...\" with entities \"[(17, 19, 'GPE'), (127, 130, 'PERSON'), (130, 133,...\". Use `spacy.training.offsets_to_biluo_tags(nlp.make_doc(text), entities)` to check the alignment. Misaligned entities ('-') will be ignored during training.\n",
            "  warnings.warn(\n",
            "/usr/local/lib/python3.8/dist-packages/spacy/training/iob_utils.py:149: UserWarning: [W030] Some entities could not be aligned in the text \"新华社北京1月6日电(记者汪金福)没有送别仪式,没有保留骨灰。刘澜涛同志的遗体今天在京火化,他的亲属...\" with entities \"[(0, 3, 'ORG'), (3, 5, 'GPE'), (5, 9, 'DATE'), (13...\". Use `spacy.training.offsets_to_biluo_tags(nlp.make_doc(text), entities)` to check the alignment. Misaligned entities ('-') will be ignored during training.\n",
            "  warnings.warn(\n",
            "/usr/local/lib/python3.8/dist-packages/spacy/training/iob_utils.py:149: UserWarning: [W030] Some entities could not be aligned in the text \"本报讯国家重点建设项目京郑(州)铁路电气化工程石家庄至安阳段最近开通。石安段电气化铁路全长二百二十五...\" with entities \"[(12, 16, 'GPE'), (23, 26, 'GPE'), (27, 29, 'GPE')...\". Use `spacy.training.offsets_to_biluo_tags(nlp.make_doc(text), entities)` to check the alignment. Misaligned entities ('-') will be ignored during training.\n",
            "  warnings.warn(\n",
            "/usr/local/lib/python3.8/dist-packages/spacy/training/iob_utils.py:149: UserWarning: [W030] Some entities could not be aligned in the text \"在成都市,谢世杰等领导先后看望了成都机床电器研究所、亚光电工总厂和川棉一厂的困难职工。当谢世杰把慰问...\" with entities \"[(1, 4, 'GPE'), (5, 8, 'PERSON'), (16, 18, 'GPE'),...\". Use `spacy.training.offsets_to_biluo_tags(nlp.make_doc(text), entities)` to check the alignment. Misaligned entities ('-') will be ignored during training.\n",
            "  warnings.warn(\n",
            "/usr/local/lib/python3.8/dist-packages/spacy/training/iob_utils.py:149: UserWarning: [W030] Some entities could not be aligned in the text \"本报讯由人民出版社近期出版的新时期公安边防部队质量建设专著《精兵严治探索》在读者中引起反响。该书作者...\" with entities \"[(9, 11, 'DATE'), (51, 54, 'GPE'), (67, 70, 'PERSO...\". Use `spacy.training.offsets_to_biluo_tags(nlp.make_doc(text), entities)` to check the alignment. Misaligned entities ('-') will be ignored during training.\n",
            "  warnings.warn(\n",
            "/usr/local/lib/python3.8/dist-packages/spacy/training/iob_utils.py:149: UserWarning: [W030] Some entities could not be aligned in the text \"建国后,刘澜涛同志担任华北局第三书记、华北行政委员会主席、华北军区副政委,同时还担任政务院华北事务部...\" with entities \"[(4, 7, 'PERSON'), (11, 14, 'ORG'), (63, 71, 'DATE...\". Use `spacy.training.offsets_to_biluo_tags(nlp.make_doc(text), entities)` to check the alignment. Misaligned entities ('-') will be ignored during training.\n",
            "  warnings.warn(\n",
            "/usr/local/lib/python3.8/dist-packages/spacy/training/iob_utils.py:149: UserWarning: [W030] Some entities could not be aligned in the text \"杭州东大门是一个重要的交通枢纽,104、320国道交汇于此,全省8个地市进出省会的通道也在此,加上机...\" with entities \"[(0, 2, 'GPE'), (56, 58, 'DATE'), (90, 92, 'GPE'),...\". Use `spacy.training.offsets_to_biluo_tags(nlp.make_doc(text), entities)` to check the alignment. Misaligned entities ('-') will be ignored during training.\n",
            "  warnings.warn(\n",
            "/usr/local/lib/python3.8/dist-packages/spacy/training/iob_utils.py:149: UserWarning: [W030] Some entities could not be aligned in the text \"走进江西省上高县新界埠乡,你会感到这里的人们幽默、诙谐,民风古朴,他们擅长漫画创作。10年前,他们成...\" with entities \"[(2, 5, 'GPE'), (5, 8, 'GPE'), (8, 12, 'GPE'), (59...\". Use `spacy.training.offsets_to_biluo_tags(nlp.make_doc(text), entities)` to check the alignment. Misaligned entities ('-') will be ignored during training.\n",
            "  warnings.warn(\n",
            "/usr/local/lib/python3.8/dist-packages/spacy/training/iob_utils.py:149: UserWarning: [W030] Some entities could not be aligned in the text \"(陈杰袁志彬吴建秀)\" with entities \"[(1, 3, 'PERSON'), (3, 6, 'PERSON'), (6, 9, 'PERSO...\". Use `spacy.training.offsets_to_biluo_tags(nlp.make_doc(text), entities)` to check the alignment. Misaligned entities ('-') will be ignored during training.\n",
            "  warnings.warn(\n",
            "/usr/local/lib/python3.8/dist-packages/spacy/training/iob_utils.py:149: UserWarning: [W030] Some entities could not be aligned in the text \"今天距长野冬奥会开幕还有整整一个月,此次火炬接力分三路进行,穿越日本的所有47个县,并将有数千人参加...\" with entities \"[(0, 2, 'DATE'), (3, 5, 'GPE'), (32, 34, 'GPE'), (...\". Use `spacy.training.offsets_to_biluo_tags(nlp.make_doc(text), entities)` to check the alignment. Misaligned entities ('-') will be ignored during training.\n",
            "  warnings.warn(\n",
            "/usr/local/lib/python3.8/dist-packages/spacy/training/iob_utils.py:149: UserWarning: [W030] Some entities could not be aligned in the text \"1949年11月,周恩来曾在外交部成立大会上说:抗日战争以来十多年,我们积累了许多对外斗争的经验,要...\" with entities \"[(0, 8, 'DATE'), (9, 12, 'PERSON'), (14, 17, 'ORG'...\". Use `spacy.training.offsets_to_biluo_tags(nlp.make_doc(text), entities)` to check the alignment. Misaligned entities ('-') will be ignored during training.\n",
            "  warnings.warn(\n",
            "/usr/local/lib/python3.8/dist-packages/spacy/training/iob_utils.py:149: UserWarning: [W030] Some entities could not be aligned in the text \"新华社达累斯萨拉姆1月6日电坦桑尼亚总统姆卡帕5日在内罗毕祝贺莫伊连任肯尼亚总统时说,肯尼亚此次大选...\" with entities \"[(0, 3, 'ORG'), (3, 9, 'GPE'), (9, 13, 'DATE'), (1...\". Use `spacy.training.offsets_to_biluo_tags(nlp.make_doc(text), entities)` to check the alignment. Misaligned entities ('-') will be ignored during training.\n",
            "  warnings.warn(\n",
            "/usr/local/lib/python3.8/dist-packages/spacy/training/iob_utils.py:149: UserWarning: [W030] Some entities could not be aligned in the text \"据俄通社—塔斯社报道,哈萨克斯坦、乌兹别克斯坦、塔吉克斯坦、吉尔吉斯斯坦和土库曼斯坦五国总统在当天的...\" with entities \"[(1, 4, 'ORG'), (5, 8, 'ORG'), (11, 16, 'GPE'), (1...\". Use `spacy.training.offsets_to_biluo_tags(nlp.make_doc(text), entities)` to check the alignment. Misaligned entities ('-') will be ignored during training.\n",
            "  warnings.warn(\n",
            "/usr/local/lib/python3.8/dist-packages/spacy/training/iob_utils.py:149: UserWarning: [W030] Some entities could not be aligned in the text \"咖啡飘香醉人心——哥斯达黎加见闻(下)(附图片1张)\" with entities \"[(9, 14, 'GPE')]\". Use `spacy.training.offsets_to_biluo_tags(nlp.make_doc(text), entities)` to check the alignment. Misaligned entities ('-') will be ignored during training.\n",
            "  warnings.warn(\n",
            "/usr/local/lib/python3.8/dist-packages/spacy/training/iob_utils.py:149: UserWarning: [W030] Some entities could not be aligned in the text \"意大利总理普罗迪4日说,欧洲国家将采取行动,共同对付库尔德难民涌入问题。普罗迪4日晚召开了由意外长、...\" with entities \"[(0, 3, 'GPE'), (5, 8, 'PERSON'), (8, 10, 'DATE'),...\". Use `spacy.training.offsets_to_biluo_tags(nlp.make_doc(text), entities)` to check the alignment. Misaligned entities ('-') will be ignored during training.\n",
            "  warnings.warn(\n",
            "/usr/local/lib/python3.8/dist-packages/spacy/training/iob_utils.py:149: UserWarning: [W030] Some entities could not be aligned in the text \"(中国人民银行江西金溪县支行周小琴陈广华汤长明)\" with entities \"[(1, 3, 'GPE'), (7, 9, 'GPE'), (9, 12, 'GPE'), (14...\". Use `spacy.training.offsets_to_biluo_tags(nlp.make_doc(text), entities)` to check the alignment. Misaligned entities ('-') will be ignored during training.\n",
            "  warnings.warn(\n",
            "/usr/local/lib/python3.8/dist-packages/spacy/training/iob_utils.py:149: UserWarning: [W030] Some entities could not be aligned in the text \"党中央、国务院三令五申,严禁用公款请客送礼,可此风久刹不住。笔者调查发现,送礼者的心态主要有:一是买...\" with entities \"[(0, 3, 'ORG'), (4, 7, 'ORG'), (64, 66, 'DATE')]\". Use `spacy.training.offsets_to_biluo_tags(nlp.make_doc(text), entities)` to check the alignment. Misaligned entities ('-') will be ignored during training.\n",
            "  warnings.warn(\n",
            "/usr/local/lib/python3.8/dist-packages/spacy/training/iob_utils.py:149: UserWarning: [W030] Some entities could not be aligned in the text \"(北京市西城区佟景宸)\" with entities \"[(1, 4, 'GPE'), (4, 7, 'GPE'), (7, 10, 'PERSON')]\". Use `spacy.training.offsets_to_biluo_tags(nlp.make_doc(text), entities)` to check the alignment. Misaligned entities ('-') will be ignored during training.\n",
            "  warnings.warn(\n",
            "/usr/local/lib/python3.8/dist-packages/spacy/training/iob_utils.py:149: UserWarning: [W030] Some entities could not be aligned in the text \"(中国人民银行四川德阳市分行荣鸿琪)\" with entities \"[(1, 3, 'GPE'), (7, 9, 'GPE'), (9, 12, 'GPE'), (14...\". Use `spacy.training.offsets_to_biluo_tags(nlp.make_doc(text), entities)` to check the alignment. Misaligned entities ('-') will be ignored during training.\n",
            "  warnings.warn(\n",
            "/usr/local/lib/python3.8/dist-packages/spacy/training/iob_utils.py:149: UserWarning: [W030] Some entities could not be aligned in the text \"三清山植物资源十分丰富,森林原始覆盖率达86·7%,有植物250多科2500多种。但是,最近笔者发现...\" with entities \"[(0, 3, 'GPE'), (44, 46, 'DATE'), (51, 54, 'GPE'),...\". Use `spacy.training.offsets_to_biluo_tags(nlp.make_doc(text), entities)` to check the alignment. Misaligned entities ('-') will be ignored during training.\n",
            "  warnings.warn(\n",
            "/usr/local/lib/python3.8/dist-packages/spacy/training/iob_utils.py:149: UserWarning: [W030] Some entities could not be aligned in the text \"素称“金栀之乡”的湖北长阳土家族自治县都镇湾镇去年栀子喜获丰收。据统计,全镇近万亩栀角可收获栀子11...\" with entities \"[(9, 11, 'GPE'), (11, 13, 'GPE'), (19, 23, 'GPE'),...\". Use `spacy.training.offsets_to_biluo_tags(nlp.make_doc(text), entities)` to check the alignment. Misaligned entities ('-') will be ignored during training.\n",
            "  warnings.warn(\n",
            "/usr/local/lib/python3.8/dist-packages/spacy/training/iob_utils.py:149: UserWarning: [W030] Some entities could not be aligned in the text \"一日,我到民政部门办点事,刚一坐下,就进来一位来访的乡下老人。工作人员老李笑吟吟地招呼老人:『请坐!...\" with entities \"[(35, 37, 'PERSON')]\". Use `spacy.training.offsets_to_biluo_tags(nlp.make_doc(text), entities)` to check the alignment. Misaligned entities ('-') will be ignored during training.\n",
            "  warnings.warn(\n",
            "/usr/local/lib/python3.8/dist-packages/spacy/training/iob_utils.py:149: UserWarning: [W030] Some entities could not be aligned in the text \"1995年7月6日,家住广元市朝天区的个体营运户李建国以16800元的价格从他人手中购得长安牌微型小...\" with entities \"[(0, 9, 'DATE'), (12, 15, 'GPE'), (15, 18, 'GPE'),...\". Use `spacy.training.offsets_to_biluo_tags(nlp.make_doc(text), entities)` to check the alignment. Misaligned entities ('-') will be ignored during training.\n",
            "  warnings.warn(\n",
            "/usr/local/lib/python3.8/dist-packages/spacy/training/iob_utils.py:149: UserWarning: [W030] Some entities could not be aligned in the text \"(广州开发区报施大鑫)\" with entities \"[(1, 3, 'GPE'), (7, 10, 'PERSON')]\". Use `spacy.training.offsets_to_biluo_tags(nlp.make_doc(text), entities)` to check the alignment. Misaligned entities ('-') will be ignored during training.\n",
            "  warnings.warn(\n",
            "/usr/local/lib/python3.8/dist-packages/spacy/training/iob_utils.py:149: UserWarning: [W030] Some entities could not be aligned in the text \"1941年6月中条山战役后,太岳军区与太岳区党委根据一二九师发出的乘机开辟岳南中条山局面的指示,迅速...\" with entities \"[(0, 7, 'DATE'), (7, 10, 'GPE'), (14, 16, 'GPE'), ...\". Use `spacy.training.offsets_to_biluo_tags(nlp.make_doc(text), entities)` to check the alignment. Misaligned entities ('-') will be ignored during training.\n",
            "  warnings.warn(\n",
            "/usr/local/lib/python3.8/dist-packages/spacy/training/iob_utils.py:149: UserWarning: [W030] Some entities could not be aligned in the text \"1942年10月,日本侵略军发动了长达3个月的“全山西秋季剿共作战”。11月11日,太岳区党委根据根...\" with entities \"[(0, 8, 'DATE'), (9, 11, 'GPE'), (25, 27, 'GPE'), ...\". Use `spacy.training.offsets_to_biluo_tags(nlp.make_doc(text), entities)` to check the alignment. Misaligned entities ('-') will be ignored during training.\n",
            "  warnings.warn(\n",
            "/usr/local/lib/python3.8/dist-packages/spacy/training/iob_utils.py:149: UserWarning: [W030] Some entities could not be aligned in the text \"1941年,敌人实行“三光”政策和推行所谓“治安强化运动”,强迫占领区周围的群众组建维持会。有的地方...\" with entities \"[(0, 5, 'DATE'), (117, 120, 'PERSON'), (338, 341, ...\". Use `spacy.training.offsets_to_biluo_tags(nlp.make_doc(text), entities)` to check the alignment. Misaligned entities ('-') will be ignored during training.\n",
            "  warnings.warn(\n",
            "/usr/local/lib/python3.8/dist-packages/spacy/training/iob_utils.py:149: UserWarning: [W030] Some entities could not be aligned in the text \"1956年,经高教部批准,何长工决定在西南重镇成都建立成都地质学院。筹建期间,何长工亲赴成都督战,一...\" with entities \"[(0, 5, 'DATE'), (13, 16, 'PERSON'), (23, 25, 'GPE...\". Use `spacy.training.offsets_to_biluo_tags(nlp.make_doc(text), entities)` to check the alignment. Misaligned entities ('-') will be ignored during training.\n",
            "  warnings.warn(\n",
            "/usr/local/lib/python3.8/dist-packages/spacy/training/iob_utils.py:149: UserWarning: [W030] Some entities could not be aligned in the text \"图为唐胜利在中国康复研究中心附属北京博爱医院住院期间,四川女同伴给她喂饭。(方云伟摄)\" with entities \"[(2, 5, 'PERSON'), (6, 8, 'GPE'), (16, 18, 'GPE'),...\". Use `spacy.training.offsets_to_biluo_tags(nlp.make_doc(text), entities)` to check the alignment. Misaligned entities ('-') will be ignored during training.\n",
            "  warnings.warn(\n",
            "/usr/local/lib/python3.8/dist-packages/spacy/training/iob_utils.py:149: UserWarning: [W030] Some entities could not be aligned in the text \"据新华社北京1月6日电(记者孙杰)据邮电部最新统计,1997年我国新增邮路33万公里,从而使我国拥有...\" with entities \"[(1, 4, 'ORG'), (4, 6, 'GPE'), (6, 10, 'DATE'), (1...\". Use `spacy.training.offsets_to_biluo_tags(nlp.make_doc(text), entities)` to check the alignment. Misaligned entities ('-') will be ignored during training.\n",
            "  warnings.warn(\n",
            "/usr/local/lib/python3.8/dist-packages/spacy/training/iob_utils.py:149: UserWarning: [W030] Some entities could not be aligned in the text \"1997年11月29日午后,当我走向大山顶时,对它的高迢险峻茫然无知,浓雾阴霾重重叠叠地将它包裹得严...\" with entities \"[(0, 13, 'DATE'), (18, 21, 'GPE'), (65, 68, 'GPE')...\". Use `spacy.training.offsets_to_biluo_tags(nlp.make_doc(text), entities)` to check the alignment. Misaligned entities ('-') will be ignored during training.\n",
            "  warnings.warn(\n",
            "/usr/local/lib/python3.8/dist-packages/spacy/training/iob_utils.py:149: UserWarning: [W030] Some entities could not be aligned in the text \"谭量顺看干部们算账,光嘿嘿地笑。他说:“草地畜牧业有搞头,成本低,赚头大。我现在身体不行了,牛剩下也...\" with entities \"[(0, 3, 'PERSON'), (38, 40, 'DATE'), (64, 67, 'PER...\". Use `spacy.training.offsets_to_biluo_tags(nlp.make_doc(text), entities)` to check the alignment. Misaligned entities ('-') will be ignored during training.\n",
            "  warnings.warn(\n",
            "/usr/local/lib/python3.8/dist-packages/spacy/training/iob_utils.py:149: UserWarning: [W030] Some entities could not be aligned in the text \"本报讯由济南军区东方药业集团和山东省中医药研究所共同研制开发的国家四类中药新药感冒止咳合剂,最近经国...\" with entities \"[(4, 6, 'GPE'), (15, 18, 'GPE'), (46, 48, 'DATE'),...\". Use `spacy.training.offsets_to_biluo_tags(nlp.make_doc(text), entities)` to check the alignment. Misaligned entities ('-') will be ignored during training.\n",
            "  warnings.warn(\n",
            "/usr/local/lib/python3.8/dist-packages/spacy/training/iob_utils.py:149: UserWarning: [W030] Some entities could not be aligned in the text \"周恩来的军事生涯是从大革命时期开始的,早在1924年10月他就参加了平定商团叛乱的临时指挥部工作。从...\" with entities \"[(0, 3, 'PERSON'), (21, 29, 'DATE'), (50, 57, 'DAT...\". Use `spacy.training.offsets_to_biluo_tags(nlp.make_doc(text), entities)` to check the alignment. Misaligned entities ('-') will be ignored during training.\n",
            "  warnings.warn(\n",
            "/usr/local/lib/python3.8/dist-packages/spacy/training/iob_utils.py:149: UserWarning: [W030] Some entities could not be aligned in the text \"今天,全国语言文字工作会议召开了。1986年全国语言文字工作会议以来,语言文字工作在推广普通话、提高...\" with entities \"[(0, 2, 'DATE'), (17, 22, 'DATE'), (205, 208, 'ORG...\". Use `spacy.training.offsets_to_biluo_tags(nlp.make_doc(text), entities)` to check the alignment. Misaligned entities ('-') will be ignored during training.\n",
            "  warnings.warn(\n",
            "/usr/local/lib/python3.8/dist-packages/spacy/training/iob_utils.py:149: UserWarning: [W030] Some entities could not be aligned in the text \"新亚欧大陆桥全长10900多公里,开通5年来,过境国际集装箱运输共完成42502标准箱,货物分属10...\" with entities \"[(59, 62, 'PERSON')]\". Use `spacy.training.offsets_to_biluo_tags(nlp.make_doc(text), entities)` to check the alignment. Misaligned entities ('-') will be ignored during training.\n",
            "  warnings.warn(\n",
            "/usr/local/lib/python3.8/dist-packages/spacy/training/iob_utils.py:149: UserWarning: [W030] Some entities could not be aligned in the text \"“五月的风”落户山东青岛市(图片)\" with entities \"[(1, 3, 'DATE'), (8, 10, 'GPE'), (10, 13, 'GPE')]\". Use `spacy.training.offsets_to_biluo_tags(nlp.make_doc(text), entities)` to check the alignment. Misaligned entities ('-') will be ignored during training.\n",
            "  warnings.warn(\n",
            "/usr/local/lib/python3.8/dist-packages/spacy/training/iob_utils.py:149: UserWarning: [W030] Some entities could not be aligned in the text \"新华社沈阳1月7日电沈阳市第十二届人民代表大会第一次会议1月7日选举张荣茂为市人大常委会主任;选举慕...\" with entities \"[(0, 3, 'ORG'), (3, 5, 'GPE'), (5, 9, 'DATE'), (10...\". Use `spacy.training.offsets_to_biluo_tags(nlp.make_doc(text), entities)` to check the alignment. Misaligned entities ('-') will be ignored during training.\n",
            "  warnings.warn(\n",
            "/usr/local/lib/python3.8/dist-packages/spacy/training/iob_utils.py:149: UserWarning: [W030] Some entities could not be aligned in the text \"新华社武汉1月7日电(记者金风)在今天举行的武汉市第十届人民代表大会第一次会议上,李岩当选为武汉市第...\" with entities \"[(0, 3, 'ORG'), (3, 5, 'GPE'), (5, 9, 'DATE'), (13...\". Use `spacy.training.offsets_to_biluo_tags(nlp.make_doc(text), entities)` to check the alignment. Misaligned entities ('-') will be ignored during training.\n",
            "  warnings.warn(\n",
            "/usr/local/lib/python3.8/dist-packages/spacy/training/iob_utils.py:149: UserWarning: [W030] Some entities could not be aligned in the text \"本报讯新华出版社新近推出《学人文库》,从文学、戏曲、历史、风俗等角度探究现实问题,既有运思精妙、寄意...\" with entities \"[(74, 77, 'PERSON'), (86, 88, 'PERSON'), (94, 96, ...\". Use `spacy.training.offsets_to_biluo_tags(nlp.make_doc(text), entities)` to check the alignment. Misaligned entities ('-') will be ignored during training.\n",
            "  warnings.warn(\n",
            "/usr/local/lib/python3.8/dist-packages/spacy/training/iob_utils.py:149: UserWarning: [W030] Some entities could not be aligned in the text \"在辽宁山城本溪市的大街小巷、广场公园,时不时地响起这样一声声欣喜的吆喝。接着便看见笑逐颜开的男女老少...\" with entities \"[(1, 3, 'GPE'), (5, 8, 'GPE'), (60, 63, 'PERSON')]\". Use `spacy.training.offsets_to_biluo_tags(nlp.make_doc(text), entities)` to check the alignment. Misaligned entities ('-') will be ignored during training.\n",
            "  warnings.warn(\n",
            "/usr/local/lib/python3.8/dist-packages/spacy/training/iob_utils.py:149: UserWarning: [W030] Some entities could not be aligned in the text \"本报北京1月7日讯经国务院办公厅批准中国环境管理体系认证指导委员会已成立,它肩负着统一领导ISO14...\" with entities \"[(2, 4, 'GPE'), (4, 8, 'DATE'), (10, 13, 'ORG'), (...\". Use `spacy.training.offsets_to_biluo_tags(nlp.make_doc(text), entities)` to check the alignment. Misaligned entities ('-') will be ignored during training.\n",
            "  warnings.warn(\n",
            "/usr/local/lib/python3.8/dist-packages/spacy/training/iob_utils.py:149: UserWarning: [W030] Some entities could not be aligned in the text \"对罗德—拉森的这一任命是挪威于一周前宣布将对巴以冲突再次进行调解后作出的。沃勒贝克外交大臣目前对中东...\" with entities \"[(1, 6, 'PERSON'), (12, 14, 'GPE'), (37, 41, 'PERS...\". Use `spacy.training.offsets_to_biluo_tags(nlp.make_doc(text), entities)` to check the alignment. Misaligned entities ('-') will be ignored during training.\n",
            "  warnings.warn(\n",
            "/usr/local/lib/python3.8/dist-packages/spacy/training/iob_utils.py:149: UserWarning: [W030] Some entities could not be aligned in the text \"新华社联合国1月6日电(记者谢美华)联合国秘书长发言人办公室6日宣布,联合国秘书长安南已于5日深夜批...\" with entities \"[(0, 3, 'ORG'), (3, 6, 'ORG'), (6, 10, 'DATE'), (1...\". Use `spacy.training.offsets_to_biluo_tags(nlp.make_doc(text), entities)` to check the alignment. Misaligned entities ('-') will be ignored during training.\n",
            "  warnings.warn(\n",
            "/usr/local/lib/python3.8/dist-packages/spacy/training/iob_utils.py:149: UserWarning: [W030] Some entities could not be aligned in the text \"演习由三方海军将领组成的指挥系统负责指挥。以色列国防部长莫迪凯乘直升机亲临演习现场,并登上以色列参加...\" with entities \"[(21, 24, 'GPE'), (28, 31, 'PERSON'), (45, 48, 'GP...\". Use `spacy.training.offsets_to_biluo_tags(nlp.make_doc(text), entities)` to check the alignment. Misaligned entities ('-') will be ignored during training.\n",
            "  warnings.warn(\n",
            "/usr/local/lib/python3.8/dist-packages/spacy/training/iob_utils.py:149: UserWarning: [W030] Some entities could not be aligned in the text \"中国围棋天元战产生八强陈祖德聂卫平入围\" with entities \"[(0, 2, 'GPE'), (11, 14, 'PERSON'), (14, 17, 'PERS...\". Use `spacy.training.offsets_to_biluo_tags(nlp.make_doc(text), entities)` to check the alignment. Misaligned entities ('-') will be ignored during training.\n",
            "  warnings.warn(\n",
            "/usr/local/lib/python3.8/dist-packages/spacy/training/iob_utils.py:149: UserWarning: [W030] Some entities could not be aligned in the text \"张发强(国家体委副主任):体育发展还走过去的老路是不行的。从体制上说,体育应当是国家和社会共同兴办;...\" with entities \"[(0, 3, 'PERSON'), (19, 21, 'DATE'), (68, 70, 'GPE...\". Use `spacy.training.offsets_to_biluo_tags(nlp.make_doc(text), entities)` to check the alignment. Misaligned entities ('-') will be ignored during training.\n",
            "  warnings.warn(\n",
            "/usr/local/lib/python3.8/dist-packages/spacy/training/iob_utils.py:149: UserWarning: [W030] Some entities could not be aligned in the text \"澳大利亚游泳队主教练塔尔伯特说:“许多人早已怀疑国际体坛对服药的丑恶现象越来越姑息迁就。但现在人们看...\" with entities \"[(0, 4, 'GPE'), (10, 14, 'PERSON'), (45, 47, 'DATE...\". Use `spacy.training.offsets_to_biluo_tags(nlp.make_doc(text), entities)` to check the alignment. Misaligned entities ('-') will be ignored during training.\n",
            "  warnings.warn(\n",
            "/usr/local/lib/python3.8/dist-packages/spacy/training/iob_utils.py:149: UserWarning: [W030] Some entities could not be aligned in the text \"广东宏远队本轮再次显示出雄厚的外线实力,他们以86∶65战胜沈阳军区队。86分中,三分远投的得分就占...\" with entities \"[(0, 2, 'GPE'), (2, 5, 'ORG'), (30, 32, 'GPE')]\". Use `spacy.training.offsets_to_biluo_tags(nlp.make_doc(text), entities)` to check the alignment. Misaligned entities ('-') will be ignored during training.\n",
            "  warnings.warn(\n",
            "/usr/local/lib/python3.8/dist-packages/spacy/training/iob_utils.py:149: UserWarning: [W030] Some entities could not be aligned in the text \"线索2:1岁多的女孩翩翩这会儿特别高兴,外婆给了她一些好吃的薯条。可是,外婆偏要她送点给别人吃。翩翩...\" with entities \"[(10, 12, 'PERSON'), (48, 50, 'PERSON'), (54, 56, ...\". Use `spacy.training.offsets_to_biluo_tags(nlp.make_doc(text), entities)` to check the alignment. Misaligned entities ('-') will be ignored during training.\n",
            "  warnings.warn(\n",
            "/usr/local/lib/python3.8/dist-packages/spacy/training/iob_utils.py:149: UserWarning: [W030] Some entities could not be aligned in the text \"李坚(69岁):其实,平时买回来的很多东西,大人还舍不得吃呢。尽管主要是让孩子一个人吃的,也要让他们...\" with entities \"[(0, 2, 'PERSON'), (11, 13, 'DATE'), (165, 167, 'D...\". Use `spacy.training.offsets_to_biluo_tags(nlp.make_doc(text), entities)` to check the alignment. Misaligned entities ('-') will be ignored during training.\n",
            "  warnings.warn(\n",
            "/usr/local/lib/python3.8/dist-packages/spacy/training/iob_utils.py:149: UserWarning: [W030] Some entities could not be aligned in the text \"新年伊始,从南中国海畔的大亚湾核电站传来喜讯,这座我国目前最大的商用核电站,投产运行近4年来,取得了...\" with entities \"[(0, 2, 'DATE'), (7, 10, 'GPE'), (12, 15, 'GPE'), ...\". Use `spacy.training.offsets_to_biluo_tags(nlp.make_doc(text), entities)` to check the alignment. Misaligned entities ('-') will be ignored during training.\n",
            "  warnings.warn(\n",
            "/usr/local/lib/python3.8/dist-packages/spacy/training/iob_utils.py:149: UserWarning: [W030] Some entities could not be aligned in the text \"作为冶金工业部洛阳耐火材料研究院的高级工程师,刘我成曾有一份令人羡慕的工作。然而,1991年4月,当...\" with entities \"[(7, 9, 'GPE'), (23, 26, 'PERSON'), (41, 48, 'DATE...\". Use `spacy.training.offsets_to_biluo_tags(nlp.make_doc(text), entities)` to check the alignment. Misaligned entities ('-') will be ignored during training.\n",
            "  warnings.warn(\n",
            "/usr/local/lib/python3.8/dist-packages/spacy/training/iob_utils.py:149: UserWarning: [W030] Some entities could not be aligned in the text \"据新华社上海1月8日电(汪洪洋、林志平)上海税务稽查队伍,1997年共查结各类偷、骗税案件5000多...\" with entities \"[(1, 4, 'ORG'), (4, 6, 'GPE'), (6, 10, 'DATE'), (1...\". Use `spacy.training.offsets_to_biluo_tags(nlp.make_doc(text), entities)` to check the alignment. Misaligned entities ('-') will be ignored during training.\n",
            "  warnings.warn(\n",
            "/usr/local/lib/python3.8/dist-packages/spacy/training/iob_utils.py:149: UserWarning: [W030] Some entities could not be aligned in the text \"南京东路警署工作优秀,关键是有一个好的领导班子。他们在工作中率先垂范,要求干警做到的,署领导必定首先...\" with entities \"[(0, 2, 'GPE')]\". Use `spacy.training.offsets_to_biluo_tags(nlp.make_doc(text), entities)` to check the alignment. Misaligned entities ('-') will be ignored during training.\n",
            "  warnings.warn(\n",
            "/usr/local/lib/python3.8/dist-packages/spacy/training/iob_utils.py:149: UserWarning: [W030] Some entities could not be aligned in the text \"据新华社北京1月8日电(记者肖璞)中共中央政治局委员、中央军委副主席、国务委员兼国防部长迟浩田今天在...\" with entities \"[(1, 4, 'ORG'), (4, 6, 'GPE'), (6, 10, 'DATE'), (1...\". Use `spacy.training.offsets_to_biluo_tags(nlp.make_doc(text), entities)` to check the alignment. Misaligned entities ('-') will be ignored during training.\n",
            "  warnings.warn(\n",
            "/usr/local/lib/python3.8/dist-packages/spacy/training/iob_utils.py:149: UserWarning: [W030] Some entities could not be aligned in the text \"入冬以来,安徽省长丰县干部职工纷纷向灾民困难户捐款捐物,以帮助困难户解决过冬和欢度新年之急。图为县人...\" with entities \"[(5, 8, 'GPE'), (8, 11, 'GPE'), (41, 43, 'DATE'), ...\". Use `spacy.training.offsets_to_biluo_tags(nlp.make_doc(text), entities)` to check the alignment. Misaligned entities ('-') will be ignored during training.\n",
            "  warnings.warn(\n",
            "/usr/local/lib/python3.8/dist-packages/spacy/training/iob_utils.py:149: UserWarning: [W030] Some entities could not be aligned in the text \"先生介绍说,历史上罗布泊曾屡经沧桑变故:2000年前的汉代,罗布泊“广袤三百里,其水亭居,冬夏不增减...\" with entities \"[(9, 12, 'GPE'), (20, 25, 'DATE'), (30, 33, 'GPE')...\". Use `spacy.training.offsets_to_biluo_tags(nlp.make_doc(text), entities)` to check the alignment. Misaligned entities ('-') will be ignored during training.\n",
            "  warnings.warn(\n",
            "/usr/local/lib/python3.8/dist-packages/spacy/training/iob_utils.py:149: UserWarning: [W030] Some entities could not be aligned in the text \"本报武汉1月8日电“马寅初平反本来静悄悄”、“厂庆中抓出中国新闻奖”……一串串饶有趣味而又令人信服的...\" with entities \"[(2, 4, 'GPE'), (4, 8, 'DATE'), (10, 13, 'PERSON')...\". Use `spacy.training.offsets_to_biluo_tags(nlp.make_doc(text), entities)` to check the alignment. Misaligned entities ('-') will be ignored during training.\n",
            "  warnings.warn(\n",
            "/usr/local/lib/python3.8/dist-packages/spacy/training/iob_utils.py:149: UserWarning: [W030] Some entities could not be aligned in the text \"空军公主岭医院副主任医师齐文明,原是脑外科医生,看到病人的痛苦,开始进行攻关。1986年他在为一例偏...\" with entities \"[(2, 5, 'GPE'), (12, 15, 'PERSON'), (39, 44, 'DATE...\". Use `spacy.training.offsets_to_biluo_tags(nlp.make_doc(text), entities)` to check the alignment. Misaligned entities ('-') will be ignored during training.\n",
            "  warnings.warn(\n",
            "/usr/local/lib/python3.8/dist-packages/spacy/training/iob_utils.py:149: UserWarning: [W030] Some entities could not be aligned in the text \"本报讯为庆祝江苏省国画院四十华诞,该院组织了一百多幅风格各异、生动活泼、气势浩然的书画作品,于一九九...\" with entities \"[(6, 9, 'GPE'), (47, 57, 'DATE'), (58, 60, 'GPE'),...\". Use `spacy.training.offsets_to_biluo_tags(nlp.make_doc(text), entities)` to check the alignment. Misaligned entities ('-') will be ignored during training.\n",
            "  warnings.warn(\n",
            "/usr/local/lib/python3.8/dist-packages/spacy/training/iob_utils.py:149: UserWarning: [W030] Some entities could not be aligned in the text \"印度政界、舆论界对索尼亚参加竞选反应强烈。国大党主席凯斯里对此表示欢迎。他说,他已多次请索尼亚出山领...\" with entities \"[(0, 2, 'GPE'), (9, 12, 'PERSON'), (26, 29, 'PERSO...\". Use `spacy.training.offsets_to_biluo_tags(nlp.make_doc(text), entities)` to check the alignment. Misaligned entities ('-') will be ignored during training.\n",
            "  warnings.warn(\n",
            "/usr/local/lib/python3.8/dist-packages/spacy/training/iob_utils.py:149: UserWarning: [W030] Some entities could not be aligned in the text \"不过,由于印度国大党内部积弊日久,争权夺利的派系斗争过于频繁,造成国大党的威望日益衰微,凝聚力大降,...\" with entities \"[(5, 7, 'GPE'), (52, 58, 'PERSON'), (103, 106, 'PE...\". Use `spacy.training.offsets_to_biluo_tags(nlp.make_doc(text), entities)` to check the alignment. Misaligned entities ('-') will be ignored during training.\n",
            "  warnings.warn(\n",
            "/usr/local/lib/python3.8/dist-packages/spacy/training/iob_utils.py:149: UserWarning: [W030] Some entities could not be aligned in the text \"向波黑派地面部队在美国一开始就有争议,因此克林顿总统1995年底宣布向波黑派出维和部队时,把时间限定...\" with entities \"[(1, 3, 'GPE'), (9, 11, 'GPE'), (21, 24, 'PERSON')...\". Use `spacy.training.offsets_to_biluo_tags(nlp.make_doc(text), entities)` to check the alignment. Misaligned entities ('-') will be ignored during training.\n",
            "  warnings.warn(\n",
            "/usr/local/lib/python3.8/dist-packages/spacy/training/iob_utils.py:149: UserWarning: [W030] Some entities could not be aligned in the text \"开罗的快餐快送服务大约始于埃及经济改革初期。如今,在大开罗的闹市通衢,名目繁多的西式、阿式快餐店比比...\" with entities \"[(0, 2, 'GPE'), (13, 15, 'GPE'), (22, 24, 'DATE'),...\". Use `spacy.training.offsets_to_biluo_tags(nlp.make_doc(text), entities)` to check the alignment. Misaligned entities ('-') will be ignored during training.\n",
            "  warnings.warn(\n",
            "/usr/local/lib/python3.8/dist-packages/spacy/training/iob_utils.py:149: UserWarning: [W030] Some entities could not be aligned in the text \"墨西哥总统塞迪略7日任命女参议员罗萨里奥·格林为外交部长。格林同日在就职后宣布,墨西哥外交部将本着尊...\" with entities \"[(0, 3, 'GPE'), (5, 8, 'PERSON'), (8, 10, 'DATE'),...\". Use `spacy.training.offsets_to_biluo_tags(nlp.make_doc(text), entities)` to check the alignment. Misaligned entities ('-') will be ignored during training.\n",
            "  warnings.warn(\n",
            "/usr/local/lib/python3.8/dist-packages/spacy/training/iob_utils.py:149: UserWarning: [W030] Some entities could not be aligned in the text \"韩国人自古以来就有惜金和藏金的风俗。尤其是新婚家庭,当儿女出生过一岁生日时,亲属朋友总要赠送金铃、金...\" with entities \"[(0, 2, 'GPE'), (130, 132, 'GPE')]\". Use `spacy.training.offsets_to_biluo_tags(nlp.make_doc(text), entities)` to check the alignment. Misaligned entities ('-') will be ignored during training.\n",
            "  warnings.warn(\n",
            "/usr/local/lib/python3.8/dist-packages/spacy/training/iob_utils.py:149: UserWarning: [W030] Some entities could not be aligned in the text \"1月6日,载着“月球勘探者”的雅典娜Ⅱ型火箭在美国卡纳维拉尔角空军基地顺利升空。(新华社发美联社照片...\" with entities \"[(0, 4, 'DATE'), (23, 25, 'GPE'), (25, 31, 'GPE'),...\". Use `spacy.training.offsets_to_biluo_tags(nlp.make_doc(text), entities)` to check the alignment. Misaligned entities ('-') will be ignored during training.\n",
            "  warnings.warn(\n",
            "/usr/local/lib/python3.8/dist-packages/spacy/training/iob_utils.py:149: UserWarning: [W030] Some entities could not be aligned in the text \"《朝鲜日报》也决定自今日起将专版与主报版面合并印刷,并减少6—8个版的印刷量。\" with entities \"[(1, 3, 'GPE'), (10, 12, 'DATE')]\". Use `spacy.training.offsets_to_biluo_tags(nlp.make_doc(text), entities)` to check the alignment. Misaligned entities ('-') will be ignored during training.\n",
            "  warnings.warn(\n",
            "/usr/local/lib/python3.8/dist-packages/spacy/training/iob_utils.py:149: UserWarning: [W030] Some entities could not be aligned in the text \"CT扫描木乃伊生前曾寄血吸虫\" with entities \"[(7, 9, 'DATE')]\". Use `spacy.training.offsets_to_biluo_tags(nlp.make_doc(text), entities)` to check the alignment. Misaligned entities ('-') will be ignored during training.\n",
            "  warnings.warn(\n",
            "/usr/local/lib/python3.8/dist-packages/spacy/training/iob_utils.py:149: UserWarning: [W030] Some entities could not be aligned in the text \"本报讯1月8日在北京人民大会堂举行了1997年千里明杯世界十佳运动员评选揭晓仪式。罗纳尔多(巴西)、...\" with entities \"[(3, 7, 'DATE'), (8, 10, 'GPE'), (18, 23, 'DATE'),...\". Use `spacy.training.offsets_to_biluo_tags(nlp.make_doc(text), entities)` to check the alignment. Misaligned entities ('-') will be ignored during training.\n",
            "  warnings.warn(\n",
            "/usr/local/lib/python3.8/dist-packages/spacy/training/iob_utils.py:149: UserWarning: [W030] Some entities could not be aligned in the text \"五十年代,杨虎城将军的女儿杨拯陆来到新疆,为勘探石油艰辛备尝,最后献出生命。她的事迹感人至深,她的精...\" with entities \"[(5, 8, 'PERSON'), (13, 16, 'PERSON'), (18, 20, 'G...\". Use `spacy.training.offsets_to_biluo_tags(nlp.make_doc(text), entities)` to check the alignment. Misaligned entities ('-') will be ignored during training.\n",
            "  warnings.warn(\n",
            "/usr/local/lib/python3.8/dist-packages/spacy/training/iob_utils.py:149: UserWarning: [W030] Some entities could not be aligned in the text \"他们特意邀请了享誉舞坛的舞蹈大家门文元任总导演,邀请王小云、艾山、孔岩、陈凯等各地的优秀编导家、演员...\" with entities \"[(16, 19, 'PERSON'), (26, 29, 'PERSON'), (30, 32, ...\". Use `spacy.training.offsets_to_biluo_tags(nlp.make_doc(text), entities)` to check the alignment. Misaligned entities ('-') will be ignored during training.\n",
            "  warnings.warn(\n",
            "/usr/local/lib/python3.8/dist-packages/spacy/training/iob_utils.py:149: UserWarning: [W030] Some entities could not be aligned in the text \"这一全国性的大型群众文化活动,无疑对于普及电影文化、推动国产优秀影片的创作、促进精神文明建设有着积极...\" with entities \"[(54, 56, 'PERSON')]\". Use `spacy.training.offsets_to_biluo_tags(nlp.make_doc(text), entities)` to check the alignment. Misaligned entities ('-') will be ignored during training.\n",
            "  warnings.warn(\n",
            "/usr/local/lib/python3.8/dist-packages/spacy/training/iob_utils.py:149: UserWarning: [W030] Some entities could not be aligned in the text \"1985年,脱下铁道兵军装的石学海调到大连电视台,执导的第一部电视剧《聪儿五岁》,就与“飞天”奖结缘...\" with entities \"[(0, 5, 'DATE'), (14, 17, 'PERSON'), (19, 21, 'GPE...\". Use `spacy.training.offsets_to_biluo_tags(nlp.make_doc(text), entities)` to check the alignment. Misaligned entities ('-') will be ignored during training.\n",
            "  warnings.warn(\n",
            "/usr/local/lib/python3.8/dist-packages/spacy/training/iob_utils.py:149: UserWarning: [W030] Some entities could not be aligned in the text \"李光辉随省委“农业学大寨”工作团下到湘西龙岩坡的时候才二十一岁。那里穷山恶水,女人却如同米勒笔下的农...\" with entities \"[(0, 3, 'PERSON'), (10, 12, 'GPE'), (18, 20, 'GPE'...\". Use `spacy.training.offsets_to_biluo_tags(nlp.make_doc(text), entities)` to check the alignment. Misaligned entities ('-') will be ignored during training.\n",
            "  warnings.warn(\n",
            "/usr/local/lib/python3.8/dist-packages/spacy/training/iob_utils.py:149: UserWarning: [W030] Some entities could not be aligned in the text \"你在偶然的情况下住进医院,竟会同分离了四十年的LM不期而遇。他已经三次中风,语言行动都极为困难,很可...\" with entities \"[(23, 25, 'PERSON'), (325, 327, 'PERSON'), (515, 5...\". Use `spacy.training.offsets_to_biluo_tags(nlp.make_doc(text), entities)` to check the alignment. Misaligned entities ('-') will be ignored during training.\n",
            "  warnings.warn(\n",
            "/usr/local/lib/python3.8/dist-packages/spacy/training/iob_utils.py:149: UserWarning: [W030] Some entities could not be aligned in the text \"然而,对这些看似荒唐的通知,没有人抗议。就像北京的十字路口,除了交通警察,必有几个人拿着小旗,在谁都...\" with entities \"[(22, 24, 'GPE'), (181, 183, 'DATE'), (202, 204, '...\". Use `spacy.training.offsets_to_biluo_tags(nlp.make_doc(text), entities)` to check the alignment. Misaligned entities ('-') will be ignored during training.\n",
            "  warnings.warn(\n",
            "/usr/local/lib/python3.8/dist-packages/spacy/training/iob_utils.py:149: UserWarning: [W030] Some entities could not be aligned in the text \"真该感谢廉洁的吴金印们,是他们的模范事迹使我们嘲笑“下基层的时机问题”能找到一个坚实的支点。但愿新的...\" with entities \"[(7, 10, 'PERSON'), (75, 77, 'DATE')]\". Use `spacy.training.offsets_to_biluo_tags(nlp.make_doc(text), entities)` to check the alignment. Misaligned entities ('-') will be ignored during training.\n",
            "  warnings.warn(\n",
            "/usr/local/lib/python3.8/dist-packages/spacy/training/iob_utils.py:149: UserWarning: [W030] Some entities could not be aligned in the text \"于是,我们相互自我介绍起来。男的许君,是上海青浦人,女的自报叫艾琳。在英国,往往能从一个人的发音就能...\" with entities \"[(16, 18, 'PERSON'), (20, 22, 'GPE'), (22, 24, 'GP...\". Use `spacy.training.offsets_to_biluo_tags(nlp.make_doc(text), entities)` to check the alignment. Misaligned entities ('-') will be ignored during training.\n",
            "  warnings.warn(\n",
            "/usr/local/lib/python3.8/dist-packages/spacy/training/iob_utils.py:149: UserWarning: [W030] Some entities could not be aligned in the text \"据新华社北京1月8日电(记者赵秀娟、周志方)南京军区前线话剧团创作演出的大型话剧《虎踞钟山》,使北京...\" with entities \"[(1, 4, 'ORG'), (4, 6, 'GPE'), (6, 10, 'DATE'), (1...\". Use `spacy.training.offsets_to_biluo_tags(nlp.make_doc(text), entities)` to check the alignment. Misaligned entities ('-') will be ignored during training.\n",
            "  warnings.warn(\n",
            "/usr/local/lib/python3.8/dist-packages/spacy/training/iob_utils.py:149: UserWarning: [W030] Some entities could not be aligned in the text \"此次研讨会中方汇集了农业部、林业部、水利部、电力部、国务院三峡办、中国长江技术经济学会、中国人民外交...\" with entities \"[(10, 13, 'ORG'), (14, 17, 'ORG'), (18, 21, 'ORG')...\". Use `spacy.training.offsets_to_biluo_tags(nlp.make_doc(text), entities)` to check the alignment. Misaligned entities ('-') will be ignored during training.\n",
            "  warnings.warn(\n",
            "/usr/local/lib/python3.8/dist-packages/spacy/training/iob_utils.py:149: UserWarning: [W030] Some entities could not be aligned in the text \"本报北京1月9日讯记者徐卫东报道:2000年将是个世界性的节日,为庆祝这一历史时刻,由人民日报社发起...\" with entities \"[(2, 4, 'GPE'), (4, 8, 'DATE'), (11, 14, 'PERSON')...\". Use `spacy.training.offsets_to_biluo_tags(nlp.make_doc(text), entities)` to check the alignment. Misaligned entities ('-') will be ignored during training.\n",
            "  warnings.warn(\n",
            "/usr/local/lib/python3.8/dist-packages/spacy/training/iob_utils.py:149: UserWarning: [W030] Some entities could not be aligned in the text \"据新华社香港1月9日电(记者何自力)为庆贺香港回归祖国后第一个春节的到来,香港将在农历新年初二晚上,...\" with entities \"[(1, 4, 'ORG'), (4, 6, 'GPE'), (6, 10, 'DATE'), (1...\". Use `spacy.training.offsets_to_biluo_tags(nlp.make_doc(text), entities)` to check the alignment. Misaligned entities ('-') will be ignored during training.\n",
            "  warnings.warn(\n",
            "/usr/local/lib/python3.8/dist-packages/spacy/training/iob_utils.py:149: UserWarning: [W030] Some entities could not be aligned in the text \"据新华社拉巴特1月8日电(记者王忠菊、诸葛仓麟)摩洛哥国王哈桑二世8日晚在拉巴特王宫会见了正在这里访...\" with entities \"[(1, 4, 'ORG'), (4, 7, 'GPE'), (7, 11, 'DATE'), (1...\". Use `spacy.training.offsets_to_biluo_tags(nlp.make_doc(text), entities)` to check the alignment. Misaligned entities ('-') will be ignored during training.\n",
            "  warnings.warn(\n",
            "/usr/local/lib/python3.8/dist-packages/spacy/training/iob_utils.py:149: UserWarning: [W030] Some entities could not be aligned in the text \"内塔尼亚胡在同联合政府各党领导人和美国中东和谈特别协调员罗斯进行磋商后宣布了上述决定。他声称,推进中...\" with entities \"[(0, 5, 'PERSON'), (17, 19, 'GPE'), (19, 21, 'GPE'...\". Use `spacy.training.offsets_to_biluo_tags(nlp.make_doc(text), entities)` to check the alignment. Misaligned entities ('-') will be ignored during training.\n",
            "  warnings.warn(\n",
            "/usr/local/lib/python3.8/dist-packages/spacy/training/iob_utils.py:149: UserWarning: [W030] Some entities could not be aligned in the text \"新华社贝鲁特1月8日电(记者王波、符卫建)黎巴嫩游击队和以色列军队8日在黎南部以色列占领区内展开激战...\" with entities \"[(0, 3, 'ORG'), (3, 6, 'GPE'), (6, 10, 'DATE'), (1...\". Use `spacy.training.offsets_to_biluo_tags(nlp.make_doc(text), entities)` to check the alignment. Misaligned entities ('-') will be ignored during training.\n",
            "  warnings.warn(\n",
            "/usr/local/lib/python3.8/dist-packages/spacy/training/iob_utils.py:149: UserWarning: [W030] Some entities could not be aligned in the text \"下午两点多钟,在以占领区内的扎耶尼—伊拜尔公路上,一支以色列和南黎巴嫩军巡逻队遭到了黎游击队的袭击。...\" with entities \"[(0, 4, 'DATE'), (14, 17, 'GPE'), (18, 21, 'GPE'),...\". Use `spacy.training.offsets_to_biluo_tags(nlp.make_doc(text), entities)` to check the alignment. Misaligned entities ('-') will be ignored during training.\n",
            "  warnings.warn(\n",
            "/usr/local/lib/python3.8/dist-packages/spacy/training/iob_utils.py:149: UserWarning: [W030] Some entities could not be aligned in the text \"本报渥太华1月9日电记者邹德浩报道:近半个世纪罕见的冰暴灾害打乱了加拿大东部魁北克省和安大略省人的正...\" with entities \"[(2, 5, 'GPE'), (5, 9, 'DATE'), (12, 15, 'PERSON')...\". Use `spacy.training.offsets_to_biluo_tags(nlp.make_doc(text), entities)` to check the alignment. Misaligned entities ('-') will be ignored during training.\n",
            "  warnings.warn(\n",
            "/usr/local/lib/python3.8/dist-packages/spacy/training/iob_utils.py:149: UserWarning: [W030] Some entities could not be aligned in the text \"据新华社斯德哥尔摩1月9日电(记者许福瑞)哥本哈根消息:5日夜被盗的丹麦美人鱼雕像头部,9日已回到丹...\" with entities \"[(1, 4, 'ORG'), (4, 9, 'GPE'), (9, 13, 'DATE'), (1...\". Use `spacy.training.offsets_to_biluo_tags(nlp.make_doc(text), entities)` to check the alignment. Misaligned entities ('-') will be ignored during training.\n",
            "  warnings.warn(\n",
            "/usr/local/lib/python3.8/dist-packages/spacy/training/iob_utils.py:149: UserWarning: [W030] Some entities could not be aligned in the text \"不重视规定动作、指望靠自选动作出奇制胜是中国跳水队的不良倾向。规定动作质量不高的问题在郭晶晶身上也有...\" with entities \"[(20, 22, 'GPE'), (43, 46, 'PERSON'), (59, 62, 'PE...\". Use `spacy.training.offsets_to_biluo_tags(nlp.make_doc(text), entities)` to check the alignment. Misaligned entities ('-') will be ignored during training.\n",
            "  warnings.warn(\n",
            "/usr/local/lib/python3.8/dist-packages/spacy/training/iob_utils.py:149: UserWarning: [W030] Some entities could not be aligned in the text \"杜葵(柯达公司大中华区公关部主任):柯达这个品牌是在1888年问世并注册的,仅仅8年之后,柯达就开始...\" with entities \"[(0, 2, 'PERSON'), (26, 31, 'DATE'), (68, 70, 'DAT...\". Use `spacy.training.offsets_to_biluo_tags(nlp.make_doc(text), entities)` to check the alignment. Misaligned entities ('-') will be ignored during training.\n",
            "  warnings.warn(\n",
            "/usr/local/lib/python3.8/dist-packages/spacy/training/iob_utils.py:149: UserWarning: [W030] Some entities could not be aligned in the text \"本报讯一月六日,北京泰达士经贸公司与北京宏景文化传播公司共同合作,合力推出一九九八年世界杯足球赛标志...\" with entities \"[(3, 7, 'DATE'), (8, 10, 'GPE'), (18, 20, 'GPE'), ...\". Use `spacy.training.offsets_to_biluo_tags(nlp.make_doc(text), entities)` to check the alignment. Misaligned entities ('-') will be ignored during training.\n",
            "  warnings.warn(\n",
            "/usr/local/lib/python3.8/dist-packages/spacy/training/iob_utils.py:149: UserWarning: [W030] Some entities could not be aligned in the text \"按照什么样的总体框架来把握一个半世纪的马克思主义哲学史?八卷本走出了一条综合创新之路,这个新框架的特...\" with entities \"[(131, 133, 'GPE'), (191, 193, 'GPE'), (193, 195, ...\". Use `spacy.training.offsets_to_biluo_tags(nlp.make_doc(text), entities)` to check the alignment. Misaligned entities ('-') will be ignored during training.\n",
            "  warnings.warn(\n",
            "/usr/local/lib/python3.8/dist-packages/spacy/training/iob_utils.py:149: UserWarning: [W030] Some entities could not be aligned in the text \"后来我了解,漳州并非水仙的原产地。据说是早在五百多年前,有一位从河南告老还乡的官宦,途经洞庭湖时无意...\" with entities \"[(0, 2, 'DATE'), (6, 8, 'GPE'), (32, 34, 'GPE'), (...\". Use `spacy.training.offsets_to_biluo_tags(nlp.make_doc(text), entities)` to check the alignment. Misaligned entities ('-') will be ignored during training.\n",
            "  warnings.warn(\n",
            "/usr/local/lib/python3.8/dist-packages/spacy/training/iob_utils.py:149: UserWarning: [W030] Some entities could not be aligned in the text \"从漳州人那份自豪来看,水仙花的名气和运气仍如日中天。不仅每年秋后在漳州的大街小巷养着摆着卖着水仙,而...\" with entities \"[(1, 3, 'GPE'), (30, 32, 'DATE'), (33, 35, 'GPE'),...\". Use `spacy.training.offsets_to_biluo_tags(nlp.make_doc(text), entities)` to check the alignment. Misaligned entities ('-') will be ignored during training.\n",
            "  warnings.warn(\n",
            "/usr/local/lib/python3.8/dist-packages/spacy/training/iob_utils.py:149: UserWarning: [W030] Some entities could not be aligned in the text \"虽然大爷的喃语轻轻,但驻足在几步之遥的一位中年汉子清楚听到什么“福”呀“喜”的,受好奇驱使忙凑过去:...\" with entities \"[(21, 23, 'DATE'), (129, 131, 'GPE')]\". Use `spacy.training.offsets_to_biluo_tags(nlp.make_doc(text), entities)` to check the alignment. Misaligned entities ('-') will be ignored during training.\n",
            "  warnings.warn(\n",
            "/usr/local/lib/python3.8/dist-packages/spacy/training/iob_utils.py:149: UserWarning: [W030] Some entities could not be aligned in the text \"听着满腹经纶的大爷寄兴寓情的赞誉,童志成心中涌出一种如饮琼浆的快慰,然而肩上的感觉却又是沉甸甸的。说...\" with entities \"[(17, 20, 'PERSON'), (64, 66, 'GPE'), (148, 151, '...\". Use `spacy.training.offsets_to_biluo_tags(nlp.make_doc(text), entities)` to check the alignment. Misaligned entities ('-') will be ignored during training.\n",
            "  warnings.warn(\n",
            "/usr/local/lib/python3.8/dist-packages/spacy/training/iob_utils.py:149: UserWarning: [W030] Some entities could not be aligned in the text \"“很好,很好,相识是一种缘分嘛。这是你们中国常说的一句话。”话闸子一打开,科雷马上表现出美国人直率豪...\" with entities \"[(20, 22, 'GPE'), (37, 39, 'PERSON'), (44, 46, 'GP...\". Use `spacy.training.offsets_to_biluo_tags(nlp.make_doc(text), entities)` to check the alignment. Misaligned entities ('-') will be ignored during training.\n",
            "  warnings.warn(\n",
            "/usr/local/lib/python3.8/dist-packages/spacy/training/iob_utils.py:149: UserWarning: [W030] Some entities could not be aligned in the text \"科雷先生的参与,使“珠琴”如虎添翼。他那高大的身影在车间不停地出现……珠江钢琴的共鸣板和键板的爆裂与...\" with entities \"[(0, 2, 'PERSON'), (98, 101, 'PERSON'), (102, 104,...\". Use `spacy.training.offsets_to_biluo_tags(nlp.make_doc(text), entities)` to check the alignment. Misaligned entities ('-') will be ignored during training.\n",
            "  warnings.warn(\n",
            "/usr/local/lib/python3.8/dist-packages/spacy/training/iob_utils.py:149: UserWarning: [W030] Some entities could not be aligned in the text \"当推销员时,童志成常发愁,愁琴没有人要;如今,他同样发愁,愁珠江钢琴供不应求。\" with entities \"[(6, 9, 'PERSON'), (20, 22, 'DATE')]\". Use `spacy.training.offsets_to_biluo_tags(nlp.make_doc(text), entities)` to check the alignment. Misaligned entities ('-') will be ignored during training.\n",
            "  warnings.warn(\n",
            "/usr/local/lib/python3.8/dist-packages/spacy/training/iob_utils.py:149: UserWarning: [W030] Some entities could not be aligned in the text \"去年5月,一份“深山奇冤”的控诉书送到了全国妇联副主席赵地手里。控诉书记述了河南省宝丰县一个幼女8岁...\" with entities \"[(0, 4, 'DATE'), (27, 29, 'PERSON'), (38, 41, 'GPE...\". Use `spacy.training.offsets_to_biluo_tags(nlp.make_doc(text), entities)` to check the alignment. Misaligned entities ('-') will be ignored during training.\n",
            "  warnings.warn(\n",
            "/usr/local/lib/python3.8/dist-packages/spacy/training/iob_utils.py:149: UserWarning: [W030] Some entities could not be aligned in the text \"事情还得从头说起。曾辛元是湖南省永兴县黄泥内头岭一个偏远山区的农家子弟。解放前,母亲早逝,姊妹又多,...\" with entities \"[(9, 12, 'PERSON'), (13, 16, 'GPE'), (16, 19, 'GPE...\". Use `spacy.training.offsets_to_biluo_tags(nlp.make_doc(text), entities)` to check the alignment. Misaligned entities ('-') will be ignored during training.\n",
            "  warnings.warn(\n",
            "/usr/local/lib/python3.8/dist-packages/spacy/training/iob_utils.py:149: UserWarning: [W030] Some entities could not be aligned in the text \"1961年正当我们国家处于3年困难时期,党和国家号召干部职工下放到农业第一线,曾辛元响应党和政府号召...\" with entities \"[(0, 5, 'DATE'), (39, 42, 'PERSON'), (57, 59, 'GPE...\". Use `spacy.training.offsets_to_biluo_tags(nlp.make_doc(text), entities)` to check the alignment. Misaligned entities ('-') will be ignored during training.\n",
            "  warnings.warn(\n",
            "/usr/local/lib/python3.8/dist-packages/spacy/training/iob_utils.py:149: UserWarning: [W030] Some entities could not be aligned in the text \"更不要说,一阵阵惊耗传来,小廖(承志)被捕。一次次潘汉年的密报。宋庆龄的安危……多少事,都系在他那伟...\" with entities \"[(13, 15, 'PERSON'), (25, 28, 'PERSON'), (32, 35, ...\". Use `spacy.training.offsets_to_biluo_tags(nlp.make_doc(text), entities)` to check the alignment. Misaligned entities ('-') will be ignored during training.\n",
            "  warnings.warn(\n",
            "/usr/local/lib/python3.8/dist-packages/spacy/training/iob_utils.py:149: UserWarning: [W030] Some entities could not be aligned in the text \"历史留下车轮的深痕:周公同冯玉祥的频频交往,奠定“民革”的初基;而同沈钧儒的往返,萌发了“民盟”的初...\" with entities \"[(10, 12, 'PERSON'), (13, 16, 'PERSON'), (34, 37, ...\". Use `spacy.training.offsets_to_biluo_tags(nlp.make_doc(text), entities)` to check the alignment. Misaligned entities ('-') will be ignored during training.\n",
            "  warnings.warn(\n",
            "/usr/local/lib/python3.8/dist-packages/spacy/training/iob_utils.py:149: UserWarning: [W030] Some entities could not be aligned in the text \"当年,春婆苦心经营着这间茶楼,八仙桌面刻满了印痕,土茶碗老得发黄,一碗茶水只收三分钱,可春婆总是笑呵...\" with entities \"[(0, 2, 'DATE'), (3, 5, 'PERSON'), (44, 46, 'PERSO...\". Use `spacy.training.offsets_to_biluo_tags(nlp.make_doc(text), entities)` to check the alignment. Misaligned entities ('-') will be ignored during training.\n",
            "  warnings.warn(\n",
            "/usr/local/lib/python3.8/dist-packages/spacy/training/iob_utils.py:149: UserWarning: [W030] Some entities could not be aligned in the text \"(张铁林黎世高)\" with entities \"[(1, 4, 'PERSON'), (4, 7, 'PERSON')]\". Use `spacy.training.offsets_to_biluo_tags(nlp.make_doc(text), entities)` to check the alignment. Misaligned entities ('-') will be ignored during training.\n",
            "  warnings.warn(\n",
            "/usr/local/lib/python3.8/dist-packages/spacy/training/iob_utils.py:149: UserWarning: [W030] Some entities could not be aligned in the text \"东西长1120公里、面积27.7万平方公里的河西走廊,既是拥有800多万亩稳产高产水浇地的国家主要商...\" with entities \"[(59, 61, 'GPE'), (64, 66, 'GPE'), (71, 73, 'GPE')...\". Use `spacy.training.offsets_to_biluo_tags(nlp.make_doc(text), entities)` to check the alignment. Misaligned entities ('-') will be ignored during training.\n",
            "  warnings.warn(\n",
            "/usr/local/lib/python3.8/dist-packages/spacy/training/iob_utils.py:149: UserWarning: [W030] Some entities could not be aligned in the text \"全国重点文物保护单位、中小学爱国主义教育基地———周恩来故居,自从1979年对外开放以来,累计接待海...\" with entities \"[(25, 28, 'PERSON'), (33, 38, 'DATE'), (70, 73, 'P...\". Use `spacy.training.offsets_to_biluo_tags(nlp.make_doc(text), entities)` to check the alignment. Misaligned entities ('-') will be ignored during training.\n",
            "  warnings.warn(\n",
            "/usr/local/lib/python3.8/dist-packages/spacy/training/iob_utils.py:149: UserWarning: [W030] Some entities could not be aligned in the text \"记者从正在召开的新疆维吾尔自治区九届人大一次会议上传来喜讯:新疆继国内生产总值突破一千亿元大关后,一...\" with entities \"[(8, 10, 'GPE'), (30, 32, 'GPE'), (49, 54, 'DATE')...\". Use `spacy.training.offsets_to_biluo_tags(nlp.make_doc(text), entities)` to check the alignment. Misaligned entities ('-') will be ignored during training.\n",
            "  warnings.warn(\n",
            "/usr/local/lib/python3.8/dist-packages/spacy/training/iob_utils.py:149: UserWarning: [W030] Some entities could not be aligned in the text \"据新华社墨西哥城1月9日电(记者沈安、庄霞琴)9日拉美各股市出现去年10月底以来最严重的下跌,一些国...\" with entities \"[(1, 4, 'ORG'), (4, 8, 'GPE'), (8, 12, 'DATE'), (1...\". Use `spacy.training.offsets_to_biluo_tags(nlp.make_doc(text), entities)` to check the alignment. Misaligned entities ('-') will be ignored during training.\n",
            "  warnings.warn(\n",
            "/usr/local/lib/python3.8/dist-packages/spacy/training/iob_utils.py:149: UserWarning: [W030] Some entities could not be aligned in the text \"据新华社拉萨1月10日电(记者尕玛多吉)5名身穿大红袈裟的喇嘛9日来到西藏自治区抗灾办公室,代表大昭...\" with entities \"[(1, 4, 'ORG'), (4, 6, 'GPE'), (6, 11, 'DATE'), (1...\". Use `spacy.training.offsets_to_biluo_tags(nlp.make_doc(text), entities)` to check the alignment. Misaligned entities ('-') will be ignored during training.\n",
            "  warnings.warn(\n",
            "/usr/local/lib/python3.8/dist-packages/spacy/training/iob_utils.py:149: UserWarning: [W030] Some entities could not be aligned in the text \"(赵新华)\" with entities \"[(1, 4, 'PERSON')]\". Use `spacy.training.offsets_to_biluo_tags(nlp.make_doc(text), entities)` to check the alignment. Misaligned entities ('-') will be ignored during training.\n",
            "  warnings.warn(\n",
            "/usr/local/lib/python3.8/dist-packages/spacy/training/iob_utils.py:149: UserWarning: [W030] Some entities could not be aligned in the text \"刚到德国就听朋友说,在德国有两大享受:喝啤酒和开汽车。德国人爱喝啤酒众所周知,笔者只想就开车的感受,...\" with entities \"[(2, 4, 'GPE'), (11, 13, 'GPE'), (27, 29, 'GPE')]\". Use `spacy.training.offsets_to_biluo_tags(nlp.make_doc(text), entities)` to check the alignment. Misaligned entities ('-') will be ignored during training.\n",
            "  warnings.warn(\n",
            "/usr/local/lib/python3.8/dist-packages/spacy/training/iob_utils.py:149: UserWarning: [W030] Some entities could not be aligned in the text \"中日两国虽然“一衣带水”,但大多数日本人并不了解中国的现代歌曲。说到中国歌,只知当年被李香兰唱红的《...\" with entities \"[(17, 19, 'GPE'), (24, 26, 'GPE'), (27, 29, 'DATE'...\". Use `spacy.training.offsets_to_biluo_tags(nlp.make_doc(text), entities)` to check the alignment. Misaligned entities ('-') will be ignored during training.\n",
            "  warnings.warn(\n",
            "/usr/local/lib/python3.8/dist-packages/spacy/training/iob_utils.py:149: UserWarning: [W030] Some entities could not be aligned in the text \"意大利全国最大的工商业和金融业中心米兰,给初来者一种浓重的商业气息。然而,米兰也有值得骄傲的文化遗产...\" with entities \"[(0, 3, 'GPE'), (17, 19, 'GPE'), (37, 39, 'GPE'), ...\". Use `spacy.training.offsets_to_biluo_tags(nlp.make_doc(text), entities)` to check the alignment. Misaligned entities ('-') will be ignored during training.\n",
            "  warnings.warn(\n",
            "/usr/local/lib/python3.8/dist-packages/spacy/training/iob_utils.py:149: UserWarning: [W030] Some entities could not be aligned in the text \"在开罗城区横跨尼罗河的几座高架桥下,是水上人家拢船聚会和吃饭过夜的理想去处。当昏黄的暮霭像谜的纱帐垂...\" with entities \"[(1, 3, 'GPE'), (7, 10, 'GPE'), (52, 55, 'GPE'), (...\". Use `spacy.training.offsets_to_biluo_tags(nlp.make_doc(text), entities)` to check the alignment. Misaligned entities ('-') will be ignored during training.\n",
            "  warnings.warn(\n",
            "/usr/local/lib/python3.8/dist-packages/spacy/training/iob_utils.py:149: UserWarning: [W030] Some entities could not be aligned in the text \"眼下,正是开罗的冬季,也是水上人家的捕鱼淡季。当开罗绚丽迷人的万家灯火在平阔舒缓的尼罗河上流光溢彩,...\" with entities \"[(0, 2, 'DATE'), (5, 7, 'GPE'), (8, 10, 'DATE'), (...\". Use `spacy.training.offsets_to_biluo_tags(nlp.make_doc(text), entities)` to check the alignment. Misaligned entities ('-') will be ignored during training.\n",
            "  warnings.warn(\n",
            "/usr/local/lib/python3.8/dist-packages/spacy/training/iob_utils.py:149: UserWarning: [W030] Some entities could not be aligned in the text \"乡镇干部驻村,密切了党群、干群关系。据不完全统计,目前全市乡镇干部已与近3万贫困户结成对子,带领农民...\" with entities \"[(25, 27, 'DATE'), (73, 76, 'PERSON'), (76, 79, 'P...\". Use `spacy.training.offsets_to_biluo_tags(nlp.make_doc(text), entities)` to check the alignment. Misaligned entities ('-') will be ignored during training.\n",
            "  warnings.warn(\n",
            "/usr/local/lib/python3.8/dist-packages/spacy/training/iob_utils.py:149: UserWarning: [W030] Some entities could not be aligned in the text \"本报呼和浩特1月10日电记者刘亮明报道:日前,国内外有远见的公司经理、代理人纷纷来到内蒙古草原研究所...\" with entities \"[(2, 6, 'GPE'), (6, 11, 'DATE'), (14, 17, 'PERSON'...\". Use `spacy.training.offsets_to_biluo_tags(nlp.make_doc(text), entities)` to check the alignment. Misaligned entities ('-') will be ignored during training.\n",
            "  warnings.warn(\n",
            "/usr/local/lib/python3.8/dist-packages/spacy/training/iob_utils.py:149: UserWarning: [W030] Some entities could not be aligned in the text \"新年刚过,又逢农历年关,羊城街面上到处弥漫着新春的气息。然而,就在这种祥和的气氛中,一伙专门兜售假发...\" with entities \"[(0, 2, 'DATE'), (9, 11, 'DATE'), (12, 14, 'GPE'),...\". Use `spacy.training.offsets_to_biluo_tags(nlp.make_doc(text), entities)` to check the alignment. Misaligned entities ('-') will be ignored during training.\n",
            "  warnings.warn(\n",
            "/usr/local/lib/python3.8/dist-packages/spacy/training/iob_utils.py:149: UserWarning: [W030] Some entities could not be aligned in the text \"———加强欠税催缴工作,深入纳税单位宣传国家税收政策,严格审批缓交税款,坚持加收税款滞纳金,催缴欠税...\" with entities \"[(58, 61, 'PERSON'), (61, 63, 'PERSON')]\". Use `spacy.training.offsets_to_biluo_tags(nlp.make_doc(text), entities)` to check the alignment. Misaligned entities ('-') will be ignored during training.\n",
            "  warnings.warn(\n",
            "/usr/local/lib/python3.8/dist-packages/spacy/training/iob_utils.py:149: UserWarning: [W030] Some entities could not be aligned in the text \"1997年,中国石油天然气总公司为寻找新的可采资源,组织了一场“跨世纪的勘探进攻仗”。通过解放思想,...\" with entities \"[(0, 5, 'DATE'), (6, 8, 'GPE'), (106, 109, 'GPE'),...\". Use `spacy.training.offsets_to_biluo_tags(nlp.make_doc(text), entities)` to check the alignment. Misaligned entities ('-') will be ignored during training.\n",
            "  warnings.warn(\n",
            "/usr/local/lib/python3.8/dist-packages/spacy/training/iob_utils.py:149: UserWarning: [W030] Some entities could not be aligned in the text \"由“赛特”输出管理的西单赛特商城,开张一年,效益雄踞新开业的17家万米以上商场之首。西单一条街上,西...\" with entities \"[(10, 12, 'GPE'), (42, 44, 'GPE'), (49, 51, 'GPE')...\". Use `spacy.training.offsets_to_biluo_tags(nlp.make_doc(text), entities)` to check the alignment. Misaligned entities ('-') will be ignored during training.\n",
            "  warnings.warn(\n",
            "/usr/local/lib/python3.8/dist-packages/spacy/training/iob_utils.py:149: UserWarning: [W030] Some entities could not be aligned in the text \"(董心奎刘健)\" with entities \"[(1, 4, 'PERSON'), (4, 6, 'PERSON')]\". Use `spacy.training.offsets_to_biluo_tags(nlp.make_doc(text), entities)` to check the alignment. Misaligned entities ('-') will be ignored during training.\n",
            "  warnings.warn(\n",
            "/usr/local/lib/python3.8/dist-packages/spacy/training/iob_utils.py:149: UserWarning: [W030] Some entities could not be aligned in the text \"位于嘉峪关市的酒泉钢铁集团公司,投资数千万美元从国外引进目前世界上最先进的生产板材设备,酒钢人把这项...\" with entities \"[(2, 6, 'GPE'), (7, 9, 'GPE'), (28, 30, 'DATE'), (...\". Use `spacy.training.offsets_to_biluo_tags(nlp.make_doc(text), entities)` to check the alignment. Misaligned entities ('-') will be ignored during training.\n",
            "  warnings.warn(\n",
            "/usr/local/lib/python3.8/dist-packages/spacy/training/iob_utils.py:149: UserWarning: [W030] Some entities could not be aligned in the text \"本报讯中日合资华糖洋华堂商业有限公司1号店———华堂商场十里堡店1月8日员工就任。该商场十里堡店坐落...\" with entities \"[(28, 31, 'GPE'), (32, 36, 'DATE'), (44, 47, 'GPE'...\". Use `spacy.training.offsets_to_biluo_tags(nlp.make_doc(text), entities)` to check the alignment. Misaligned entities ('-') will be ignored during training.\n",
            "  warnings.warn(\n",
            "/usr/local/lib/python3.8/dist-packages/spacy/training/iob_utils.py:149: UserWarning: [W030] Some entities could not be aligned in the text \"本报合肥电记者刘杰报道:近日,安徽省政府在安徽叉车集团召开解困再就业情况通报会。元旦、春节期间各地均...\" with entities \"[(2, 4, 'GPE'), (7, 9, 'PERSON'), (12, 14, 'DATE')...\". Use `spacy.training.offsets_to_biluo_tags(nlp.make_doc(text), entities)` to check the alignment. Misaligned entities ('-') will be ignored during training.\n",
            "  warnings.warn(\n",
            "/usr/local/lib/python3.8/dist-packages/spacy/training/iob_utils.py:149: UserWarning: [W030] Some entities could not be aligned in the text \"本报昆明电记者任维东报道:云南省解困与再就业领导小组日前与省交通厅、煤炭厅、林业厅、电子工业总公司、...\" with entities \"[(2, 4, 'GPE'), (7, 10, 'PERSON'), (13, 16, 'GPE')...\". Use `spacy.training.offsets_to_biluo_tags(nlp.make_doc(text), entities)` to check the alignment. Misaligned entities ('-') will be ignored during training.\n",
            "  warnings.warn(\n",
            "/usr/local/lib/python3.8/dist-packages/spacy/training/iob_utils.py:149: UserWarning: [W030] Some entities could not be aligned in the text \"鞍山交警学济南不走过场,持之以恒,去年下半年,他们针对乱挂警灯、警报器、稽查车牌的“特殊车”和在市区...\" with entities \"[(0, 2, 'GPE'), (5, 7, 'GPE'), (17, 22, 'DATE'), (...\". Use `spacy.training.offsets_to_biluo_tags(nlp.make_doc(text), entities)` to check the alignment. Misaligned entities ('-') will be ignored during training.\n",
            "  warnings.warn(\n",
            "/usr/local/lib/python3.8/dist-packages/spacy/training/iob_utils.py:149: UserWarning: [W030] Some entities could not be aligned in the text \"本报上海1月11日电记者萧关根在此间举行的全国气象局长会议上获悉:今年4月起,将全面开展四大气象科学...\" with entities \"[(2, 4, 'GPE'), (4, 9, 'DATE'), (12, 15, 'PERSON')...\". Use `spacy.training.offsets_to_biluo_tags(nlp.make_doc(text), entities)` to check the alignment. Misaligned entities ('-') will be ignored during training.\n",
            "  warnings.warn(\n",
            "/usr/local/lib/python3.8/dist-packages/spacy/training/iob_utils.py:149: UserWarning: [W030] Some entities could not be aligned in the text \"本报长沙1月11日电记者吴兴华报道:纪念著名红军将领黄公略将军百年诞辰庆典暨铜像揭幕仪式1月9日上午...\" with entities \"[(2, 4, 'GPE'), (4, 9, 'DATE'), (12, 15, 'PERSON')...\". Use `spacy.training.offsets_to_biluo_tags(nlp.make_doc(text), entities)` to check the alignment. Misaligned entities ('-') will be ignored during training.\n",
            "  warnings.warn(\n",
            "/usr/local/lib/python3.8/dist-packages/spacy/training/iob_utils.py:149: UserWarning: [W030] Some entities could not be aligned in the text \"本报讯中国旅日著名摄影家冯学敏摄影展《景德镇瓷的故乡》元月上旬在台北举行,展出的30多幅精美作品在台...\" with entities \"[(3, 5, 'GPE'), (12, 15, 'PERSON'), (19, 22, 'GPE'...\". Use `spacy.training.offsets_to_biluo_tags(nlp.make_doc(text), entities)` to check the alignment. Misaligned entities ('-') will be ignored during training.\n",
            "  warnings.warn(\n",
            "/usr/local/lib/python3.8/dist-packages/spacy/training/iob_utils.py:149: UserWarning: [W030] Some entities could not be aligned in the text \"去年10月1日,被太原人誉为“天字一号”的工程汾河迎泽大桥在声声礼炮中通车。国务院领导人专为新落成的...\" with entities \"[(0, 7, 'DATE'), (9, 11, 'GPE'), (23, 25, 'GPE'), ...\". Use `spacy.training.offsets_to_biluo_tags(nlp.make_doc(text), entities)` to check the alignment. Misaligned entities ('-') will be ignored during training.\n",
            "  warnings.warn(\n",
            "/usr/local/lib/python3.8/dist-packages/spacy/training/iob_utils.py:149: UserWarning: [W030] Some entities could not be aligned in the text \"研究院不断向新目标迈进,自己加压创新,设计一流工程。晋安沟路基填方高达54米,采用加筋土挡墙高达30...\" with entities \"[(26, 29, 'GPE')]\". Use `spacy.training.offsets_to_biluo_tags(nlp.make_doc(text), entities)` to check the alignment. Misaligned entities ('-') will be ignored during training.\n",
            "  warnings.warn(\n",
            "/usr/local/lib/python3.8/dist-packages/spacy/training/iob_utils.py:149: UserWarning: [W030] Some entities could not be aligned in the text \"本报讯记者孟宪励报道:由中国业余舞蹈竞技协会主办的“科迪杯”第二届中国业余国际标准舞大赛,日前在北京...\" with entities \"[(5, 8, 'PERSON'), (12, 14, 'GPE'), (33, 35, 'GPE'...\". Use `spacy.training.offsets_to_biluo_tags(nlp.make_doc(text), entities)` to check the alignment. Misaligned entities ('-') will be ignored during training.\n",
            "  warnings.warn(\n",
            "/usr/local/lib/python3.8/dist-packages/spacy/training/iob_utils.py:149: UserWarning: [W030] Some entities could not be aligned in the text \"本报讯由中国世界民族文化交流促进会艺术委员会、瑞士驻华大使馆联合主办,瑞士丰泰保险公司、瑞士文化基金...\" with entities \"[(4, 6, 'GPE'), (23, 25, 'GPE'), (35, 37, 'GPE'), ...\". Use `spacy.training.offsets_to_biluo_tags(nlp.make_doc(text), entities)` to check the alignment. Misaligned entities ('-') will be ignored during training.\n",
            "  warnings.warn(\n",
            "/usr/local/lib/python3.8/dist-packages/spacy/training/iob_utils.py:149: UserWarning: [W030] Some entities could not be aligned in the text \"新华社开罗1月10日电(记者侯嘉、王亚东)埃及外长穆萨10日说,他和挪威外交大臣沃勒贝克都认为,中东...\" with entities \"[(0, 3, 'ORG'), (3, 5, 'GPE'), (5, 10, 'DATE'), (1...\". Use `spacy.training.offsets_to_biluo_tags(nlp.make_doc(text), entities)` to check the alignment. Misaligned entities ('-') will be ignored during training.\n",
            "  warnings.warn(\n",
            "/usr/local/lib/python3.8/dist-packages/spacy/training/iob_utils.py:149: UserWarning: [W030] Some entities could not be aligned in the text \"阿拉法特就此问题向罗斯表明了巴方的立场。他指出,以方必须尽快在西岸实施第二阶段撤军,撤军范围至少应占...\" with entities \"[(0, 4, 'PERSON'), (9, 11, 'PERSON'), (78, 82, 'PE...\". Use `spacy.training.offsets_to_biluo_tags(nlp.make_doc(text), entities)` to check the alignment. Misaligned entities ('-') will be ignored during training.\n",
            "  warnings.warn(\n",
            "/usr/local/lib/python3.8/dist-packages/spacy/training/iob_utils.py:149: UserWarning: [W030] Some entities could not be aligned in the text \"此间舆论认为,由于最近车臣及北高加索地区恐怖活动和暴力事件不断,俄联邦政府一些领导人和车臣当局互相指...\" with entities \"[(9, 11, 'DATE'), (11, 13, 'GPE'), (15, 18, 'GPE')...\". Use `spacy.training.offsets_to_biluo_tags(nlp.make_doc(text), entities)` to check the alignment. Misaligned entities ('-') will be ignored during training.\n",
            "  warnings.warn(\n",
            "/usr/local/lib/python3.8/dist-packages/spacy/training/iob_utils.py:149: UserWarning: [W030] Some entities could not be aligned in the text \"(新华社发美联社照片)\" with entities \"[(1, 4, 'ORG'), (5, 8, 'ORG')]\". Use `spacy.training.offsets_to_biluo_tags(nlp.make_doc(text), entities)` to check the alignment. Misaligned entities ('-') will be ignored during training.\n",
            "  warnings.warn(\n",
            "/usr/local/lib/python3.8/dist-packages/spacy/training/iob_utils.py:149: UserWarning: [W030] Some entities could not be aligned in the text \"据新华社安卡拉1月10日电(记者郑金发)土耳其当局10日将包括一名儿童在内的14名伊拉克移民驱逐出境...\" with entities \"[(1, 4, 'ORG'), (4, 7, 'GPE'), (7, 12, 'DATE'), (1...\". Use `spacy.training.offsets_to_biluo_tags(nlp.make_doc(text), entities)` to check the alignment. Misaligned entities ('-') will be ignored during training.\n",
            "  warnings.warn(\n",
            "/usr/local/lib/python3.8/dist-packages/spacy/training/iob_utils.py:149: UserWarning: [W030] Some entities could not be aligned in the text \"土耳其对声明持保留态度,但表示将继续同其它有关国家加强合作,共同对付非法运送库尔德人的犯罪组织。\" with entities \"[(0, 3, 'GPE'), (38, 41, 'GPE')]\". Use `spacy.training.offsets_to_biluo_tags(nlp.make_doc(text), entities)` to check the alignment. Misaligned entities ('-') will be ignored during training.\n",
            "  warnings.warn(\n",
            "/usr/local/lib/python3.8/dist-packages/spacy/training/iob_utils.py:149: UserWarning: [W030] Some entities could not be aligned in the text \"2、1月10日,暴风雪袭击美国东北部。图为一些军人剪去路边垂满冰挂的树枝,清理道路。(新华社发美联社...\" with entities \"[(2, 7, 'DATE'), (13, 15, 'GPE'), (43, 46, 'ORG'),...\". Use `spacy.training.offsets_to_biluo_tags(nlp.make_doc(text), entities)` to check the alignment. Misaligned entities ('-') will be ignored during training.\n",
            "  warnings.warn(\n",
            "/usr/local/lib/python3.8/dist-packages/spacy/training/iob_utils.py:149: UserWarning: [W030] Some entities could not be aligned in the text \"被美国警方没收的两幅油画是奥地利20世纪初著名画家埃贡·席勒的作品,由维也纳利奥波德基金会收藏。美国...\" with entities \"[(1, 3, 'GPE'), (13, 16, 'GPE'), (25, 30, 'PERSON'...\". Use `spacy.training.offsets_to_biluo_tags(nlp.make_doc(text), entities)` to check the alignment. Misaligned entities ('-') will be ignored during training.\n",
            "  warnings.warn(\n",
            "/usr/local/lib/python3.8/dist-packages/spacy/training/iob_utils.py:149: UserWarning: [W030] Some entities could not be aligned in the text \"据新华社罗马1月9日电(记者刘儒庭)意大利文艺复兴时期著名作家薄伽丘(1313年—1375年)的名著...\" with entities \"[(1, 4, 'ORG'), (4, 6, 'GPE'), (6, 10, 'DATE'), (1...\". Use `spacy.training.offsets_to_biluo_tags(nlp.make_doc(text), entities)` to check the alignment. Misaligned entities ('-') will be ignored during training.\n",
            "  warnings.warn(\n",
            "/usr/local/lib/python3.8/dist-packages/spacy/training/iob_utils.py:149: UserWarning: [W030] Some entities could not be aligned in the text \"4、河南驻马店金融同城清算系统开通。(建宪李恒摄)\" with entities \"[(2, 4, 'GPE'), (4, 7, 'GPE'), (19, 21, 'PERSON'),...\". Use `spacy.training.offsets_to_biluo_tags(nlp.make_doc(text), entities)` to check the alignment. Misaligned entities ('-') will be ignored during training.\n",
            "  warnings.warn(\n",
            "/usr/local/lib/python3.8/dist-packages/spacy/training/iob_utils.py:149: UserWarning: [W030] Some entities could not be aligned in the text \"(艾世民摄)\" with entities \"[(1, 4, 'PERSON')]\". Use `spacy.training.offsets_to_biluo_tags(nlp.make_doc(text), entities)` to check the alignment. Misaligned entities ('-') will be ignored during training.\n",
            "  warnings.warn(\n",
            "/usr/local/lib/python3.8/dist-packages/spacy/training/iob_utils.py:149: UserWarning: [W030] Some entities could not be aligned in the text \"在北京一家证券营业部,去年仅一个月左右的时间就发生了4起股票被盗卖案件。4位股民各自的7000股“常...\" with entities \"[(1, 3, 'GPE'), (11, 13, 'DATE'), (61, 63, 'GPE'),...\". Use `spacy.training.offsets_to_biluo_tags(nlp.make_doc(text), entities)` to check the alignment. Misaligned entities ('-') will be ignored during training.\n",
            "  warnings.warn(\n",
            "/usr/local/lib/python3.8/dist-packages/spacy/training/iob_utils.py:149: UserWarning: [W030] Some entities could not be aligned in the text \"可以说,经过7年的发展和努力,上海证券市场已基本形成自身的优势和特点。即环境优势,上海是我国的商业中...\" with entities \"[(15, 17, 'GPE'), (41, 43, 'GPE'), (109, 111, 'GPE...\". Use `spacy.training.offsets_to_biluo_tags(nlp.make_doc(text), entities)` to check the alignment. Misaligned entities ('-') will be ignored during training.\n",
            "  warnings.warn(\n",
            "/usr/local/lib/python3.8/dist-packages/spacy/training/iob_utils.py:149: UserWarning: [W030] Some entities could not be aligned in the text \"本报讯1997年岁末,中国银行海外业务再传捷报。由中国银行发行、摩根斯坦利和中银国际承销的3亿美元7...\" with entities \"[(3, 10, 'DATE'), (11, 15, 'ORG'), (25, 29, 'ORG')...\". Use `spacy.training.offsets_to_biluo_tags(nlp.make_doc(text), entities)` to check the alignment. Misaligned entities ('-') will be ignored during training.\n",
            "  warnings.warn(\n",
            "/usr/local/lib/python3.8/dist-packages/spacy/training/iob_utils.py:149: UserWarning: [W030] Some entities could not be aligned in the text \"4江苏春兰23.42\" with entities \"[(1, 3, 'GPE')]\". Use `spacy.training.offsets_to_biluo_tags(nlp.make_doc(text), entities)` to check the alignment. Misaligned entities ('-') will be ignored during training.\n",
            "  warnings.warn(\n",
            "/usr/local/lib/python3.8/dist-packages/spacy/training/iob_utils.py:149: UserWarning: [W030] Some entities could not be aligned in the text \"4银山化工5.50\" with entities \"[(1, 3, 'GPE')]\". Use `spacy.training.offsets_to_biluo_tags(nlp.make_doc(text), entities)` to check the alignment. Misaligned entities ('-') will be ignored during training.\n",
            "  warnings.warn(\n",
            "/usr/local/lib/python3.8/dist-packages/spacy/training/iob_utils.py:149: UserWarning: [W030] Some entities could not be aligned in the text \"据统计,上年末人民币资产总额达到3027.6亿元。人民币各项存款为2753.4亿元,比上年末增加37...\" with entities \"[(4, 7, 'DATE'), (43, 45, 'DATE'), (84, 86, 'DATE'...\". Use `spacy.training.offsets_to_biluo_tags(nlp.make_doc(text), entities)` to check the alignment. Misaligned entities ('-') will be ignored during training.\n",
            "  warnings.warn(\n",
            "/usr/local/lib/python3.8/dist-packages/spacy/training/iob_utils.py:149: UserWarning: [W030] Some entities could not be aligned in the text \"而东滩矿方面均堪称“全国一流”。印象中的煤矿是晴天煤尘满天飞,雨天满地流黑水。而在东滩矿,走进被丛丛...\" with entities \"[(1, 4, 'ORG'), (41, 44, 'ORG')]\". Use `spacy.training.offsets_to_biluo_tags(nlp.make_doc(text), entities)` to check the alignment. Misaligned entities ('-') will be ignored during training.\n",
            "  warnings.warn(\n",
            "/usr/local/lib/python3.8/dist-packages/spacy/training/iob_utils.py:149: UserWarning: [W030] Some entities could not be aligned in the text \"为了巩固已取得的成果,集团公司党委还推出4条保证措施:一是实行“谁主管谁负责、谁出漏洞谁承担”的责任...\" with entities \"[(117, 120, 'PERSON')]\". Use `spacy.training.offsets_to_biluo_tags(nlp.make_doc(text), entities)` to check the alignment. Misaligned entities ('-') will be ignored during training.\n",
            "  warnings.warn(\n",
            "/usr/local/lib/python3.8/dist-packages/spacy/training/iob_utils.py:149: UserWarning: [W030] Some entities could not be aligned in the text \"湖北省矿产开发总公司研制的新型ZH系列铸造涂料和SCC系列涂料悬浮剂日前通过国家鉴定。鉴定委员会认为...\" with entities \"[(0, 3, 'GPE'), (34, 36, 'DATE'), (113, 116, 'PERS...\". Use `spacy.training.offsets_to_biluo_tags(nlp.make_doc(text), entities)` to check the alignment. Misaligned entities ('-') will be ignored during training.\n",
            "  warnings.warn(\n",
            "/usr/local/lib/python3.8/dist-packages/spacy/training/iob_utils.py:149: UserWarning: [W030] Some entities could not be aligned in the text \"此外,要考虑到与原有房改政策相衔接,体现早改革早受益的原则;要处理好有房与无房,住房已达到标准与未达...\" with entities \"[(73, 75, 'DATE'), (170, 172, 'PERSON')]\". Use `spacy.training.offsets_to_biluo_tags(nlp.make_doc(text), entities)` to check the alignment. Misaligned entities ('-') will be ignored during training.\n",
            "  warnings.warn(\n",
            "/usr/local/lib/python3.8/dist-packages/spacy/training/iob_utils.py:149: UserWarning: [W030] Some entities could not be aligned in the text \"围绕国有企业改革问题,乔石同市委、市政府的负责同志,市体改委、市现代企业制度试点工作领导小组办公室、...\" with entities \"[(11, 13, 'PERSON'), (32, 34, 'DATE'), (108, 110, ...\". Use `spacy.training.offsets_to_biluo_tags(nlp.make_doc(text), entities)` to check the alignment. Misaligned entities ('-') will be ignored during training.\n",
            "  warnings.warn(\n",
            "/usr/local/lib/python3.8/dist-packages/spacy/training/iob_utils.py:149: UserWarning: [W030] Some entities could not be aligned in the text \"新华社郑州1月12日电(记者程红根)中共中央政治局常委、国务院副总理李岚清1月11日至12日在河南省...\" with entities \"[(0, 3, 'ORG'), (3, 5, 'GPE'), (5, 10, 'DATE'), (1...\". Use `spacy.training.offsets_to_biluo_tags(nlp.make_doc(text), entities)` to check the alignment. Misaligned entities ('-') will be ignored during training.\n",
            "  warnings.warn(\n",
            "/usr/local/lib/python3.8/dist-packages/spacy/training/iob_utils.py:149: UserWarning: [W030] Some entities could not be aligned in the text \"张北—尚义发生的地震灾害,牵动着整个共和国。中央领导同志心系灾区,全国各族人民心系灾区。\" with entities \"[(0, 2, 'GPE'), (3, 5, 'GPE')]\". Use `spacy.training.offsets_to_biluo_tags(nlp.make_doc(text), entities)` to check the alignment. Misaligned entities ('-') will be ignored during training.\n",
            "  warnings.warn(\n",
            "/usr/local/lib/python3.8/dist-packages/spacy/training/iob_utils.py:149: UserWarning: [W030] Some entities could not be aligned in the text \"本报张北1月12日电记者余继军、何伟报道:在张北地震灾区,来自北京市、河北省市县三级及北京军区的25...\" with entities \"[(2, 4, 'GPE'), (4, 9, 'DATE'), (12, 15, 'PERSON')...\". Use `spacy.training.offsets_to_biluo_tags(nlp.make_doc(text), entities)` to check the alignment. Misaligned entities ('-') will be ignored during training.\n",
            "  warnings.warn(\n",
            "/usr/local/lib/python3.8/dist-packages/spacy/training/iob_utils.py:149: UserWarning: [W030] Some entities could not be aligned in the text \"(陈国琦赵新华)\" with entities \"[(1, 4, 'PERSON'), (4, 7, 'PERSON')]\". Use `spacy.training.offsets_to_biluo_tags(nlp.make_doc(text), entities)` to check the alignment. Misaligned entities ('-') will be ignored during training.\n",
            "  warnings.warn(\n",
            "/usr/local/lib/python3.8/dist-packages/spacy/training/iob_utils.py:149: UserWarning: [W030] Some entities could not be aligned in the text \"新华社记者蔡晖贾永新华社通讯员张应银樊增民\" with entities \"[(0, 3, 'ORG'), (5, 7, 'PERSON'), (7, 9, 'PERSON')...\". Use `spacy.training.offsets_to_biluo_tags(nlp.make_doc(text), entities)` to check the alignment. Misaligned entities ('-') will be ignored during training.\n",
            "  warnings.warn(\n",
            "/usr/local/lib/python3.8/dist-packages/spacy/training/iob_utils.py:149: UserWarning: [W030] Some entities could not be aligned in the text \"本报讯全国优秀公安局山东省长清县公安局从去年四月起,在全县开展『开门评警』活动,通过对民警的政治素质...\" with entities \"[(10, 13, 'GPE'), (13, 16, 'GPE'), (20, 24, 'DATE'...\". Use `spacy.training.offsets_to_biluo_tags(nlp.make_doc(text), entities)` to check the alignment. Misaligned entities ('-') will be ignored during training.\n",
            "  warnings.warn(\n",
            "/usr/local/lib/python3.8/dist-packages/spacy/training/iob_utils.py:149: UserWarning: [W030] Some entities could not be aligned in the text \"新华社北京一月十二日电(记者于海生)国务院总理李鹏今天下午在这里会见希腊内政、公共管理和权力下放部长...\" with entities \"[(0, 3, 'ORG'), (3, 5, 'GPE'), (5, 10, 'DATE'), (1...\". Use `spacy.training.offsets_to_biluo_tags(nlp.make_doc(text), entities)` to check the alignment. Misaligned entities ('-') will be ignored during training.\n",
            "  warnings.warn(\n",
            "/usr/local/lib/python3.8/dist-packages/spacy/training/iob_utils.py:149: UserWarning: [W030] Some entities could not be aligned in the text \"慰问组在抵拉萨听取自治区领导汇报后的第二天就赶到重灾区那曲,并赴受灾最严重的聂荣和安多两县,到现场察...\" with entities \"[(5, 7, 'GPE'), (27, 29, 'GPE'), (38, 40, 'GPE'), ...\". Use `spacy.training.offsets_to_biluo_tags(nlp.make_doc(text), entities)` to check the alignment. Misaligned entities ('-') will be ignored during training.\n",
            "  warnings.warn(\n",
            "/usr/local/lib/python3.8/dist-packages/spacy/training/iob_utils.py:149: UserWarning: [W030] Some entities could not be aligned in the text \"本报太原1月12日电新华社记者张运、本报记者刘伟报道:1月6日,在山西省晋城市电视大演播厅里,一批群...\" with entities \"[(2, 4, 'GPE'), (4, 9, 'DATE'), (10, 13, 'ORG'), (...\". Use `spacy.training.offsets_to_biluo_tags(nlp.make_doc(text), entities)` to check the alignment. Misaligned entities ('-') will be ignored during training.\n",
            "  warnings.warn(\n",
            "/usr/local/lib/python3.8/dist-packages/spacy/training/iob_utils.py:149: UserWarning: [W030] Some entities could not be aligned in the text \"本报讯北京市教委、北京市科协、北京青少年科学基金会日前联合召开青少年科普教育工作表彰会,160余名中...\" with entities \"[(3, 6, 'GPE'), (9, 12, 'GPE'), (15, 17, 'GPE'), (...\". Use `spacy.training.offsets_to_biluo_tags(nlp.make_doc(text), entities)` to check the alignment. Misaligned entities ('-') will be ignored during training.\n",
            "  warnings.warn(\n",
            "/usr/local/lib/python3.8/dist-packages/spacy/training/iob_utils.py:149: UserWarning: [W030] Some entities could not be aligned in the text \"(谢文)\" with entities \"[(1, 3, 'PERSON')]\". Use `spacy.training.offsets_to_biluo_tags(nlp.make_doc(text), entities)` to check the alignment. Misaligned entities ('-') will be ignored during training.\n",
            "  warnings.warn(\n",
            "/usr/local/lib/python3.8/dist-packages/spacy/training/iob_utils.py:149: UserWarning: [W030] Some entities could not be aligned in the text \"钱其琛首先转达了江泽民主席对泽鲁阿勒总统的亲切问候和良好祝愿。钱其琛说,今年适逢中阿建交40年。建交...\" with entities \"[(0, 3, 'PERSON'), (8, 11, 'PERSON'), (14, 18, 'PE...\". Use `spacy.training.offsets_to_biluo_tags(nlp.make_doc(text), entities)` to check the alignment. Misaligned entities ('-') will be ignored during training.\n",
            "  warnings.warn(\n",
            "/usr/local/lib/python3.8/dist-packages/spacy/training/iob_utils.py:149: UserWarning: [W030] Some entities could not be aligned in the text \"据新华社阿尔及尔1月12日电(记者王连志、杨元勇)中国国务院副总理兼外交部长钱其琛今天在这里说,非洲...\" with entities \"[(1, 4, 'ORG'), (4, 8, 'GPE'), (8, 13, 'DATE'), (1...\". Use `spacy.training.offsets_to_biluo_tags(nlp.make_doc(text), entities)` to check the alignment. Misaligned entities ('-') will be ignored during training.\n",
            "  warnings.warn(\n",
            "/usr/local/lib/python3.8/dist-packages/spacy/training/iob_utils.py:149: UserWarning: [W030] Some entities could not be aligned in the text \"毫无疑问,单一货币的启动将对欧洲一体化产生巨大推动力量。不少英国人特别是广大经济界人士,看到欧洲这一...\" with entities \"[(14, 16, 'GPE'), (30, 32, 'GPE'), (46, 48, 'GPE')...\". Use `spacy.training.offsets_to_biluo_tags(nlp.make_doc(text), entities)` to check the alignment. Misaligned entities ('-') will be ignored during training.\n",
            "  warnings.warn(\n",
            "/usr/local/lib/python3.8/dist-packages/spacy/training/iob_utils.py:149: UserWarning: [W030] Some entities could not be aligned in the text \"1月7日,泰国国务院事务部长素博塔·玛莎立和泰国文官委员会主席节派·武律博共同发起了“以美元换泰币,...\" with entities \"[(0, 4, 'DATE'), (5, 7, 'GPE'), (14, 21, 'PERSON')...\". Use `spacy.training.offsets_to_biluo_tags(nlp.make_doc(text), entities)` to check the alignment. Misaligned entities ('-') will be ignored during training.\n",
            "  warnings.warn(\n",
            "/usr/local/lib/python3.8/dist-packages/spacy/training/iob_utils.py:149: UserWarning: [W030] Some entities could not be aligned in the text \"伊拉克通讯社援引一名政府发言人的话说,由美国人斯科特·里特率领的这个武器核查小组完全由美国人和英国人...\" with entities \"[(0, 3, 'GPE'), (20, 22, 'GPE'), (23, 29, 'PERSON'...\". Use `spacy.training.offsets_to_biluo_tags(nlp.make_doc(text), entities)` to check the alignment. Misaligned entities ('-') will be ignored during training.\n",
            "  warnings.warn(\n",
            "/usr/local/lib/python3.8/dist-packages/spacy/training/iob_utils.py:149: UserWarning: [W030] Some entities could not be aligned in the text \"据新华社开罗1月11日电(记者王亚东、侯嘉)埃及帮助伊拉克儿童民间代表团11日致信阿拉伯国家联盟(阿...\" with entities \"[(1, 4, 'ORG'), (4, 6, 'GPE'), (6, 11, 'DATE'), (1...\". Use `spacy.training.offsets_to_biluo_tags(nlp.make_doc(text), entities)` to check the alignment. Misaligned entities ('-') will be ignored during training.\n",
            "  warnings.warn(\n",
            "/usr/local/lib/python3.8/dist-packages/spacy/training/iob_utils.py:149: UserWarning: [W030] Some entities could not be aligned in the text \"▲韩国总统金泳三9日会见了在汉城出席亚太议会论坛第六届年会的各代表团团长。在会见中,金泳三总统听取了...\" with entities \"[(1, 3, 'GPE'), (5, 8, 'PERSON'), (8, 10, 'DATE'),...\". Use `spacy.training.offsets_to_biluo_tags(nlp.make_doc(text), entities)` to check the alignment. Misaligned entities ('-') will be ignored during training.\n",
            "  warnings.warn(\n",
            "/usr/local/lib/python3.8/dist-packages/spacy/training/iob_utils.py:149: UserWarning: [W030] Some entities could not be aligned in the text \"据新华社纽约1月11日电(记者周锡生)连日来,与加拿大毗邻的美国东北部地区遭到冰风暴的袭击,气温骤降...\" with entities \"[(1, 4, 'ORG'), (4, 6, 'GPE'), (6, 11, 'DATE'), (1...\". Use `spacy.training.offsets_to_biluo_tags(nlp.make_doc(text), entities)` to check the alignment. Misaligned entities ('-') will be ignored during training.\n",
            "  warnings.warn(\n",
            "/usr/local/lib/python3.8/dist-packages/spacy/training/iob_utils.py:149: UserWarning: [W030] Some entities could not be aligned in the text \"本报呼和浩特1月10日电今天在此间举行的爱立信中国乒乓球擂台赛第十七场比赛中,世界冠军孔令辉和王晨分...\" with entities \"[(2, 6, 'GPE'), (6, 11, 'DATE'), (12, 14, 'DATE'),...\". Use `spacy.training.offsets_to_biluo_tags(nlp.make_doc(text), entities)` to check the alignment. Misaligned entities ('-') will be ignored during training.\n",
            "  warnings.warn(\n",
            "/usr/local/lib/python3.8/dist-packages/spacy/training/iob_utils.py:149: UserWarning: [W030] Some entities could not be aligned in the text \"新年伊始,广西人的视线与焦点,直指南昆铁路。自1个月前这条纵贯西南3省的大动脉建成通车以来,广西沿途...\" with entities \"[(0, 2, 'DATE'), (5, 7, 'GPE'), (46, 48, 'GPE')]\". Use `spacy.training.offsets_to_biluo_tags(nlp.make_doc(text), entities)` to check the alignment. Misaligned entities ('-') will be ignored during training.\n",
            "  warnings.warn(\n",
            "/usr/local/lib/python3.8/dist-packages/spacy/training/iob_utils.py:149: UserWarning: [W030] Some entities could not be aligned in the text \"梁军有一个小纸盒,是1954年第一次全国人民代表大会时,北师大二部马特洛索夫班的同学们送的,上面写道...\" with entities \"[(0, 2, 'PERSON'), (10, 15, 'DATE'), (65, 67, 'PER...\". Use `spacy.training.offsets_to_biluo_tags(nlp.make_doc(text), entities)` to check the alignment. Misaligned entities ('-') will be ignored during training.\n",
            "  warnings.warn(\n",
            "/usr/local/lib/python3.8/dist-packages/spacy/training/iob_utils.py:149: UserWarning: [W030] Some entities could not be aligned in the text \"陈庆朝拿着1997年7月22日的《顺德报》,喜笑颜开:“得民心,得民心!”他把这天的报纸过塑后,收藏...\" with entities \"[(0, 3, 'PERSON'), (5, 15, 'DATE'), (17, 19, 'GPE'...\". Use `spacy.training.offsets_to_biluo_tags(nlp.make_doc(text), entities)` to check the alignment. Misaligned entities ('-') will be ignored during training.\n",
            "  warnings.warn(\n",
            "/usr/local/lib/python3.8/dist-packages/spacy/training/iob_utils.py:149: UserWarning: [W030] Some entities could not be aligned in the text \"雪落在黄河石上\" with entities \"[(3, 5, 'GPE')]\". Use `spacy.training.offsets_to_biluo_tags(nlp.make_doc(text), entities)` to check the alignment. Misaligned entities ('-') will be ignored during training.\n",
            "  warnings.warn(\n",
            "/usr/local/lib/python3.8/dist-packages/spacy/training/iob_utils.py:149: UserWarning: [W030] Some entities could not be aligned in the text \"2月12日夜,第三军一大队、特务队共百余人,在司令员理琪的率领下,一夜急行军九十华里,拂晓前兵临牟平...\" with entities \"[(0, 5, 'DATE'), (26, 28, 'PERSON'), (43, 45, 'DAT...\". Use `spacy.training.offsets_to_biluo_tags(nlp.make_doc(text), entities)` to check the alignment. Misaligned entities ('-') will be ignored during training.\n",
            "  warnings.warn(\n",
            "/usr/local/lib/python3.8/dist-packages/spacy/training/iob_utils.py:149: UserWarning: [W030] Some entities could not be aligned in the text \"中联部部长戴秉国和西班牙驻华大使莱尼亚等参加了会见。\" with entities \"[(5, 8, 'PERSON'), (9, 12, 'GPE'), (16, 19, 'PERSO...\". Use `spacy.training.offsets_to_biluo_tags(nlp.make_doc(text), entities)` to check the alignment. Misaligned entities ('-') will be ignored during training.\n",
            "  warnings.warn(\n",
            "/usr/local/lib/python3.8/dist-packages/spacy/training/iob_utils.py:149: UserWarning: [W030] Some entities could not be aligned in the text \"开户银行:工商银行北京分行东城支行东四分理处。\" with entities \"[(9, 11, 'GPE'), (13, 15, 'GPE'), (17, 19, 'GPE')]\". Use `spacy.training.offsets_to_biluo_tags(nlp.make_doc(text), entities)` to check the alignment. Misaligned entities ('-') will be ignored during training.\n",
            "  warnings.warn(\n",
            "/usr/local/lib/python3.8/dist-packages/spacy/training/iob_utils.py:149: UserWarning: [W030] Some entities could not be aligned in the text \"张北—尚义自救能力十分薄弱。这场大雪,不啻雪上加霜。\" with entities \"[(0, 2, 'GPE'), (3, 5, 'GPE')]\". Use `spacy.training.offsets_to_biluo_tags(nlp.make_doc(text), entities)` to check the alignment. Misaligned entities ('-') will be ignored during training.\n",
            "  warnings.warn(\n",
            "/usr/local/lib/python3.8/dist-packages/spacy/training/iob_utils.py:149: UserWarning: [W030] Some entities could not be aligned in the text \"(张书政宇新桑余)\" with entities \"[(1, 4, 'PERSON'), (4, 6, 'PERSON'), (6, 8, 'PERSO...\". Use `spacy.training.offsets_to_biluo_tags(nlp.make_doc(text), entities)` to check the alignment. Misaligned entities ('-') will be ignored during training.\n",
            "  warnings.warn(\n",
            "/usr/local/lib/python3.8/dist-packages/spacy/training/iob_utils.py:149: UserWarning: [W030] Some entities could not be aligned in the text \"新华社北京1月13日电(记者于海生)国务院副总理李岚清今天下午在北京会见了爱沙尼亚议长托马斯·萨维一...\" with entities \"[(0, 3, 'ORG'), (3, 5, 'GPE'), (5, 10, 'DATE'), (1...\". Use `spacy.training.offsets_to_biluo_tags(nlp.make_doc(text), entities)` to check the alignment. Misaligned entities ('-') will be ignored during training.\n",
            "  warnings.warn(\n",
            "/usr/local/lib/python3.8/dist-packages/spacy/training/iob_utils.py:149: UserWarning: [W030] Some entities could not be aligned in the text \"据新华社北京1月13日电(记者赵秀娟、周志方)刘伯承元帅家人在观看大型话剧《虎踞钟山》后,高度评价了...\" with entities \"[(1, 4, 'ORG'), (4, 6, 'GPE'), (6, 11, 'DATE'), (1...\". Use `spacy.training.offsets_to_biluo_tags(nlp.make_doc(text), entities)` to check the alignment. Misaligned entities ('-') will be ignored during training.\n",
            "  warnings.warn(\n",
            "/usr/local/lib/python3.8/dist-packages/spacy/training/iob_utils.py:149: UserWarning: [W030] Some entities could not be aligned in the text \"编剧邵钧林和稽道青说,总书记在讲话中指出“优秀的艺术作品可以给人们以启发、教育和鼓舞”,“话剧是其他...\" with entities \"[(2, 5, 'PERSON'), (6, 9, 'PERSON')]\". Use `spacy.training.offsets_to_biluo_tags(nlp.make_doc(text), entities)` to check the alignment. Misaligned entities ('-') will be ignored during training.\n",
            "  warnings.warn(\n"
          ]
        }
      ]
    },
    {
      "cell_type": "code",
      "source": [
        "for entity_type in ['PERSON', 'GPE', 'ORG']:\n",
        "  print(entity_type + \":\")\n",
        "  print(entity_type_scores[entity_type])"
      ],
      "metadata": {
        "colab": {
          "base_uri": "https://localhost:8080/"
        },
        "id": "oNp2WSt6WOqD",
        "outputId": "8340d9bf-29e5-4ddf-8d54-48a16e0b5011"
      },
      "execution_count": null,
      "outputs": [
        {
          "output_type": "stream",
          "name": "stdout",
          "text": [
            "PERSON:\n",
            "{'p': 0.8052347959969207, 'r': 0.7402689313517339, 'f': 0.7713864306784659}\n",
            "GPE:\n",
            "{'p': 0.7966011683483802, 'r': 0.5729564553093965, 'f': 0.6665185514330149}\n",
            "ORG:\n",
            "{'p': 0.20293609671848015, 'r': 0.7389937106918238, 'f': 0.31842818428184283}\n"
          ]
        }
      ]
    },
    {
      "cell_type": "markdown",
      "source": [
        "We see that the model has a somewhat low Recall for GPE, which means it wasn't able to identify all the GPEs in the text.\n",
        "\n",
        "It also has a very low Precision for ORG, which explains the above case we saw earlier, where it wrongly tagged \"俄乌战争\" or Russian-Ukrainian War as ORG."
      ],
      "metadata": {
        "id": "5in9zAb_-AKu"
      }
    },
    {
      "cell_type": "markdown",
      "source": [
        "## Finetuning: NER model"
      ],
      "metadata": {
        "id": "LYhlPsArTXKZ"
      }
    },
    {
      "cell_type": "markdown",
      "source": [
        "To improve the model, we can fine-tune the pretrained model by training it on the People's Daily dataset.\n",
        "\n",
        "First, we'll make use of the list of dictionaries we created earlier, and convert them into DocBin objects, which is required for SpaCy training."
      ],
      "metadata": {
        "id": "JlrhAiWL-Y9f"
      }
    },
    {
      "cell_type": "code",
      "source": [
        "def create_spacy_docbin(spacy_data, indexes, model_type = \"ner\", docbin_type = \"train\", lang = \"zh\"):\n",
        "  \"\"\"Create DocBin object for Spacy training\"\"\"\n",
        "\n",
        "  # Load a new spacy model\n",
        "  nlp = spacy.blank(lang) \n",
        "  # Create new docbin object\n",
        "  doc_bin = DocBin()   \n",
        "\n",
        "  DOCBIN_FILE = docbin_type + \"_\" + model_type + \".spacy\"\n",
        "\n",
        "  for training_index in tqdm(indexes):\n",
        "      text = spacy_data[training_index]['text'] \n",
        "      labels = spacy_data[training_index]['entities']           \n",
        "      doc = nlp.make_doc(text)                                      #convert text to doc object\n",
        "      spans = []\n",
        "      for start, end, label in labels:\n",
        "          span = doc.char_span(start, end, label=label, alignment_mode=\"contract\")   #create span object for each entity\n",
        "          if span is None:\n",
        "              print(\"Skipping entity\")\n",
        "          else:\n",
        "              spans.append(span)\n",
        "      \n",
        "      if model_type != \"ner\":                           #Treatment for SpanCat model\n",
        "        group = SpanGroup(doc, name=\"sc\", spans=spans)               \n",
        "        doc.spans[\"sc\"] = group\n",
        "      else:                                           \n",
        "        filtered_ents = filter_spans(spans)               #pass list of entities to filter_spans function (checks for duplicate entities and do other sanity checks)\n",
        "        doc.ents = filtered_ents                          #store final list of entities as doc.ents variable \n",
        "      doc_bin.add(doc)                           #Append doc to docbin object\n",
        "      \n",
        "  doc_bin.to_disk(DOCBIN_FILE) \n",
        "\n",
        "create_spacy_docbin(spacy_data, X_train.index)\n",
        "create_spacy_docbin(spacy_data, X_val.index, docbin_type = \"validation\")"
      ],
      "metadata": {
        "colab": {
          "base_uri": "https://localhost:8080/"
        },
        "id": "82BBOZiZpqZw",
        "outputId": "a1b4d969-a7ff-4b21-ce57-278db01fcb19"
      },
      "execution_count": null,
      "outputs": [
        {
          "output_type": "stream",
          "name": "stderr",
          "text": [
            "100%|██████████| 15487/15487 [00:11<00:00, 1345.16it/s]\n",
            "100%|██████████| 1936/1936 [00:01<00:00, 1716.19it/s]\n"
          ]
        }
      ]
    },
    {
      "cell_type": "markdown",
      "source": [
        "Next, we'll set up the config files required, before training the model."
      ],
      "metadata": {
        "id": "YCxlvt8f-n2Q"
      }
    },
    {
      "cell_type": "code",
      "source": [
        "#Populate base_config\n",
        "!python3 -m spacy init fill-config base_config_ner.cfg config_ner.cfg"
      ],
      "metadata": {
        "colab": {
          "base_uri": "https://localhost:8080/"
        },
        "id": "lR5YfcfrpzQl",
        "outputId": "e21e26b9-5674-4d26-8ea0-dafe3a92b912"
      },
      "execution_count": null,
      "outputs": [
        {
          "output_type": "stream",
          "name": "stdout",
          "text": [
            "/usr/local/lib/python3.8/dist-packages/torch/cuda/__init__.py:497: UserWarning: Can't initialize NVML\n",
            "  warnings.warn(\"Can't initialize NVML\")\n",
            "2023-02-22 14:43:18.651730: W tensorflow/compiler/xla/stream_executor/platform/default/dso_loader.cc:64] Could not load dynamic library 'libnvinfer.so.7'; dlerror: libnvinfer.so.7: cannot open shared object file: No such file or directory; LD_LIBRARY_PATH: /usr/local/nvidia/lib:/usr/local/nvidia/lib64\n",
            "2023-02-22 14:43:18.651834: W tensorflow/compiler/xla/stream_executor/platform/default/dso_loader.cc:64] Could not load dynamic library 'libnvinfer_plugin.so.7'; dlerror: libnvinfer_plugin.so.7: cannot open shared object file: No such file or directory; LD_LIBRARY_PATH: /usr/local/nvidia/lib:/usr/local/nvidia/lib64\n",
            "2023-02-22 14:43:18.651852: W tensorflow/compiler/tf2tensorrt/utils/py_utils.cc:38] TF-TRT Warning: Cannot dlopen some TensorRT libraries. If you would like to use Nvidia GPU with TensorRT, please make sure the missing libraries mentioned above are installed properly.\n",
            "2023-02-22 14:43:20.746506: E tensorflow/compiler/xla/stream_executor/cuda/cuda_driver.cc:267] failed call to cuInit: CUDA_ERROR_NO_DEVICE: no CUDA-capable device is detected\n",
            "\u001b[38;5;2m✔ Auto-filled config with all values\u001b[0m\n",
            "\u001b[38;5;2m✔ Saved config\u001b[0m\n",
            "config.cfg\n",
            "You can now add your data and train your pipeline:\n",
            "python -m spacy train config.cfg --paths.train ./train.spacy --paths.dev ./dev.spacy\n"
          ]
        }
      ]
    },
    {
      "cell_type": "code",
      "source": [
        "#Change max_epochs to 7\n",
        "#Train spacy model\n",
        "!python3 -m spacy train config_ner.cfg --output ./ --paths.train ./train_ner.spacy --paths.dev ./validation_ner.spacy "
      ],
      "metadata": {
        "colab": {
          "base_uri": "https://localhost:8080/"
        },
        "id": "xfVRVqditQuR",
        "outputId": "0c9811d2-7979-4481-fe93-a8cdbe9e9ebb"
      },
      "execution_count": null,
      "outputs": [
        {
          "output_type": "stream",
          "name": "stdout",
          "text": [
            "/usr/local/lib/python3.8/dist-packages/torch/cuda/__init__.py:497: UserWarning: Can't initialize NVML\n",
            "  warnings.warn(\"Can't initialize NVML\")\n",
            "2023-02-22 14:44:01.825076: W tensorflow/compiler/xla/stream_executor/platform/default/dso_loader.cc:64] Could not load dynamic library 'libnvinfer.so.7'; dlerror: libnvinfer.so.7: cannot open shared object file: No such file or directory; LD_LIBRARY_PATH: /usr/local/nvidia/lib:/usr/local/nvidia/lib64\n",
            "2023-02-22 14:44:01.825205: W tensorflow/compiler/xla/stream_executor/platform/default/dso_loader.cc:64] Could not load dynamic library 'libnvinfer_plugin.so.7'; dlerror: libnvinfer_plugin.so.7: cannot open shared object file: No such file or directory; LD_LIBRARY_PATH: /usr/local/nvidia/lib:/usr/local/nvidia/lib64\n",
            "2023-02-22 14:44:01.825228: W tensorflow/compiler/tf2tensorrt/utils/py_utils.cc:38] TF-TRT Warning: Cannot dlopen some TensorRT libraries. If you would like to use Nvidia GPU with TensorRT, please make sure the missing libraries mentioned above are installed properly.\n",
            "2023-02-22 14:44:04.067647: E tensorflow/compiler/xla/stream_executor/cuda/cuda_driver.cc:267] failed call to cuInit: CUDA_ERROR_NO_DEVICE: no CUDA-capable device is detected\n",
            "\u001b[38;5;4mℹ Saving to output directory: .\u001b[0m\n",
            "\u001b[38;5;4mℹ Using CPU\u001b[0m\n",
            "\u001b[1m\n",
            "=========================== Initializing pipeline ===========================\u001b[0m\n",
            "[2023-02-22 14:44:05,115] [INFO] Set up nlp object from config\n",
            "INFO:spacy:Set up nlp object from config\n",
            "[2023-02-22 14:44:05,134] [INFO] Pipeline: ['tok2vec', 'ner']\n",
            "INFO:spacy:Pipeline: ['tok2vec', 'ner']\n",
            "[2023-02-22 14:44:05,141] [INFO] Created vocabulary\n",
            "INFO:spacy:Created vocabulary\n",
            "[2023-02-22 14:44:05,142] [INFO] Finished initializing nlp object\n",
            "INFO:spacy:Finished initializing nlp object\n",
            "[2023-02-22 14:44:27,679] [INFO] Initialized pipeline components: ['tok2vec', 'ner']\n",
            "INFO:spacy:Initialized pipeline components: ['tok2vec', 'ner']\n",
            "\u001b[38;5;2m✔ Initialized pipeline\u001b[0m\n",
            "\u001b[1m\n",
            "============================= Training pipeline =============================\u001b[0m\n",
            "\u001b[38;5;4mℹ Pipeline: ['tok2vec', 'ner']\u001b[0m\n",
            "\u001b[38;5;4mℹ Initial learn rate: 0.001\u001b[0m\n",
            "E    #       LOSS TOK2VEC  LOSS NER  ENTS_F  ENTS_P  ENTS_R  SCORE \n",
            "---  ------  ------------  --------  ------  ------  ------  ------\n",
            "  0       0          0.00    163.56    0.00    0.00    0.00    0.00\n",
            "  0     200       1515.16   3374.45   27.33   36.26   21.93    0.27\n",
            "  0     400        659.90   1779.93   40.87   55.34   32.40    0.41\n",
            "  0     600        138.80   1229.50   56.25   68.45   47.74    0.56\n",
            "  0     800        181.95   1367.75   62.13   67.91   57.26    0.62\n",
            "  0    1000        245.53   1244.25   63.23   72.46   56.09    0.63\n",
            "  0    1200        221.75   1290.25   70.55   74.05   67.35    0.71\n",
            "  0    1400        308.23   1338.99   71.80   79.54   65.43    0.72\n",
            "  0    1600        456.28   1677.33   71.31   71.23   71.39    0.71\n",
            "  0    1800        461.34   1672.29   76.21   81.41   71.64    0.76\n",
            "  0    2000        640.82   2008.44   77.63   82.31   73.45    0.78\n",
            "  0    2200        809.37   2466.40   79.70   80.45   78.97    0.80\n",
            "  0    2400        961.92   2725.34   80.91   86.65   75.89    0.81\n",
            "  0    2600        903.70   2767.03   84.51   86.41   82.68    0.85\n",
            "  0    2800        908.66   2677.94   85.24   85.57   84.90    0.85\n",
            "  0    3000       1014.98   2874.76   85.87   89.41   82.59    0.86\n",
            "  1    3200        893.53   2472.04   86.35   86.90   85.81    0.86\n",
            "  1    3400       1026.55   2195.68   88.09   89.87   86.37    0.88\n",
            "  1    3600        964.10   1971.80   88.23   88.07   88.39    0.88\n",
            "  1    3800        779.78   1834.20   87.63   88.34   86.92    0.88\n",
            "  1    4000       1018.17   1944.48   88.72   88.81   88.64    0.89\n",
            "  1    4200        836.68   1824.37   88.95   90.65   87.31    0.89\n",
            "  1    4400       1266.95   2048.26   89.89   90.58   89.22    0.90\n",
            "  1    4600        937.05   1788.88   89.82   90.83   88.84    0.90\n",
            "  2    4800        917.99   1832.14   89.26   90.26   88.30    0.89\n",
            "  2    5000       1024.50   1506.48   89.86   91.74   88.05    0.90\n",
            "  2    5200        992.31   1581.46   90.98   91.83   90.14    0.91\n",
            "  2    5400       1026.96   1387.39   90.85   91.92   89.80    0.91\n",
            "  2    5600       1111.15   1518.74   90.84   93.18   88.61    0.91\n",
            "  2    5800       1460.04   1627.72   90.68   93.45   88.08    0.91\n",
            "  2    6000       1393.16   1548.67   91.11   92.69   89.58    0.91\n",
            "  2    6200        935.19   1482.99   91.52   93.17   89.94    0.92\n",
            "  3    6400        742.11   1281.78   91.56   92.89   90.26    0.92\n",
            "  3    6600       1218.67   1317.87   92.05   93.15   90.97    0.92\n",
            "  3    6800       1304.30   1229.32   92.11   94.20   90.11    0.92\n",
            "  3    7000       1113.41   1270.19   91.71   94.63   88.97    0.92\n",
            "  3    7200       1510.68   1352.51   91.36   92.28   90.45    0.91\n",
            "  3    7400       1259.71   1233.85   92.17   92.67   91.67    0.92\n",
            "  3    7600       1098.88   1116.70   92.56   95.12   90.14    0.93\n",
            "  3    7800       1111.97   1261.96   92.75   94.60   90.97    0.93\n",
            "  4    8000       1092.37   1183.82   91.77   93.58   90.03    0.92\n",
            "  4    8200       1242.40   1003.62   92.93   93.57   92.30    0.93\n",
            "  4    8400       1590.26   1099.67   91.69   93.16   90.26    0.92\n",
            "  4    8600       1295.39   1034.16   91.71   93.79   89.72    0.92\n",
            "  4    8800       1201.98   1140.42   92.51   94.00   91.06    0.93\n",
            "  4    9000       1723.48   1101.68   92.47   93.07   91.87    0.92\n",
            "  4    9200       1370.67   1074.12   93.00   93.88   92.12    0.93\n",
            "  4    9400       1954.00   1199.87   92.58   93.04   92.12    0.93\n",
            "  5    9600       2602.82   1281.98   92.98   93.71   92.26    0.93\n",
            "  5    9800       1543.43    922.10   93.03   95.13   91.01    0.93\n",
            "  5   10000       1536.14   1016.75   92.99   93.78   92.20    0.93\n",
            "  5   10200       1268.90    905.85   92.00   93.77   90.30    0.92\n",
            "  5   10400       1961.93   1008.10   92.77   93.31   92.23    0.93\n",
            "  5   10600       1807.75   1015.77   92.97   94.74   91.26    0.93\n",
            "  5   10800       1594.45   1001.76   92.97   93.30   92.66    0.93\n",
            "  5   11000       1638.21    935.32   92.83   95.70   90.12    0.93\n",
            "  5   11200       2001.82    989.67   92.72   94.50   91.01    0.93\n",
            "  6   11400       2231.31    867.52   92.88   94.11   91.67    0.93\n",
            "\u001b[38;5;2m✔ Saved pipeline to output directory\u001b[0m\n",
            "model-last\n"
          ]
        }
      ]
    },
    {
      "cell_type": "markdown",
      "source": [
        "After training for around 6 epochs, the model was able to achieve a validation F1-score of around 93%. We can further evaluate the model qualitatively and quantitatively."
      ],
      "metadata": {
        "id": "aGEQHFhO-7Xc"
      }
    },
    {
      "cell_type": "code",
      "source": [
        "#Load best model, need to rename default \"model-best\" folder\n",
        "ner_best = spacy.load(\"ner-model-best\")      "
      ],
      "metadata": {
        "id": "M24StroKtWQN"
      },
      "execution_count": null,
      "outputs": []
    },
    {
      "cell_type": "code",
      "source": [
        "render_ner_samples(ner_best, sample_list)"
      ],
      "metadata": {
        "colab": {
          "base_uri": "https://localhost:8080/",
          "height": 423
        },
        "id": "qcs26J_ltjNK",
        "outputId": "ec2581da-3ff9-4ea5-b785-ae055ab204aa"
      },
      "execution_count": null,
      "outputs": [
        {
          "output_type": "stream",
          "name": "stdout",
          "text": [
            "doc: 1\n"
          ]
        },
        {
          "output_type": "display_data",
          "data": {
            "text/plain": [
              "<IPython.core.display.HTML object>"
            ],
            "text/html": [
              "<span class=\"tex2jax_ignore\"><div class=\"entities\" style=\"line-height: 2.5; direction: ltr\">\n",
              "<mark class=\"entity\" style=\"background: #aa9cfc; padding: 0.45em 0.6em; margin: 0 0.25em; line-height: 1; border-radius: 0.35em;\">\n",
              "    陈俊勇\n",
              "    <span style=\"font-size: 0.8em; font-weight: bold; line-height: 1; border-radius: 0.35em; vertical-align: middle; margin-left: 0.5rem\">PERSON</span>\n",
              "</mark>\n",
              "（47岁，科技业人员）\n",
              "<mark class=\"entity\" style=\"background: #bfe1d9; padding: 0.45em 0.6em; margin: 0 0.25em; line-height: 1; border-radius: 0.35em;\">\n",
              "    本月底\n",
              "    <span style=\"font-size: 0.8em; font-weight: bold; line-height: 1; border-radius: 0.35em; vertical-align: middle; margin-left: 0.5rem\">DATE</span>\n",
              "</mark>\n",
              "将到\n",
              "<mark class=\"entity\" style=\"background: #feca74; padding: 0.45em 0.6em; margin: 0 0.25em; line-height: 1; border-radius: 0.35em;\">\n",
              "    印度尼西亚\n",
              "    <span style=\"font-size: 0.8em; font-weight: bold; line-height: 1; border-radius: 0.35em; vertical-align: middle; margin-left: 0.5rem\">GPE</span>\n",
              "</mark>\n",
              "旅游，加上从未确诊，因此决定继续戴口罩。他说：“我会观察我国\n",
              "<mark class=\"entity\" style=\"background: #bfe1d9; padding: 0.45em 0.6em; margin: 0 0.25em; line-height: 1; border-radius: 0.35em;\">\n",
              "    未来\n",
              "    <span style=\"font-size: 0.8em; font-weight: bold; line-height: 1; border-radius: 0.35em; vertical-align: middle; margin-left: 0.5rem\">DATE</span>\n",
              "</mark>\n",
              "几个月的确诊病例，如果情况维持或改善，我可能就不戴口罩了。</div></span>"
            ]
          },
          "metadata": {}
        },
        {
          "output_type": "stream",
          "name": "stdout",
          "text": [
            "\n",
            "\n",
            "doc: 2\n"
          ]
        },
        {
          "output_type": "display_data",
          "data": {
            "text/plain": [
              "<IPython.core.display.HTML object>"
            ],
            "text/html": [
              "<span class=\"tex2jax_ignore\"><div class=\"entities\" style=\"line-height: 2.5; direction: ltr\">另外，与其他公众一样，公交职员也可选择不戴口罩，不过据《\n",
              "<mark class=\"entity\" style=\"background: #7aecec; padding: 0.45em 0.6em; margin: 0 0.25em; line-height: 1; border-radius: 0.35em;\">\n",
              "    联合早\n",
              "    <span style=\"font-size: 0.8em; font-weight: bold; line-height: 1; border-radius: 0.35em; vertical-align: middle; margin-left: 0.5rem\">ORG</span>\n",
              "</mark>\n",
              "报》观察，大部分巴士车长开车或在转换站走动时仍戴着口罩。《\n",
              "<mark class=\"entity\" style=\"background: #7aecec; padding: 0.45em 0.6em; margin: 0 0.25em; line-height: 1; border-radius: 0.35em;\">\n",
              "    联合早\n",
              "    <span style=\"font-size: 0.8em; font-weight: bold; line-height: 1; border-radius: 0.35em; vertical-align: middle; margin-left: 0.5rem\">ORG</span>\n",
              "</mark>\n",
              "报》记者走访五个地铁站发现，绝大多数工作人员都戴着口罩。在地铁站巡逻的公共交通保安指挥处（Transcom）警员也同样戴着口罩。</div></span>"
            ]
          },
          "metadata": {}
        },
        {
          "output_type": "stream",
          "name": "stdout",
          "text": [
            "\n",
            "\n",
            "doc: 3\n"
          ]
        },
        {
          "output_type": "display_data",
          "data": {
            "text/plain": [
              "<IPython.core.display.HTML object>"
            ],
            "text/html": [
              "<span class=\"tex2jax_ignore\"><div class=\"entities\" style=\"line-height: 2.5; direction: ltr\">在开战一周年之际，《\n",
              "<mark class=\"entity\" style=\"background: #7aecec; padding: 0.45em 0.6em; margin: 0 0.25em; line-height: 1; border-radius: 0.35em;\">\n",
              "    联合早\n",
              "    <span style=\"font-size: 0.8em; font-weight: bold; line-height: 1; border-radius: 0.35em; vertical-align: middle; margin-left: 0.5rem\">ORG</span>\n",
              "</mark>\n",
              "报》记者前往\n",
              "<mark class=\"entity\" style=\"background: #feca74; padding: 0.45em 0.6em; margin: 0 0.25em; line-height: 1; border-radius: 0.35em;\">\n",
              "    波兰\n",
              "    <span style=\"font-size: 0.8em; font-weight: bold; line-height: 1; border-radius: 0.35em; vertical-align: middle; margin-left: 0.5rem\">GPE</span>\n",
              "</mark>\n",
              "采访失去家园的\n",
              "<mark class=\"entity\" style=\"background: #feca74; padding: 0.45em 0.6em; margin: 0 0.25em; line-height: 1; border-radius: 0.35em;\">\n",
              "    乌克兰\n",
              "    <span style=\"font-size: 0.8em; font-weight: bold; line-height: 1; border-radius: 0.35em; vertical-align: middle; margin-left: 0.5rem\">GPE</span>\n",
              "</mark>\n",
              "难民。这期的早报播客《东谈西论》，听《\n",
              "<mark class=\"entity\" style=\"background: #7aecec; padding: 0.45em 0.6em; margin: 0 0.25em; line-height: 1; border-radius: 0.35em;\">\n",
              "    联合早\n",
              "    <span style=\"font-size: 0.8em; font-weight: bold; line-height: 1; border-radius: 0.35em; vertical-align: middle; margin-left: 0.5rem\">ORG</span>\n",
              "</mark>\n",
              "报》\n",
              "<mark class=\"entity\" style=\"background: #feca74; padding: 0.45em 0.6em; margin: 0 0.25em; line-height: 1; border-radius: 0.35em;\">\n",
              "    中国\n",
              "    <span style=\"font-size: 0.8em; font-weight: bold; line-height: 1; border-radius: 0.35em; vertical-align: middle; margin-left: 0.5rem\">GPE</span>\n",
              "</mark>\n",
              "新闻组副主任\n",
              "<mark class=\"entity\" style=\"background: #aa9cfc; padding: 0.45em 0.6em; margin: 0 0.25em; line-height: 1; border-radius: 0.35em;\">\n",
              "    沈泽玮\n",
              "    <span style=\"font-size: 0.8em; font-weight: bold; line-height: 1; border-radius: 0.35em; vertical-align: middle; margin-left: 0.5rem\">PERSON</span>\n",
              "</mark>\n",
              "与国际组记者\n",
              "<mark class=\"entity\" style=\"background: #aa9cfc; padding: 0.45em 0.6em; margin: 0 0.25em; line-height: 1; border-radius: 0.35em;\">\n",
              "    廖慧婷\n",
              "    <span style=\"font-size: 0.8em; font-weight: bold; line-height: 1; border-radius: 0.35em; vertical-align: middle; margin-left: 0.5rem\">PERSON</span>\n",
              "</mark>\n",
              "分享他们\n",
              "<mark class=\"entity\" style=\"background: #feca74; padding: 0.45em 0.6em; margin: 0 0.25em; line-height: 1; border-radius: 0.35em;\">\n",
              "    欧洲\n",
              "    <span style=\"font-size: 0.8em; font-weight: bold; line-height: 1; border-radius: 0.35em; vertical-align: middle; margin-left: 0.5rem\">GPE</span>\n",
              "</mark>\n",
              "之行的所见所闻。《东谈西论》主持人\n",
              "<mark class=\"entity\" style=\"background: #aa9cfc; padding: 0.45em 0.6em; margin: 0 0.25em; line-height: 1; border-radius: 0.35em;\">\n",
              "    韩咏红\n",
              "    <span style=\"font-size: 0.8em; font-weight: bold; line-height: 1; border-radius: 0.35em; vertical-align: middle; margin-left: 0.5rem\">PERSON</span>\n",
              "</mark>\n",
              "也邀请\n",
              "<mark class=\"entity\" style=\"background: #7aecec; padding: 0.45em 0.6em; margin: 0 0.25em; line-height: 1; border-radius: 0.35em;\">\n",
              "    南京大学\n",
              "    <span style=\"font-size: 0.8em; font-weight: bold; line-height: 1; border-radius: 0.35em; vertical-align: middle; margin-left: 0.5rem\">ORG</span>\n",
              "</mark>\n",
              "国际关系学院执行院长\n",
              "<mark class=\"entity\" style=\"background: #aa9cfc; padding: 0.45em 0.6em; margin: 0 0.25em; line-height: 1; border-radius: 0.35em;\">\n",
              "    朱锋\n",
              "    <span style=\"font-size: 0.8em; font-weight: bold; line-height: 1; border-radius: 0.35em; vertical-align: middle; margin-left: 0.5rem\">PERSON</span>\n",
              "</mark>\n",
              "教授回顾俄乌战争一周年对世界格局带来的影响，并且展望战局的下一步发展 。</div></span>"
            ]
          },
          "metadata": {}
        },
        {
          "output_type": "stream",
          "name": "stdout",
          "text": [
            "\n",
            "\n"
          ]
        }
      ]
    },
    {
      "cell_type": "markdown",
      "source": [
        "Compared to the baseline model, it seems that the finetuned model has some improvements as it is no longer tagging \"俄乌战争\" as ORG. However, it is still making some mistakes, as it tagged \"联合早\" as ORG, when it should have tagged \"联合早报\" instead.\n",
        "\n",
        "This might be due to 2 reasons:\n",
        "- The number of examples with ORG is pretty low and may be insufficient for the model to learn well. It will be good to add more examples for ORG to improve the model's performance.\n",
        "- The samples are from a newspaper in Singapore, while the model was trained on news data from China. \"联合早报\" is an organization in Singapore, therefore it makes sense that the model may not recognize such terms. If we want the model to perform well specifically for Singaporean news, it will be good to add Singapore news examples to the training data."
      ],
      "metadata": {
        "id": "bFTK7xgm_Mxe"
      }
    },
    {
      "cell_type": "code",
      "source": [
        "entity_type_scores_best = evaluate_per_category_metrics(ner_best, spacy_data, X_test.index)\n",
        "for entity_type in ['PERSON', 'GPE', 'ORG']:\n",
        "  print(entity_type + \":\")\n",
        "  print(entity_type_scores_best[entity_type])"
      ],
      "metadata": {
        "colab": {
          "base_uri": "https://localhost:8080/"
        },
        "id": "MmNUmvXhVTb5",
        "outputId": "a33f82a3-d635-45f4-9235-90b2bdb1497c"
      },
      "execution_count": null,
      "outputs": [
        {
          "output_type": "stream",
          "name": "stdout",
          "text": [
            "PERSON:\n",
            "{'p': 0.9148936170212766, 'r': 0.8662056524353577, 'f': 0.8898841698841699}\n",
            "GPE:\n",
            "{'p': 0.9563235852639574, 'r': 0.9026707295214196, 'f': 0.9287229137851545}\n",
            "ORG:\n",
            "{'p': 0.9462989840348331, 'r': 0.9644970414201184, 'f': 0.9553113553113555}\n"
          ]
        }
      ]
    },
    {
      "cell_type": "markdown",
      "source": [
        "Nevertheless, when we evaluate on the test set, it seems that recall for GPE and precision for ORG has improved substantially. \n",
        "\n",
        "If we apply the model to unseen People's Daily examples or other China newspaper examples, the model should be able to perform well."
      ],
      "metadata": {
        "id": "B5PCeqkkBU6f"
      }
    },
    {
      "cell_type": "code",
      "source": [
        "ner_best.to_disk(FOLDER_PATH + \"best-ner-model\") "
      ],
      "metadata": {
        "id": "vxZBYWwoxgM9"
      },
      "execution_count": null,
      "outputs": []
    },
    {
      "cell_type": "markdown",
      "source": [
        "## Finetuning: SpanCategorizer model"
      ],
      "metadata": {
        "id": "8EcVlirr_u6C"
      }
    },
    {
      "cell_type": "markdown",
      "source": [
        "So far, the finetuned NER model we developed seems to have pretty good performance. However, the NER model in SpaCy uses a transition-based approach, rather than a probabilistic one, and therefore is unable to return confidence scores.\n",
        "\n",
        "Thus, if we want to obtain confidence scores for each entity type prediction, we have to use the SpanCategorizer model in SpaCy instead."
      ],
      "metadata": {
        "id": "mY9YDHbfBuoa"
      }
    },
    {
      "cell_type": "code",
      "source": [
        "create_spacy_docbin(spacy_data, X_train.index, model_type = \"spancat\")\n",
        "create_spacy_docbin(spacy_data, X_val.index, model_type = \"spancat\", docbin_type = \"validation\")"
      ],
      "metadata": {
        "colab": {
          "base_uri": "https://localhost:8080/"
        },
        "id": "aOE7lpSJ_uHU",
        "outputId": "e778469a-a26d-4cb3-a74b-5acf8a250f46"
      },
      "execution_count": 16,
      "outputs": [
        {
          "output_type": "stream",
          "name": "stderr",
          "text": [
            "100%|██████████| 15487/15487 [00:19<00:00, 806.94it/s] \n",
            "100%|██████████| 1936/1936 [00:03<00:00, 520.42it/s]\n"
          ]
        }
      ]
    },
    {
      "cell_type": "code",
      "source": [
        "#Populate base_config\n",
        "!python3 -m spacy init fill-config base_config_spancat.cfg config_spancat.cfg"
      ],
      "metadata": {
        "colab": {
          "base_uri": "https://localhost:8080/"
        },
        "id": "Lsq3W_Tv_y9D",
        "outputId": "30c635da-46be-4785-b8f7-cec8fbdc501f"
      },
      "execution_count": 17,
      "outputs": [
        {
          "output_type": "stream",
          "name": "stdout",
          "text": [
            "/usr/local/lib/python3.8/dist-packages/torch/cuda/__init__.py:497: UserWarning: Can't initialize NVML\n",
            "  warnings.warn(\"Can't initialize NVML\")\n",
            "2023-02-23 16:04:42.827066: W tensorflow/compiler/xla/stream_executor/platform/default/dso_loader.cc:64] Could not load dynamic library 'libnvinfer.so.7'; dlerror: libnvinfer.so.7: cannot open shared object file: No such file or directory; LD_LIBRARY_PATH: /usr/local/nvidia/lib:/usr/local/nvidia/lib64\n",
            "2023-02-23 16:04:42.827174: W tensorflow/compiler/xla/stream_executor/platform/default/dso_loader.cc:64] Could not load dynamic library 'libnvinfer_plugin.so.7'; dlerror: libnvinfer_plugin.so.7: cannot open shared object file: No such file or directory; LD_LIBRARY_PATH: /usr/local/nvidia/lib:/usr/local/nvidia/lib64\n",
            "2023-02-23 16:04:42.827193: W tensorflow/compiler/tf2tensorrt/utils/py_utils.cc:38] TF-TRT Warning: Cannot dlopen some TensorRT libraries. If you would like to use Nvidia GPU with TensorRT, please make sure the missing libraries mentioned above are installed properly.\n",
            "2023-02-23 16:04:44.432391: E tensorflow/compiler/xla/stream_executor/cuda/cuda_driver.cc:267] failed call to cuInit: CUDA_ERROR_NO_DEVICE: no CUDA-capable device is detected\n",
            "\u001b[38;5;2m✔ Auto-filled config with all values\u001b[0m\n",
            "\u001b[38;5;2m✔ Saved config\u001b[0m\n",
            "config_spancat.cfg\n",
            "You can now add your data and train your pipeline:\n",
            "python -m spacy train config_spancat.cfg --paths.train ./train.spacy --paths.dev ./dev.spacy\n"
          ]
        }
      ]
    },
    {
      "cell_type": "code",
      "source": [
        "#Change max_epochs to 7\n",
        "!python3 -m spacy train config_spancat.cfg --output ./ --paths.train ./train_spancat.spacy --paths.dev ./validation_spancat.spacy"
      ],
      "metadata": {
        "colab": {
          "base_uri": "https://localhost:8080/"
        },
        "id": "CM8IpSAz_290",
        "outputId": "8b71093d-81da-49e7-fa58-08c32a7a3c59"
      },
      "execution_count": 18,
      "outputs": [
        {
          "output_type": "stream",
          "name": "stdout",
          "text": [
            "/usr/local/lib/python3.8/dist-packages/torch/cuda/__init__.py:497: UserWarning: Can't initialize NVML\n",
            "  warnings.warn(\"Can't initialize NVML\")\n",
            "2023-02-23 16:05:29.695138: W tensorflow/compiler/xla/stream_executor/platform/default/dso_loader.cc:64] Could not load dynamic library 'libnvinfer.so.7'; dlerror: libnvinfer.so.7: cannot open shared object file: No such file or directory; LD_LIBRARY_PATH: /usr/local/nvidia/lib:/usr/local/nvidia/lib64\n",
            "2023-02-23 16:05:29.695280: W tensorflow/compiler/xla/stream_executor/platform/default/dso_loader.cc:64] Could not load dynamic library 'libnvinfer_plugin.so.7'; dlerror: libnvinfer_plugin.so.7: cannot open shared object file: No such file or directory; LD_LIBRARY_PATH: /usr/local/nvidia/lib:/usr/local/nvidia/lib64\n",
            "2023-02-23 16:05:29.695303: W tensorflow/compiler/tf2tensorrt/utils/py_utils.cc:38] TF-TRT Warning: Cannot dlopen some TensorRT libraries. If you would like to use Nvidia GPU with TensorRT, please make sure the missing libraries mentioned above are installed properly.\n",
            "2023-02-23 16:05:32.067719: E tensorflow/compiler/xla/stream_executor/cuda/cuda_driver.cc:267] failed call to cuInit: CUDA_ERROR_NO_DEVICE: no CUDA-capable device is detected\n",
            "\u001b[38;5;4mℹ Saving to output directory: .\u001b[0m\n",
            "\u001b[38;5;4mℹ Using CPU\u001b[0m\n",
            "\u001b[1m\n",
            "=========================== Initializing pipeline ===========================\u001b[0m\n",
            "[2023-02-23 16:05:32,956] [INFO] Set up nlp object from config\n",
            "INFO:spacy:Set up nlp object from config\n",
            "[2023-02-23 16:05:32,977] [INFO] Pipeline: ['tok2vec', 'spancat']\n",
            "INFO:spacy:Pipeline: ['tok2vec', 'spancat']\n",
            "[2023-02-23 16:05:32,986] [INFO] Created vocabulary\n",
            "INFO:spacy:Created vocabulary\n",
            "[2023-02-23 16:05:32,987] [INFO] Finished initializing nlp object\n",
            "INFO:spacy:Finished initializing nlp object\n",
            "[2023-02-23 16:06:00,362] [INFO] Initialized pipeline components: ['tok2vec', 'spancat']\n",
            "INFO:spacy:Initialized pipeline components: ['tok2vec', 'spancat']\n",
            "\u001b[38;5;2m✔ Initialized pipeline\u001b[0m\n",
            "\u001b[1m\n",
            "============================= Training pipeline =============================\u001b[0m\n",
            "\u001b[38;5;4mℹ Pipeline: ['tok2vec', 'spancat']\u001b[0m\n",
            "\u001b[38;5;4mℹ Initial learn rate: 0.001\u001b[0m\n",
            "E    #       LOSS TOK2VEC  LOSS SPANCAT  SPANS_SC_F  SPANS_SC_P  SPANS_SC_R  SCORE \n",
            "---  ------  ------------  ------------  ----------  ----------  ----------  ------\n",
            "  0       0         18.49        618.49        0.58        0.29       43.88    0.01\n",
            "  0     200         41.13       2104.74       11.91       26.38        7.69    0.12\n",
            "  0     400          0.31        821.85       26.35       82.71       15.67    0.26\n",
            "  0     600          0.63        669.17       34.42       87.71       21.41    0.34\n",
            "  0     800          0.99        668.74       52.46       80.97       38.80    0.52\n",
            "  0    1000          0.82        614.22       52.50       90.96       36.90    0.53\n",
            "  0    1200          0.96        607.00       60.15       87.93       45.71    0.60\n",
            "  0    1400          1.31        792.04       60.18       92.38       44.62    0.60\n",
            "  0    1600          1.23        825.76       61.70       93.18       46.12    0.62\n",
            "  0    1800          1.71        969.36       65.57       85.05       53.35    0.66\n",
            "  0    2000          1.88       1082.81       67.77       89.31       54.60    0.68\n",
            "  0    2200          2.40       1264.38       68.77       92.54       54.71    0.69\n",
            "  0    2400          2.46       1447.22       73.30       90.27       61.70    0.73\n",
            "  0    2600          3.44       1560.53       75.25       89.60       64.87    0.75\n",
            "  0    2800          3.52       1370.68       76.12       90.63       65.61    0.76\n",
            "  0    3000          4.00       1418.61       77.99       92.50       67.41    0.78\n",
            "  0    3200          3.67       1234.77       77.95       92.73       67.23    0.78\n",
            "  1    3400          3.38       1097.04       78.36       93.34       67.53    0.78\n",
            "  1    3600          3.74       1018.27       78.98       95.49       67.33    0.79\n",
            "  1    3800          3.73       1009.12       79.34       93.23       69.05    0.79\n",
            "  1    4000          3.63       1043.45       80.28       94.35       69.86    0.80\n",
            "  1    4200          3.52       1083.67       80.72       91.69       72.10    0.81\n",
            "  1    4400          3.44        958.08       80.04       96.03       68.61    0.80\n",
            "  1    4600          3.54        962.12       80.65       95.78       69.65    0.81\n",
            "  1    4800          3.32        969.22       80.83       95.45       70.09    0.81\n",
            "  2    5000          3.63        856.08       81.76       94.16       72.25    0.82\n",
            "  2    5200          3.40        835.73       81.48       94.19       71.79    0.81\n",
            "  2    5400          3.49        820.00       81.40       94.55       71.47    0.81\n",
            "  2    5600          3.37        781.57       81.66       94.89       71.66    0.82\n",
            "  2    5800          3.69        795.18       81.72       95.49       71.42    0.82\n",
            "  2    6000          3.90        920.72       81.61       95.88       71.03    0.82\n",
            "  2    6200          3.27        773.98       81.98       94.96       72.12    0.82\n",
            "  2    6400          3.22        808.96       82.24       95.04       72.47    0.82\n",
            "  3    6600          3.33        748.36       82.25       96.14       71.87    0.82\n",
            "  3    6800          3.67        709.47       82.36       94.73       72.85    0.82\n",
            "  3    7000          2.97        708.87       82.57       94.84       73.11    0.83\n",
            "  3    7200          3.34        723.96       82.33       94.55       72.91    0.82\n",
            "  3    7400          4.10        807.31       82.54       95.72       72.55    0.83\n",
            "  3    7600          3.25        688.95       82.30       96.26       71.87    0.82\n",
            "  3    7800          3.42        695.21       82.62       95.45       72.83    0.83\n",
            "  3    8000          3.71        720.40       82.89       96.15       72.85    0.83\n",
            "  4    8200          2.69        589.32       82.68       95.95       72.64    0.83\n",
            "  4    8400          3.05        682.02       82.65       94.36       73.53    0.83\n",
            "  4    8600          3.44        685.27       82.58       95.88       72.52    0.83\n",
            "  4    8800          3.40        627.47       82.72       95.07       73.20    0.83\n",
            "  4    9000          3.18        601.03       83.10       95.75       73.40    0.83\n",
            "  4    9200          3.17        663.05       82.88       95.32       73.32    0.83\n",
            "  4    9400          3.53        675.94       82.89       95.51       73.22    0.83\n",
            "  4    9600          3.69        764.20       82.78       94.60       73.59    0.83\n",
            "  5    9800          2.93        574.04       83.13       95.89       73.37    0.83\n",
            "  5   10000          3.50        613.00       82.83       95.33       73.22    0.83\n",
            "  5   10200          3.44        622.16       83.05       95.84       73.27    0.83\n",
            "  5   10400          3.30        574.99       82.78       93.31       74.39    0.83\n",
            "  5   10600          3.82        611.48       83.07       95.61       73.45    0.83\n",
            "  5   10800          3.47        659.77       83.11       95.85       73.37    0.83\n",
            "  5   11000          3.08        588.42       83.25       95.10       74.03    0.83\n",
            "  5   11200          3.23        665.63       83.30       96.36       73.37    0.83\n",
            "  6   11400          2.86        545.05       83.27       95.49       73.82    0.83\n",
            "  6   11600          3.45        588.24       83.27       96.43       73.27    0.83\n",
            "\n",
            "Aborted!\n"
          ]
        }
      ]
    },
    {
      "cell_type": "markdown",
      "source": [
        "After training the model for 6 epochs, the model has an F1-score of around 83%, which is lower than the finetuned NER model. This is because the NER model has stronger constraints, which can help it make better predictions.\n",
        "\n",
        "Nevertheless, we can still improve the SpanCategorizer model's performance, by increasing the model size or adding more examples to the training dataset."
      ],
      "metadata": {
        "id": "V5RxzgG0CItB"
      }
    },
    {
      "cell_type": "code",
      "source": [
        "#Load best model, need to rename default \"model-best\" folder\n",
        "spancat_best = spacy.load(\"spancat-model-best\")                 "
      ],
      "metadata": {
        "id": "ec8z6kp8_3kN"
      },
      "execution_count": 19,
      "outputs": []
    },
    {
      "cell_type": "code",
      "source": [
        "#Print confidence score for prediction\n",
        "sample_doc = spancat_best(sample_list[2])\n",
        "sample_spans = sample_doc.spans[\"sc\"]\n",
        "for span, confidence in zip(sample_spans, sample_spans.attrs[\"scores\"]):\n",
        "    print(span.text, span.label_, confidence)"
      ],
      "metadata": {
        "colab": {
          "base_uri": "https://localhost:8080/"
        },
        "id": "w-XIkEbU_5VU",
        "outputId": "10f6abb9-1828-482e-952a-16c6fe9efd34"
      },
      "execution_count": 20,
      "outputs": [
        {
          "output_type": "stream",
          "name": "stdout",
          "text": [
            "波兰 GPE 0.9934057\n",
            "中国 GPE 0.99924856\n",
            "欧洲 GPE 0.99932325\n",
            "南京 GPE 0.99565387\n",
            "朱锋 PERSON 0.9996153\n",
            "乌克兰 GPE 0.99484974\n",
            "沈泽玮 PERSON 0.9980667\n",
            "廖慧婷 PERSON 0.9993088\n",
            "韩咏红 PERSON 0.99929595\n"
          ]
        }
      ]
    },
    {
      "cell_type": "markdown",
      "source": [
        "When applying the SpanCategorizer model to the 3rd sample, unlike the pretrained model and finetuned NER model, it doesn't detect any ORG entities. Nevertheless, it still performs well for PERSON and GPE entities, and is able to provide the confidence scores.\n",
        "\n",
        "Now that we have a model that can extract entities and provide confidence scores, we can save the model to be used in our API later."
      ],
      "metadata": {
        "id": "uB-QtHWBC9zO"
      }
    },
    {
      "cell_type": "code",
      "source": [
        "spancat_best.to_disk(FOLDER_PATH + \"best-spancat-model\")"
      ],
      "metadata": {
        "id": "fnSI-a_j_8kb"
      },
      "execution_count": null,
      "outputs": []
    }
  ]
}